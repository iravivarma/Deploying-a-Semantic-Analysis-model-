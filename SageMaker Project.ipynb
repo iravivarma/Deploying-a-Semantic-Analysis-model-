{
 "cells": [
  {
   "cell_type": "markdown",
   "metadata": {},
   "source": [
    "# Creating a Sentiment Analysis Web App\n",
    "## Using PyTorch and SageMaker\n",
    "\n",
    "_Deep Learning Nanodegree Program | Deployment_\n",
    "\n",
    "---\n",
    "\n",
    "Now that we have a basic understanding of how SageMaker works we will try to use it to construct a complete project from end to end. Our goal will be to have a simple web page which a user can use to enter a movie review. The web page will then send the review off to our deployed model which will predict the sentiment of the entered review.\n",
    "\n",
    "## Instructions\n",
    "\n",
    "Some template code has already been provided for you, and you will need to implement additional functionality to successfully complete this notebook. You will not need to modify the included code beyond what is requested. Sections that begin with '**TODO**' in the header indicate that you need to complete or implement some portion within them. Instructions will be provided for each section and the specifics of the implementation are marked in the code block with a `# TODO: ...` comment. Please be sure to read the instructions carefully!\n",
    "\n",
    "In addition to implementing code, there will be questions for you to answer which relate to the task and your implementation. Each section where you will answer a question is preceded by a '**Question:**' header. Carefully read each question and provide your answer below the '**Answer:**' header by editing the Markdown cell.\n",
    "\n",
    "> **Note**: Code and Markdown cells can be executed using the **Shift+Enter** keyboard shortcut. In addition, a cell can be edited by typically clicking it (double-click for Markdown cells) or by pressing **Enter** while it is highlighted.\n",
    "\n",
    "## General Outline\n",
    "\n",
    "Recall the general outline for SageMaker projects using a notebook instance.\n",
    "\n",
    "1. Download or otherwise retrieve the data.\n",
    "2. Process / Prepare the data.\n",
    "3. Upload the processed data to S3.\n",
    "4. Train a chosen model.\n",
    "5. Test the trained model (typically using a batch transform job).\n",
    "6. Deploy the trained model.\n",
    "7. Use the deployed model.\n",
    "\n",
    "For this project, you will be following the steps in the general outline with some modifications. \n",
    "\n",
    "First, you will not be testing the model in its own step. You will still be testing the model, however, you will do it by deploying your model and then using the deployed model by sending the test data to it. One of the reasons for doing this is so that you can make sure that your deployed model is working correctly before moving forward.\n",
    "\n",
    "In addition, you will deploy and use your trained model a second time. In the second iteration you will customize the way that your trained model is deployed by including some of your own code. In addition, your newly deployed model will be used in the sentiment analysis web app."
   ]
  },
  {
   "cell_type": "markdown",
   "metadata": {},
   "source": [
    "## Step 1: Downloading the data\n",
    "\n",
    "As in the XGBoost in SageMaker notebook, we will be using the [IMDb dataset](http://ai.stanford.edu/~amaas/data/sentiment/)\n",
    "\n",
    "> Maas, Andrew L., et al. [Learning Word Vectors for Sentiment Analysis](http://ai.stanford.edu/~amaas/data/sentiment/). In _Proceedings of the 49th Annual Meeting of the Association for Computational Linguistics: Human Language Technologies_. Association for Computational Linguistics, 2011."
   ]
  },
  {
   "cell_type": "code",
   "execution_count": 1,
   "metadata": {},
   "outputs": [
    {
     "name": "stdout",
     "output_type": "stream",
     "text": [
      "mkdir: cannot create directory ‘../data’: File exists\n",
      "--2020-04-21 09:46:10--  http://ai.stanford.edu/~amaas/data/sentiment/aclImdb_v1.tar.gz\n",
      "Resolving ai.stanford.edu (ai.stanford.edu)... 171.64.68.10\n",
      "Connecting to ai.stanford.edu (ai.stanford.edu)|171.64.68.10|:80... connected.\n",
      "HTTP request sent, awaiting response... 200 OK\n",
      "Length: 84125825 (80M) [application/x-gzip]\n",
      "Saving to: ‘../data/aclImdb_v1.tar.gz’\n",
      "\n",
      "../data/aclImdb_v1. 100%[===================>]  80.23M  22.7MB/s    in 4.6s    \n",
      "\n",
      "2020-04-21 09:46:15 (17.6 MB/s) - ‘../data/aclImdb_v1.tar.gz’ saved [84125825/84125825]\n",
      "\n"
     ]
    }
   ],
   "source": [
    "%mkdir ../data\n",
    "!wget -O ../data/aclImdb_v1.tar.gz http://ai.stanford.edu/~amaas/data/sentiment/aclImdb_v1.tar.gz\n",
    "!tar -zxf ../data/aclImdb_v1.tar.gz -C ../data"
   ]
  },
  {
   "cell_type": "markdown",
   "metadata": {},
   "source": [
    "## Step 2: Preparing and Processing the data\n",
    "\n",
    "Also, as in the XGBoost notebook, we will be doing some initial data processing. The first few steps are the same as in the XGBoost example. To begin with, we will read in each of the reviews and combine them into a single input structure. Then, we will split the dataset into a training set and a testing set."
   ]
  },
  {
   "cell_type": "code",
   "execution_count": 2,
   "metadata": {},
   "outputs": [],
   "source": [
    "import os\n",
    "import glob\n",
    "\n",
    "def read_imdb_data(data_dir='../data/aclImdb'):\n",
    "    data = {}\n",
    "    labels = {}\n",
    "    \n",
    "    for data_type in ['train', 'test']:\n",
    "        data[data_type] = {}\n",
    "        labels[data_type] = {}\n",
    "        \n",
    "        for sentiment in ['pos', 'neg']:\n",
    "            data[data_type][sentiment] = []\n",
    "            labels[data_type][sentiment] = []\n",
    "            \n",
    "            path = os.path.join(data_dir, data_type, sentiment, '*.txt')\n",
    "            files = glob.glob(path)\n",
    "            \n",
    "            for f in files:\n",
    "                with open(f) as review:\n",
    "                    data[data_type][sentiment].append(review.read())\n",
    "                    # Here we represent a positive review by '1' and a negative review by '0'\n",
    "                    labels[data_type][sentiment].append(1 if sentiment == 'pos' else 0)\n",
    "                    \n",
    "            assert len(data[data_type][sentiment]) == len(labels[data_type][sentiment]), \\\n",
    "                    \"{}/{} data size does not match labels size\".format(data_type, sentiment)\n",
    "                \n",
    "    return data, labels"
   ]
  },
  {
   "cell_type": "code",
   "execution_count": 3,
   "metadata": {},
   "outputs": [
    {
     "name": "stdout",
     "output_type": "stream",
     "text": [
      "IMDB reviews: train = 12500 pos / 12500 neg, test = 12500 pos / 12500 neg\n"
     ]
    }
   ],
   "source": [
    "data, labels = read_imdb_data()\n",
    "print(\"IMDB reviews: train = {} pos / {} neg, test = {} pos / {} neg\".format(\n",
    "            len(data['train']['pos']), len(data['train']['neg']),\n",
    "            len(data['test']['pos']), len(data['test']['neg'])))"
   ]
  },
  {
   "cell_type": "markdown",
   "metadata": {},
   "source": [
    "Now that we've read the raw training and testing data from the downloaded dataset, we will combine the positive and negative reviews and shuffle the resulting records."
   ]
  },
  {
   "cell_type": "code",
   "execution_count": 4,
   "metadata": {},
   "outputs": [],
   "source": [
    "from sklearn.utils import shuffle\n",
    "\n",
    "def prepare_imdb_data(data, labels):\n",
    "    \"\"\"Prepare training and test sets from IMDb movie reviews.\"\"\"\n",
    "    \n",
    "    #Combine positive and negative reviews and labels\n",
    "    data_train = data['train']['pos'] + data['train']['neg']\n",
    "    data_test = data['test']['pos'] + data['test']['neg']\n",
    "    labels_train = labels['train']['pos'] + labels['train']['neg']\n",
    "    labels_test = labels['test']['pos'] + labels['test']['neg']\n",
    "    \n",
    "    #Shuffle reviews and corresponding labels within training and test sets\n",
    "    data_train, labels_train = shuffle(data_train, labels_train)\n",
    "    data_test, labels_test = shuffle(data_test, labels_test)\n",
    "    \n",
    "    # Return a unified training data, test data, training labels, test labets\n",
    "    return data_train, data_test, labels_train, labels_test"
   ]
  },
  {
   "cell_type": "code",
   "execution_count": 5,
   "metadata": {},
   "outputs": [
    {
     "name": "stdout",
     "output_type": "stream",
     "text": [
      "IMDb reviews (combined): train = 25000, test = 25000\n"
     ]
    }
   ],
   "source": [
    "train_X, test_X, train_y, test_y = prepare_imdb_data(data, labels)\n",
    "print(\"IMDb reviews (combined): train = {}, test = {}\".format(len(train_X), len(test_X)))"
   ]
  },
  {
   "cell_type": "markdown",
   "metadata": {},
   "source": [
    "Now that we have our training and testing sets unified and prepared, we should do a quick check and see an example of the data our model will be trained on. This is generally a good idea as it allows you to see how each of the further processing steps affects the reviews and it also ensures that the data has been loaded correctly."
   ]
  },
  {
   "cell_type": "code",
   "execution_count": 7,
   "metadata": {},
   "outputs": [
    {
     "name": "stdout",
     "output_type": "stream",
     "text": [
      "This is the biggest Flop of 2008. I don know what Director has is his mind of creating such a big disaster. The songs have been added without situations, the story have been stretched to fill the 3 hrs gap and most disgusting are the action stunts performed by the actors it's like everyone are having superpowers they can run in between the bullets are fire and nothing happens to them and one person fighting with 100 people. Only the best performance was by Anil Kapoor man he is all time at his best playing the role of villain with a comic act speaking Hinglish... Akki is also done a good job.... But the movieee just forget it.\n",
      "0\n"
     ]
    }
   ],
   "source": [
    "print(train_X[100])\n",
    "print(train_y[100])"
   ]
  },
  {
   "cell_type": "markdown",
   "metadata": {},
   "source": [
    "The first step in processing the reviews is to make sure that any html tags that appear should be removed. In addition we wish to tokenize our input, that way words such as *entertained* and *entertaining* are considered the same with regard to sentiment analysis."
   ]
  },
  {
   "cell_type": "code",
   "execution_count": 8,
   "metadata": {},
   "outputs": [],
   "source": [
    "import nltk\n",
    "from nltk.corpus import stopwords\n",
    "from nltk.stem.porter import *\n",
    "\n",
    "import re\n",
    "from bs4 import BeautifulSoup\n",
    "\n",
    "def review_to_words(review):\n",
    "    nltk.download(\"stopwords\", quiet=True)\n",
    "    stemmer = PorterStemmer()\n",
    "    \n",
    "    text = BeautifulSoup(review, \"html.parser\").get_text() # Remove HTML tags\n",
    "    text = re.sub(r\"[^a-zA-Z0-9]\", \" \", text.lower()) # Convert to lower case\n",
    "    words = text.split() # Split string into words\n",
    "    words = [w for w in words if w not in stopwords.words(\"english\")] # Remove stopwords\n",
    "    words = [PorterStemmer().stem(w) for w in words] # stem\n",
    "    \n",
    "    return words"
   ]
  },
  {
   "cell_type": "markdown",
   "metadata": {},
   "source": [
    "The `review_to_words` method defined above uses `BeautifulSoup` to remove any html tags that appear and uses the `nltk` package to tokenize the reviews. As a check to ensure we know how everything is working, try applying `review_to_words` to one of the reviews in the training set."
   ]
  },
  {
   "cell_type": "code",
   "execution_count": 9,
   "metadata": {},
   "outputs": [
    {
     "data": {
      "text/plain": [
       "['biggest',\n",
       " 'flop',\n",
       " '2008',\n",
       " 'know',\n",
       " 'director',\n",
       " 'mind',\n",
       " 'creat',\n",
       " 'big',\n",
       " 'disast',\n",
       " 'song',\n",
       " 'ad',\n",
       " 'without',\n",
       " 'situat',\n",
       " 'stori',\n",
       " 'stretch',\n",
       " 'fill',\n",
       " '3',\n",
       " 'hr',\n",
       " 'gap',\n",
       " 'disgust',\n",
       " 'action',\n",
       " 'stunt',\n",
       " 'perform',\n",
       " 'actor',\n",
       " 'like',\n",
       " 'everyon',\n",
       " 'superpow',\n",
       " 'run',\n",
       " 'bullet',\n",
       " 'fire',\n",
       " 'noth',\n",
       " 'happen',\n",
       " 'one',\n",
       " 'person',\n",
       " 'fight',\n",
       " '100',\n",
       " 'peopl',\n",
       " 'best',\n",
       " 'perform',\n",
       " 'anil',\n",
       " 'kapoor',\n",
       " 'man',\n",
       " 'time',\n",
       " 'best',\n",
       " 'play',\n",
       " 'role',\n",
       " 'villain',\n",
       " 'comic',\n",
       " 'act',\n",
       " 'speak',\n",
       " 'hinglish',\n",
       " 'akki',\n",
       " 'also',\n",
       " 'done',\n",
       " 'good',\n",
       " 'job',\n",
       " 'moviee',\n",
       " 'forget']"
      ]
     },
     "execution_count": 9,
     "metadata": {},
     "output_type": "execute_result"
    }
   ],
   "source": [
    "# TODO: Apply review_to_words to a review (train_X[100] or any other review)\n",
    "review_to_words(train_X[100])"
   ]
  },
  {
   "cell_type": "markdown",
   "metadata": {},
   "source": [
    "**Question:** Above we mentioned that `review_to_words` method removes html formatting and allows us to tokenize the words found in a review, for example, converting *entertained* and *entertaining* into *entertain* so that they are treated as though they are the same word. What else, if anything, does this method do to the input?"
   ]
  },
  {
   "cell_type": "markdown",
   "metadata": {},
   "source": [
    "**Answer:**removes the HTML Tagging\n",
    "           Tokenizing the word, convert all uppercase letters to lower case letters"
   ]
  },
  {
   "cell_type": "markdown",
   "metadata": {},
   "source": [
    "The method below applies the `review_to_words` method to each of the reviews in the training and testing datasets. In addition it caches the results. This is because performing this processing step can take a long time. This way if you are unable to complete the notebook in the current session, you can come back without needing to process the data a second time."
   ]
  },
  {
   "cell_type": "code",
   "execution_count": 10,
   "metadata": {},
   "outputs": [],
   "source": [
    "import pickle\n",
    "\n",
    "cache_dir = os.path.join(\"../cache\", \"sentiment_analysis\")  # where to store cache files\n",
    "os.makedirs(cache_dir, exist_ok=True)  # ensure cache directory exists\n",
    "\n",
    "def preprocess_data(data_train, data_test, labels_train, labels_test,\n",
    "                    cache_dir=cache_dir, cache_file=\"preprocessed_data.pkl\"):\n",
    "    \"\"\"Convert each review to words; read from cache if available.\"\"\"\n",
    "\n",
    "    # If cache_file is not None, try to read from it first\n",
    "    cache_data = None\n",
    "    if cache_file is not None:\n",
    "        try:\n",
    "            with open(os.path.join(cache_dir, cache_file), \"rb\") as f:\n",
    "                cache_data = pickle.load(f)\n",
    "            print(\"Read preprocessed data from cache file:\", cache_file)\n",
    "        except:\n",
    "            pass  # unable to read from cache, but that's okay\n",
    "    \n",
    "    # If cache is missing, then do the heavy lifting\n",
    "    if cache_data is None:\n",
    "        # Preprocess training and test data to obtain words for each review\n",
    "        #words_train = list(map(review_to_words, data_train))\n",
    "        #words_test = list(map(review_to_words, data_test))\n",
    "        words_train = [review_to_words(review) for review in data_train]\n",
    "        words_test = [review_to_words(review) for review in data_test]\n",
    "        \n",
    "        # Write to cache file for future runs\n",
    "        if cache_file is not None:\n",
    "            cache_data = dict(words_train=words_train, words_test=words_test,\n",
    "                              labels_train=labels_train, labels_test=labels_test)\n",
    "            with open(os.path.join(cache_dir, cache_file), \"wb\") as f:\n",
    "                pickle.dump(cache_data, f)\n",
    "            print(\"Wrote preprocessed data to cache file:\", cache_file)\n",
    "    else:\n",
    "        # Unpack data loaded from cache file\n",
    "        words_train, words_test, labels_train, labels_test = (cache_data['words_train'],\n",
    "                cache_data['words_test'], cache_data['labels_train'], cache_data['labels_test'])\n",
    "    \n",
    "    return words_train, words_test, labels_train, labels_test"
   ]
  },
  {
   "cell_type": "code",
   "execution_count": 11,
   "metadata": {},
   "outputs": [
    {
     "name": "stdout",
     "output_type": "stream",
     "text": [
      "Read preprocessed data from cache file: preprocessed_data.pkl\n"
     ]
    }
   ],
   "source": [
    "# Preprocess data\n",
    "train_X, test_X, train_y, test_y = preprocess_data(train_X, test_X, train_y, test_y)"
   ]
  },
  {
   "cell_type": "markdown",
   "metadata": {},
   "source": [
    "## Transform the data\n",
    "\n",
    "In the XGBoost notebook we transformed the data from its word representation to a bag-of-words feature representation. For the model we are going to construct in this notebook we will construct a feature representation which is very similar. To start, we will represent each word as an integer. Of course, some of the words that appear in the reviews occur very infrequently and so likely don't contain much information for the purposes of sentiment analysis. The way we will deal with this problem is that we will fix the size of our working vocabulary and we will only include the words that appear most frequently. We will then combine all of the infrequent words into a single category and, in our case, we will label it as `1`.\n",
    "\n",
    "Since we will be using a recurrent neural network, it will be convenient if the length of each review is the same. To do this, we will fix a size for our reviews and then pad short reviews with the category 'no word' (which we will label `0`) and truncate long reviews."
   ]
  },
  {
   "cell_type": "markdown",
   "metadata": {},
   "source": [
    "### (TODO) Create a word dictionary\n",
    "\n",
    "To begin with, we need to construct a way to map words that appear in the reviews to integers. Here we fix the size of our vocabulary (including the 'no word' and 'infrequent' categories) to be `5000` but you may wish to change this to see how it affects the model.\n",
    "\n",
    "> **TODO:** Complete the implementation for the `build_dict()` method below. Note that even though the vocab_size is set to `5000`, we only want to construct a mapping for the most frequently appearing `4998` words. This is because we want to reserve the special labels `0` for 'no word' and `1` for 'infrequent word'."
   ]
  },
  {
   "cell_type": "code",
   "execution_count": 12,
   "metadata": {},
   "outputs": [],
   "source": [
    "import numpy as np\n",
    "\n",
    "def build_dict(data, vocab_size = 5000):\n",
    "    \"\"\"Construct and return a dictionary mapping each of the most frequently appearing words to a unique integer.\"\"\"\n",
    "    \n",
    "    # TODO: Determine how often each word appears in `data`. Note that `data` is a list of sentences and that a\n",
    "    #       sentence is a list of words.\n",
    "    \n",
    "    word_count = {} # A dict storing the words that appear in the reviews along with how often they occur\n",
    "    \n",
    "    for review in data:\n",
    "        for word in review:\n",
    "            if word in word_count:\n",
    "                word_count[word] += 1\n",
    "            else: \n",
    "                word_count[word] = 1\n",
    "                \n",
    "    sorted_word_list =sorted(word_count.items(), key=lambda x: x[1], reverse=True)\n",
    "    \n",
    "    sorted_words = [k for k,_ in sorted_word_list]\n",
    "    \n",
    "    sorted_word_list = None\n",
    "    # TODO: Sort the words found in `data` so that sorted_words[0] is the most frequently appearing word and\n",
    "    #       sorted_words[-1] is the least frequently appearing word.\n",
    "    \n",
    "    word_dict = {} # This is what we are building, a dictionary that translates words into integers\n",
    "    for idx, word in enumerate(sorted_words[:vocab_size - 2]): # The -2 is so that we save room for the 'no word'\n",
    "        word_dict[word] = idx + 2                              # 'infrequent' labels\n",
    "        \n",
    "    return word_dict"
   ]
  },
  {
   "cell_type": "code",
   "execution_count": 13,
   "metadata": {},
   "outputs": [
    {
     "name": "stdout",
     "output_type": "stream",
     "text": [
      "{'movi': 2, 'film': 3, 'one': 4, 'like': 5, 'time': 6, 'good': 7, 'make': 8, 'charact': 9, 'get': 10, 'see': 11, 'watch': 12, 'stori': 13, 'even': 14, 'would': 15, 'realli': 16, 'well': 17, 'scene': 18, 'look': 19, 'show': 20, 'much': 21, 'end': 22, 'peopl': 23, 'bad': 24, 'go': 25, 'great': 26, 'also': 27, 'first': 28, 'love': 29, 'think': 30, 'way': 31, 'act': 32, 'play': 33, 'made': 34, 'thing': 35, 'could': 36, 'know': 37, 'say': 38, 'seem': 39, 'work': 40, 'plot': 41, 'two': 42, 'actor': 43, 'year': 44, 'come': 45, 'mani': 46, 'seen': 47, 'take': 48, 'want': 49, 'life': 50, 'never': 51, 'littl': 52, 'best': 53, 'tri': 54, 'man': 55, 'ever': 56, 'give': 57, 'better': 58, 'still': 59, 'perform': 60, 'find': 61, 'feel': 62, 'part': 63, 'back': 64, 'use': 65, 'someth': 66, 'director': 67, 'actual': 68, 'interest': 69, 'lot': 70, 'real': 71, 'old': 72, 'cast': 73, 'though': 74, 'live': 75, 'star': 76, 'enjoy': 77, 'guy': 78, 'anoth': 79, 'new': 80, 'role': 81, 'noth': 82, '10': 83, 'funni': 84, 'music': 85, 'point': 86, 'start': 87, 'set': 88, 'girl': 89, 'origin': 90, 'day': 91, 'world': 92, 'everi': 93, 'believ': 94, 'turn': 95, 'quit': 96, 'us': 97, 'direct': 98, 'thought': 99, 'fact': 100, 'minut': 101, 'horror': 102, 'kill': 103, 'action': 104, 'comedi': 105, 'pretti': 106, 'young': 107, 'wonder': 108, 'happen': 109, 'around': 110, 'got': 111, 'effect': 112, 'right': 113, 'long': 114, 'howev': 115, 'big': 116, 'line': 117, 'famili': 118, 'enough': 119, 'seri': 120, 'may': 121, 'need': 122, 'fan': 123, 'bit': 124, 'script': 125, 'beauti': 126, 'person': 127, 'becom': 128, 'without': 129, 'must': 130, 'alway': 131, 'friend': 132, 'tell': 133, 'reason': 134, 'saw': 135, 'last': 136, 'final': 137, 'kid': 138, 'almost': 139, 'put': 140, 'least': 141, 'sure': 142, 'done': 143, 'whole': 144, 'place': 145, 'complet': 146, 'kind': 147, 'differ': 148, 'expect': 149, 'shot': 150, 'far': 151, 'mean': 152, 'anyth': 153, 'book': 154, 'laugh': 155, 'might': 156, 'name': 157, 'sinc': 158, 'begin': 159, '2': 160, 'probabl': 161, 'woman': 162, 'help': 163, 'entertain': 164, 'let': 165, 'screen': 166, 'call': 167, 'tv': 168, 'moment': 169, 'away': 170, 'read': 171, 'yet': 172, 'rather': 173, 'worst': 174, 'run': 175, 'fun': 176, 'lead': 177, 'hard': 178, 'audienc': 179, 'idea': 180, 'anyon': 181, 'episod': 182, 'american': 183, 'found': 184, 'appear': 185, 'bore': 186, 'especi': 187, 'although': 188, 'hope': 189, 'keep': 190, 'cours': 191, 'anim': 192, 'job': 193, 'goe': 194, 'move': 195, 'sens': 196, 'dvd': 197, 'version': 198, 'war': 199, 'money': 200, 'someon': 201, 'mind': 202, 'mayb': 203, 'problem': 204, 'true': 205, 'hous': 206, 'everyth': 207, 'nice': 208, 'second': 209, 'rate': 210, 'three': 211, 'night': 212, 'face': 213, 'follow': 214, 'recommend': 215, 'product': 216, 'main': 217, 'worth': 218, 'leav': 219, 'human': 220, 'special': 221, 'excel': 222, 'togeth': 223, 'wast': 224, 'sound': 225, 'everyon': 226, 'john': 227, 'hand': 228, '1': 229, 'father': 230, 'later': 231, 'eye': 232, 'said': 233, 'view': 234, 'instead': 235, 'review': 236, 'boy': 237, 'high': 238, 'hour': 239, 'miss': 240, 'classic': 241, 'talk': 242, 'wife': 243, 'understand': 244, 'left': 245, 'care': 246, 'black': 247, 'death': 248, 'open': 249, 'murder': 250, 'write': 251, 'half': 252, 'head': 253, 'rememb': 254, 'chang': 255, 'viewer': 256, 'fight': 257, 'gener': 258, 'surpris': 259, 'includ': 260, 'short': 261, 'die': 262, 'fall': 263, 'less': 264, 'els': 265, 'entir': 266, 'piec': 267, 'involv': 268, 'pictur': 269, 'simpli': 270, 'home': 271, 'power': 272, 'top': 273, 'total': 274, 'usual': 275, 'budget': 276, 'attempt': 277, 'suppos': 278, 'releas': 279, 'hollywood': 280, 'terribl': 281, 'song': 282, 'men': 283, 'possibl': 284, 'featur': 285, 'portray': 286, 'disappoint': 287, 'poor': 288, '3': 289, 'coupl': 290, 'camera': 291, 'stupid': 292, 'dead': 293, 'wrong': 294, 'low': 295, 'produc': 296, 'video': 297, 'either': 298, 'aw': 299, 'definit': 300, 'except': 301, 'rest': 302, 'given': 303, 'absolut': 304, 'women': 305, 'lack': 306, 'word': 307, 'writer': 308, 'titl': 309, 'talent': 310, 'decid': 311, 'full': 312, 'perfect': 313, 'along': 314, 'style': 315, 'close': 316, 'truli': 317, 'school': 318, 'save': 319, 'emot': 320, 'sex': 321, 'age': 322, 'next': 323, 'bring': 324, 'mr': 325, 'case': 326, 'killer': 327, 'heart': 328, 'comment': 329, 'sort': 330, 'creat': 331, 'perhap': 332, 'came': 333, 'brother': 334, 'sever': 335, 'joke': 336, 'art': 337, 'dialogu': 338, 'game': 339, 'small': 340, 'base': 341, 'flick': 342, 'written': 343, 'sequenc': 344, 'meet': 345, 'earli': 346, 'often': 347, 'other': 348, 'mother': 349, 'develop': 350, 'humor': 351, 'actress': 352, 'consid': 353, 'dark': 354, 'guess': 355, 'amaz': 356, 'unfortun': 357, 'light': 358, 'lost': 359, 'exampl': 360, 'cinema': 361, 'drama': 362, 'white': 363, 'ye': 364, 'experi': 365, 'imagin': 366, 'mention': 367, 'stop': 368, 'natur': 369, 'forc': 370, 'manag': 371, 'felt': 372, 'present': 373, 'cut': 374, 'children': 375, 'fail': 376, 'son': 377, 'car': 378, 'support': 379, 'qualiti': 380, 'ask': 381, 'hit': 382, 'side': 383, 'voic': 384, 'extrem': 385, 'impress': 386, 'evil': 387, 'wors': 388, 'went': 389, 'stand': 390, 'certainli': 391, 'basic': 392, 'oh': 393, 'overal': 394, 'favorit': 395, 'horribl': 396, 'mysteri': 397, 'number': 398, 'type': 399, 'danc': 400, 'wait': 401, 'hero': 402, 'alreadi': 403, '5': 404, 'learn': 405, 'matter': 406, '4': 407, 'michael': 408, 'genr': 409, 'fine': 410, 'despit': 411, 'throughout': 412, 'walk': 413, 'success': 414, 'histori': 415, 'question': 416, 'zombi': 417, 'town': 418, 'realiz': 419, 'relationship': 420, 'past': 421, 'child': 422, 'daughter': 423, 'late': 424, 'b': 425, 'wish': 426, 'credit': 427, 'hate': 428, 'event': 429, 'theme': 430, 'touch': 431, 'citi': 432, 'today': 433, 'sometim': 434, 'behind': 435, 'god': 436, 'twist': 437, 'sit': 438, 'deal': 439, 'stay': 440, 'annoy': 441, 'abl': 442, 'rent': 443, 'pleas': 444, 'edit': 445, 'blood': 446, 'deserv': 447, 'comic': 448, 'anyway': 449, 'appar': 450, 'soon': 451, 'gave': 452, 'etc': 453, 'level': 454, 'slow': 455, 'chanc': 456, 'score': 457, 'bodi': 458, 'brilliant': 459, 'incred': 460, 'figur': 461, 'situat': 462, 'major': 463, 'self': 464, 'stuff': 465, 'decent': 466, 'element': 467, 'dream': 468, 'return': 469, 'obvious': 470, 'order': 471, 'continu': 472, 'pace': 473, 'ridicul': 474, 'happi': 475, 'add': 476, 'highli': 477, 'group': 478, 'thank': 479, 'ladi': 480, 'novel': 481, 'speak': 482, 'pain': 483, 'career': 484, 'shoot': 485, 'strang': 486, 'heard': 487, 'sad': 488, 'polic': 489, 'husband': 490, 'import': 491, 'break': 492, 'took': 493, 'strong': 494, 'cannot': 495, 'robert': 496, 'predict': 497, 'violenc': 498, 'hilari': 499, 'recent': 500, 'countri': 501, 'known': 502, 'particularli': 503, 'pick': 504, 'documentari': 505, 'season': 506, 'critic': 507, 'jame': 508, 'compar': 509, 'alon': 510, 'obviou': 511, 'told': 512, 'state': 513, 'rock': 514, 'visual': 515, 'offer': 516, 'theater': 517, 'exist': 518, 'opinion': 519, 'gore': 520, 'crap': 521, 'hold': 522, 'result': 523, 'hear': 524, 'realiti': 525, 'room': 526, 'clich': 527, 'effort': 528, 'thriller': 529, 'caus': 530, 'sequel': 531, 'serious': 532, 'explain': 533, 'king': 534, 'local': 535, 'ago': 536, 'none': 537, 'hell': 538, 'note': 539, 'allow': 540, 'david': 541, 'sister': 542, 'simpl': 543, 'femal': 544, 'deliv': 545, 'ok': 546, 'convinc': 547, 'class': 548, 'check': 549, 'suspens': 550, 'win': 551, 'oscar': 552, 'buy': 553, 'huge': 554, 'valu': 555, 'sexual': 556, 'scari': 557, 'cool': 558, 'excit': 559, 'similar': 560, 'exactli': 561, 'apart': 562, 'provid': 563, 'shown': 564, 'avoid': 565, 'seriou': 566, 'english': 567, 'taken': 568, 'whose': 569, 'cinematographi': 570, 'shock': 571, 'polit': 572, 'spoiler': 573, 'offic': 574, 'across': 575, 'middl': 576, 'street': 577, 'pass': 578, 'messag': 579, 'somewhat': 580, 'charm': 581, 'silli': 582, 'modern': 583, 'filmmak': 584, 'confus': 585, 'form': 586, 'tale': 587, 'singl': 588, 'jack': 589, 'mostli': 590, 'attent': 591, 'carri': 592, 'william': 593, 'sing': 594, 'five': 595, 'subject': 596, 'prove': 597, 'richard': 598, 'team': 599, 'stage': 600, 'cop': 601, 'unlik': 602, 'georg': 603, 'televis': 604, 'monster': 605, 'earth': 606, 'cover': 607, 'villain': 608, 'pay': 609, 'marri': 610, 'toward': 611, 'build': 612, 'pull': 613, 'parent': 614, 'due': 615, 'fill': 616, 'respect': 617, 'dialog': 618, 'four': 619, 'remind': 620, 'futur': 621, 'typic': 622, 'weak': 623, '7': 624, 'cheap': 625, 'intellig': 626, 'atmospher': 627, 'british': 628, '80': 629, 'clearli': 630, 'non': 631, 'paul': 632, 'dog': 633, '8': 634, 'fast': 635, 'artist': 636, 'knew': 637, 'crime': 638, 'easili': 639, 'escap': 640, 'doubt': 641, 'adult': 642, 'detail': 643, 'date': 644, 'fire': 645, 'romant': 646, 'member': 647, 'drive': 648, 'gun': 649, 'straight': 650, 'fit': 651, 'beyond': 652, 'attack': 653, 'imag': 654, 'upon': 655, 'posit': 656, 'whether': 657, 'peter': 658, 'fantast': 659, 'aspect': 660, 'captur': 661, 'appreci': 662, 'ten': 663, 'plan': 664, 'discov': 665, 'remain': 666, 'period': 667, 'near': 668, 'realist': 669, 'air': 670, 'mark': 671, 'red': 672, 'dull': 673, 'adapt': 674, 'within': 675, 'spend': 676, 'lose': 677, 'materi': 678, 'color': 679, 'chase': 680, 'mari': 681, 'storylin': 682, 'forget': 683, 'bunch': 684, 'clear': 685, 'lee': 686, 'victim': 687, 'nearli': 688, 'box': 689, 'york': 690, 'match': 691, 'inspir': 692, 'mess': 693, 'finish': 694, 'standard': 695, 'easi': 696, 'truth': 697, 'busi': 698, 'suffer': 699, 'dramat': 700, 'bill': 701, 'space': 702, 'western': 703, 'e': 704, 'list': 705, 'battl': 706, 'notic': 707, 'de': 708, 'french': 709, 'ad': 710, '9': 711, 'tom': 712, 'larg': 713, 'among': 714, 'eventu': 715, 'accept': 716, 'train': 717, 'agre': 718, 'spirit': 719, 'soundtrack': 720, 'third': 721, 'teenag': 722, 'soldier': 723, 'adventur': 724, 'sorri': 725, 'suggest': 726, 'drug': 727, 'famou': 728, 'babi': 729, 'cri': 730, 'normal': 731, 'troubl': 732, 'ultim': 733, 'contain': 734, 'certain': 735, 'cultur': 736, 'romanc': 737, 'rare': 738, 'lame': 739, 'somehow': 740, 'mix': 741, 'disney': 742, 'gone': 743, 'cartoon': 744, 'student': 745, 'fear': 746, 'reveal': 747, 'suck': 748, 'kept': 749, 'attract': 750, 'appeal': 751, 'premis': 752, 'design': 753, 'secret': 754, 'greatest': 755, 'shame': 756, 'throw': 757, 'scare': 758, 'copi': 759, 'wit': 760, 'admit': 761, 'america': 762, 'particular': 763, 'relat': 764, 'brought': 765, 'screenplay': 766, 'whatev': 767, 'pure': 768, '70': 769, 'harri': 770, 'averag': 771, 'master': 772, 'describ': 773, 'treat': 774, 'male': 775, '20': 776, 'fantasi': 777, 'issu': 778, 'warn': 779, 'inde': 780, 'forward': 781, 'background': 782, 'project': 783, 'free': 784, 'memor': 785, 'japanes': 786, 'poorli': 787, 'award': 788, 'locat': 789, 'amus': 790, 'potenti': 791, 'struggl': 792, 'magic': 793, 'weird': 794, 'societi': 795, 'okay': 796, 'imdb': 797, 'doctor': 798, 'accent': 799, 'hot': 800, 'water': 801, 'dr': 802, '30': 803, 'express': 804, 'alien': 805, 'odd': 806, 'choic': 807, 'crazi': 808, 'studio': 809, 'fiction': 810, 'becam': 811, 'control': 812, 'masterpiec': 813, 'difficult': 814, 'fli': 815, 'joe': 816, 'scream': 817, 'costum': 818, 'lover': 819, 'uniqu': 820, 'refer': 821, 'remak': 822, 'girlfriend': 823, 'vampir': 824, 'prison': 825, 'execut': 826, 'wear': 827, 'jump': 828, 'unless': 829, 'wood': 830, 'creepi': 831, 'cheesi': 832, 'superb': 833, 'otherwis': 834, 'parti': 835, 'roll': 836, 'ghost': 837, 'mad': 838, 'public': 839, 'depict': 840, 'earlier': 841, 'moral': 842, 'week': 843, 'jane': 844, 'badli': 845, 'dumb': 846, 'fi': 847, 'grow': 848, 'flaw': 849, 'sci': 850, 'deep': 851, 'maker': 852, 'cat': 853, 'footag': 854, 'connect': 855, 'older': 856, 'plenti': 857, 'bother': 858, 'outsid': 859, 'stick': 860, 'gay': 861, 'catch': 862, 'plu': 863, 'co': 864, 'popular': 865, 'equal': 866, 'social': 867, 'disturb': 868, 'quickli': 869, 'perfectli': 870, 'dress': 871, '90': 872, 'era': 873, 'mistak': 874, 'lie': 875, 'ride': 876, 'previou': 877, 'combin': 878, 'concept': 879, 'band': 880, 'answer': 881, 'rich': 882, 'surviv': 883, 'front': 884, 'christma': 885, 'sweet': 886, 'insid': 887, 'bare': 888, 'concern': 889, 'eat': 890, 'ben': 891, 'beat': 892, 'listen': 893, 'c': 894, 'serv': 895, 'term': 896, 'german': 897, 'meant': 898, 'la': 899, 'stereotyp': 900, 'hardli': 901, 'law': 902, 'innoc': 903, 'desper': 904, 'promis': 905, 'memori': 906, 'intent': 907, 'cute': 908, 'inform': 909, 'steal': 910, 'variou': 911, 'brain': 912, 'post': 913, 'tone': 914, 'island': 915, 'amount': 916, 'nuditi': 917, 'track': 918, 'compani': 919, 'claim': 920, 'store': 921, 'hair': 922, '50': 923, 'flat': 924, 'land': 925, 'univers': 926, 'danger': 927, 'kick': 928, 'scott': 929, 'fairli': 930, 'player': 931, 'step': 932, 'plain': 933, 'crew': 934, 'toni': 935, 'share': 936, 'centuri': 937, 'tast': 938, 'engag': 939, 'achiev': 940, 'cold': 941, 'travel': 942, 'record': 943, 'rip': 944, 'suit': 945, 'sadli': 946, 'manner': 947, 'spot': 948, 'wrote': 949, 'tension': 950, 'intens': 951, 'fascin': 952, 'familiar': 953, 'burn': 954, 'remark': 955, 'depth': 956, 'destroy': 957, 'histor': 958, 'sleep': 959, 'purpos': 960, 'languag': 961, 'ruin': 962, 'ignor': 963, 'delight': 964, 'unbeliev': 965, 'italian': 966, 'collect': 967, 'abil': 968, 'soul': 969, 'clever': 970, 'detect': 971, 'violent': 972, 'rape': 973, 'reach': 974, 'door': 975, 'trash': 976, 'scienc': 977, 'liter': 978, 'caught': 979, 'commun': 980, 'reveng': 981, 'creatur': 982, 'approach': 983, 'trip': 984, 'fashion': 985, 'intrigu': 986, 'paint': 987, 'introduc': 988, 'skill': 989, 'channel': 990, 'complex': 991, 'camp': 992, 'christian': 993, 'hole': 994, 'extra': 995, 'limit': 996, 'mental': 997, 'ann': 998, 'immedi': 999, 'comput': 1000, 'million': 1001, 'mere': 1002, '6': 1003, 'slightli': 1004, 'conclus': 1005, 'slasher': 1006, 'suddenli': 1007, 'imposs': 1008, 'crimin': 1009, 'teen': 1010, 'neither': 1011, 'spent': 1012, 'nation': 1013, 'physic': 1014, 'respons': 1015, 'planet': 1016, 'receiv': 1017, 'fake': 1018, 'sick': 1019, 'blue': 1020, 'bizarr': 1021, 'embarrass': 1022, 'indian': 1023, '15': 1024, 'ring': 1025, 'drop': 1026, 'pop': 1027, 'drag': 1028, 'haunt': 1029, 'suspect': 1030, 'pointless': 1031, 'edg': 1032, 'search': 1033, 'handl': 1034, 'biggest': 1035, 'common': 1036, 'faith': 1037, 'arriv': 1038, 'hurt': 1039, 'technic': 1040, 'angel': 1041, 'genuin': 1042, 'dad': 1043, 'f': 1044, 'solid': 1045, 'awesom': 1046, 'focu': 1047, 'colleg': 1048, 'van': 1049, 'former': 1050, 'count': 1051, 'tear': 1052, 'heavi': 1053, 'rais': 1054, 'wall': 1055, 'younger': 1056, 'visit': 1057, 'laughabl': 1058, 'excus': 1059, 'sign': 1060, 'fair': 1061, 'cult': 1062, 'tough': 1063, 'motion': 1064, 'key': 1065, 'desir': 1066, 'super': 1067, 'stun': 1068, 'addit': 1069, 'cloth': 1070, 'exploit': 1071, 'tortur': 1072, 'smith': 1073, 'race': 1074, 'davi': 1075, 'cross': 1076, 'author': 1077, 'jim': 1078, 'consist': 1079, 'focus': 1080, 'minor': 1081, 'compel': 1082, 'pathet': 1083, 'commit': 1084, 'chemistri': 1085, 'park': 1086, 'obsess': 1087, 'frank': 1088, 'tradit': 1089, 'grade': 1090, '60': 1091, 'asid': 1092, 'brutal': 1093, 'somewher': 1094, 'steve': 1095, 'rule': 1096, 'opportun': 1097, 'grant': 1098, 'u': 1099, 'depress': 1100, 'explor': 1101, 'honest': 1102, 'besid': 1103, 'anti': 1104, 'dub': 1105, 'intend': 1106, 'trailer': 1107, 'bar': 1108, 'regard': 1109, 'west': 1110, 'scientist': 1111, 'longer': 1112, 'judg': 1113, 'decad': 1114, 'silent': 1115, 'armi': 1116, 'creativ': 1117, 'wild': 1118, 'south': 1119, 'g': 1120, 'stewart': 1121, 'draw': 1122, 'road': 1123, 'govern': 1124, 'boss': 1125, 'ex': 1126, 'practic': 1127, 'club': 1128, 'motiv': 1129, 'festiv': 1130, 'surprisingli': 1131, 'gang': 1132, 'redeem': 1133, 'green': 1134, 'london': 1135, 'page': 1136, 'aliv': 1137, 'idiot': 1138, 'militari': 1139, 'machin': 1140, 'display': 1141, 'thrill': 1142, 'repeat': 1143, 'nobodi': 1144, 'folk': 1145, '100': 1146, 'yeah': 1147, '40': 1148, 'garbag': 1149, 'journey': 1150, 'tire': 1151, 'smile': 1152, 'ground': 1153, 'mood': 1154, 'bought': 1155, 'cost': 1156, 'stone': 1157, 'sam': 1158, 'noir': 1159, 'mouth': 1160, 'agent': 1161, 'terrif': 1162, 'requir': 1163, 'utterli': 1164, 'area': 1165, 'sexi': 1166, 'honestli': 1167, 'geniu': 1168, 'report': 1169, 'glad': 1170, 'humour': 1171, 'enter': 1172, 'investig': 1173, 'serial': 1174, 'occasion': 1175, 'narr': 1176, 'passion': 1177, 'marriag': 1178, 'climax': 1179, 'industri': 1180, 'studi': 1181, 'center': 1182, 'nowher': 1183, 'charli': 1184, 'ship': 1185, 'demon': 1186, 'hors': 1187, 'loos': 1188, 'bear': 1189, 'wow': 1190, 'hang': 1191, 'graphic': 1192, 'admir': 1193, 'giant': 1194, 'send': 1195, 'loud': 1196, 'damn': 1197, 'subtl': 1198, 'rel': 1199, 'profession': 1200, 'nake': 1201, 'blow': 1202, 'bottom': 1203, 'insult': 1204, 'batman': 1205, 'kelli': 1206, 'boyfriend': 1207, 'r': 1208, 'doubl': 1209, 'initi': 1210, 'frame': 1211, 'opera': 1212, 'gem': 1213, 'affect': 1214, 'challeng': 1215, 'church': 1216, 'drawn': 1217, 'cinemat': 1218, 'seek': 1219, 'fulli': 1220, 'evid': 1221, 'nightmar': 1222, 'l': 1223, 'j': 1224, 'arm': 1225, 'essenti': 1226, 'conflict': 1227, 'grace': 1228, 'christoph': 1229, 'henri': 1230, 'wind': 1231, 'assum': 1232, 'witch': 1233, 'narrat': 1234, 'hunt': 1235, 'push': 1236, 'wise': 1237, 'chri': 1238, 'month': 1239, 'repres': 1240, 'nomin': 1241, 'hide': 1242, 'sceneri': 1243, 'avail': 1244, 'affair': 1245, 'smart': 1246, 'thu': 1247, 'justic': 1248, 'bond': 1249, 'interview': 1250, 'outstand': 1251, 'flashback': 1252, 'satisfi': 1253, 'presenc': 1254, 'constantli': 1255, 'bed': 1256, 'central': 1257, 'sell': 1258, 'content': 1259, 'iron': 1260, 'gag': 1261, 'everybodi': 1262, 'slowli': 1263, 'hotel': 1264, 'hire': 1265, 'system': 1266, 'hey': 1267, 'individu': 1268, 'adam': 1269, 'charl': 1270, 'thrown': 1271, 'jone': 1272, 'mediocr': 1273, 'allen': 1274, 'lesson': 1275, 'billi': 1276, 'ray': 1277, 'photographi': 1278, 'cameo': 1279, 'fellow': 1280, 'pari': 1281, 'strike': 1282, 'rise': 1283, 'absurd': 1284, 'brief': 1285, 'independ': 1286, 'neg': 1287, 'impact': 1288, 'phone': 1289, 'ill': 1290, 'born': 1291, 'model': 1292, 'fresh': 1293, 'spoil': 1294, 'angl': 1295, 'abus': 1296, 'likabl': 1297, 'discuss': 1298, 'hill': 1299, 'ahead': 1300, 'sight': 1301, 'photograph': 1302, 'sent': 1303, 'logic': 1304, 'occur': 1305, 'shine': 1306, 'blame': 1307, 'mainli': 1308, 'bruce': 1309, 'forev': 1310, 'commerci': 1311, 'skip': 1312, 'surround': 1313, 'teacher': 1314, 'segment': 1315, 'held': 1316, 'blond': 1317, 'zero': 1318, 'satir': 1319, 'summer': 1320, 'trap': 1321, 'resembl': 1322, 'six': 1323, 'fool': 1324, 'ball': 1325, 'queen': 1326, 'tragedi': 1327, 'sub': 1328, 'twice': 1329, 'reaction': 1330, 'pack': 1331, 'bomb': 1332, 'hospit': 1333, 'will': 1334, 'protagonist': 1335, 'mile': 1336, 'sport': 1337, 'vote': 1338, 'trust': 1339, 'drink': 1340, 'mom': 1341, 'jerri': 1342, 'encount': 1343, 'plane': 1344, 'current': 1345, 'station': 1346, 'al': 1347, 'program': 1348, 'martin': 1349, 'celebr': 1350, 'choos': 1351, 'join': 1352, 'lord': 1353, 'tragic': 1354, 'field': 1355, 'round': 1356, 'favourit': 1357, 'vision': 1358, 'jean': 1359, 'robot': 1360, 'arthur': 1361, 'tie': 1362, 'roger': 1363, 'fortun': 1364, 'random': 1365, 'dread': 1366, 'intern': 1367, 'psycholog': 1368, 'epic': 1369, 'nonsens': 1370, 'improv': 1371, 'prefer': 1372, 'formula': 1373, 'pleasur': 1374, 'highlight': 1375, 'legend': 1376, '11': 1377, 'dollar': 1378, 'tape': 1379, 'thin': 1380, 'porn': 1381, 'object': 1382, 'gorgeou': 1383, 'wide': 1384, 'fox': 1385, 'influenc': 1386, 'buddi': 1387, 'ugli': 1388, 'ii': 1389, 'prepar': 1390, 'nasti': 1391, 'supposedli': 1392, 'reflect': 1393, 'warm': 1394, 'progress': 1395, 'youth': 1396, 'worthi': 1397, 'latter': 1398, 'length': 1399, 'unusu': 1400, 'crash': 1401, 'superior': 1402, 'seven': 1403, 'shop': 1404, 'childhood': 1405, 'remot': 1406, 'theatr': 1407, 'paid': 1408, 'disgust': 1409, 'pilot': 1410, 'funniest': 1411, 'trick': 1412, 'convers': 1413, 'fell': 1414, 'castl': 1415, 'gangster': 1416, 'establish': 1417, 'rob': 1418, 'disast': 1419, 'suicid': 1420, 'mine': 1421, 'ident': 1422, 'heaven': 1423, 'disappear': 1424, 'singer': 1425, 'tend': 1426, 'forgotten': 1427, 'decis': 1428, 'heroin': 1429, 'mask': 1430, 'partner': 1431, 'brian': 1432, 'recogn': 1433, 'alan': 1434, 'desert': 1435, 'stuck': 1436, 'thoroughli': 1437, 'p': 1438, 'sky': 1439, 'ms': 1440, 'replac': 1441, 'accur': 1442, 'market': 1443, 'clue': 1444, 'commentari': 1445, 'danni': 1446, 'seemingli': 1447, 'andi': 1448, 'uncl': 1449, 'eddi': 1450, 'devil': 1451, 'jackson': 1452, 'refus': 1453, 'pair': 1454, 'that': 1455, 'therefor': 1456, 'fate': 1457, 'fault': 1458, 'accid': 1459, 'ed': 1460, 'river': 1461, 'unit': 1462, 'afraid': 1463, 'tune': 1464, 'stephen': 1465, 'clean': 1466, 'russian': 1467, 'hidden': 1468, 'captain': 1469, 'quick': 1470, 'readi': 1471, 'test': 1472, 'irrit': 1473, 'convey': 1474, 'instanc': 1475, 'european': 1476, 'frustrat': 1477, 'daniel': 1478, 'insan': 1479, '1950': 1480, 'chines': 1481, 'wed': 1482, 'rescu': 1483, 'food': 1484, 'dirti': 1485, 'angri': 1486, 'lock': 1487, 'joy': 1488, 'steven': 1489, 'price': 1490, 'bland': 1491, 'cage': 1492, 'rang': 1493, 'anymor': 1494, 'wooden': 1495, 'rush': 1496, 'news': 1497, 'jason': 1498, 'n': 1499, 'led': 1500, 'board': 1501, '12': 1502, 'twenti': 1503, 'worri': 1504, 'martial': 1505, 'transform': 1506, 'symbol': 1507, 'hunter': 1508, 'cgi': 1509, 'invent': 1510, 'johnni': 1511, 'piti': 1512, 'sentiment': 1513, 'onto': 1514, 'x': 1515, 'explan': 1516, 'attitud': 1517, 'process': 1518, 'awar': 1519, 'owner': 1520, 'aim': 1521, 'energi': 1522, 'necessari': 1523, 'floor': 1524, 'favor': 1525, 'target': 1526, 'opposit': 1527, 'religi': 1528, 'chick': 1529, 'insight': 1530, 'window': 1531, 'blind': 1532, 'movement': 1533, 'research': 1534, 'possess': 1535, 'mountain': 1536, 'deepli': 1537, 'comparison': 1538, 'whatsoev': 1539, 'rain': 1540, 'grand': 1541, 'comed': 1542, 'began': 1543, 'shadow': 1544, 'mid': 1545, 'bank': 1546, 'princ': 1547, 'parodi': 1548, 'friendship': 1549, 'pre': 1550, 'credibl': 1551, 'weapon': 1552, 'taylor': 1553, 'flesh': 1554, 'teach': 1555, 'dougla': 1556, 'protect': 1557, 'bloodi': 1558, 'hint': 1559, 'terror': 1560, 'marvel': 1561, 'leader': 1562, 'load': 1563, 'anybodi': 1564, 'drunk': 1565, 'accord': 1566, 'watchabl': 1567, 'superman': 1568, 'freddi': 1569, 'brown': 1570, 'seat': 1571, 'hitler': 1572, 'jeff': 1573, 'tim': 1574, 'appropri': 1575, 'unknown': 1576, 'knock': 1577, 'villag': 1578, 'charg': 1579, 'keaton': 1580, 'england': 1581, 'enemi': 1582, 'unnecessari': 1583, 'empti': 1584, 'media': 1585, 'perspect': 1586, 'strength': 1587, 'dare': 1588, 'wave': 1589, 'utter': 1590, 'craft': 1591, 'buck': 1592, 'correct': 1593, 'contrast': 1594, 'ford': 1595, 'nativ': 1596, 'kiss': 1597, 'soap': 1598, 'chill': 1599, 'nazi': 1600, 'speed': 1601, 'magnific': 1602, 'distract': 1603, 'anywher': 1604, 'knowledg': 1605, 'breath': 1606, 'fred': 1607, '1980': 1608, 'mission': 1609, 'ice': 1610, 'crowd': 1611, 'joan': 1612, 'jr': 1613, 'moon': 1614, '000': 1615, 'kate': 1616, 'soft': 1617, 'frighten': 1618, 'hundr': 1619, 'dick': 1620, 'nick': 1621, 'dan': 1622, 'radio': 1623, 'dozen': 1624, 'simon': 1625, 'somebodi': 1626, 'andrew': 1627, 'thousand': 1628, 'shakespear': 1629, 'loss': 1630, 'academi': 1631, 'quot': 1632, 'account': 1633, 'vehicl': 1634, 'root': 1635, 'sum': 1636, 'leg': 1637, '1970': 1638, 'behavior': 1639, 'convent': 1640, 'regular': 1641, 'gold': 1642, 'worker': 1643, 'compet': 1644, 'pretenti': 1645, 'demand': 1646, 'lynch': 1647, 'stretch': 1648, 'candi': 1649, 'japan': 1650, 'interpret': 1651, 'explos': 1652, 'privat': 1653, 'notabl': 1654, 'constant': 1655, 'debut': 1656, 'tarzan': 1657, 'prais': 1658, 'sea': 1659, 'translat': 1660, 'revolv': 1661, 'spi': 1662, 'franc': 1663, 'sat': 1664, 'quiet': 1665, 'jesu': 1666, 'threaten': 1667, 'failur': 1668, 'technolog': 1669, 'ass': 1670, 'higher': 1671, 'met': 1672, 'kevin': 1673, 'toy': 1674, 'aid': 1675, 'punch': 1676, 'mike': 1677, 'vh': 1678, 'abandon': 1679, 'interact': 1680, 'bet': 1681, 'separ': 1682, 'confront': 1683, 'command': 1684, 'gotten': 1685, 'belong': 1686, 'site': 1687, 'recal': 1688, 'techniqu': 1689, 'stunt': 1690, 'servic': 1691, 'freak': 1692, 'cabl': 1693, 'foot': 1694, 'bug': 1695, 'bright': 1696, 'jimmi': 1697, 'african': 1698, 'capabl': 1699, 'fu': 1700, 'clark': 1701, 'succeed': 1702, 'presid': 1703, 'stock': 1704, 'fat': 1705, 'boat': 1706, 'spanish': 1707, 'gene': 1708, 'structur': 1709, 'paper': 1710, 'kidnap': 1711, 'belief': 1712, 'whilst': 1713, 'factor': 1714, 'realis': 1715, 'witti': 1716, 'attend': 1717, 'complic': 1718, 'educ': 1719, 'tree': 1720, 'bob': 1721, 'realism': 1722, 'assist': 1723, 'santa': 1724, 'finest': 1725, 'broken': 1726, 'up': 1727, 'depart': 1728, 'v': 1729, 'determin': 1730, 'observ': 1731, 'smoke': 1732, 'oper': 1733, 'fame': 1734, 'hat': 1735, 'domin': 1736, 'rubbish': 1737, 'routin': 1738, 'lewi': 1739, 'hook': 1740, 'foreign': 1741, 'advanc': 1742, 'morgan': 1743, 'lone': 1744, 'kinda': 1745, 'safe': 1746, 'rank': 1747, 'numer': 1748, 'civil': 1749, 'shape': 1750, 'vs': 1751, 'werewolf': 1752, 'rose': 1753, 'shallow': 1754, 'washington': 1755, 'gari': 1756, 'morn': 1757, 'ordinari': 1758, 'accomplish': 1759, 'kong': 1760, 'winner': 1761, 'grab': 1762, 'peac': 1763, 'virtual': 1764, 'whenev': 1765, 'luck': 1766, 'offens': 1767, 'h': 1768, 'unfunni': 1769, 'welcom': 1770, 'contriv': 1771, 'complain': 1772, 'bigger': 1773, 'patient': 1774, 'activ': 1775, 'con': 1776, 'trek': 1777, 'dimension': 1778, 'pretend': 1779, 'wake': 1780, 'flash': 1781, 'eric': 1782, 'code': 1783, 'lesbian': 1784, 'cain': 1785, 'dri': 1786, 'guard': 1787, 'corrupt': 1788, 'statu': 1789, 'manipul': 1790, 'dancer': 1791, 'albert': 1792, 'signific': 1793, 'gain': 1794, 'speech': 1795, 'context': 1796, 'awkward': 1797, 'sourc': 1798, 'corni': 1799, 'clip': 1800, 'anthoni': 1801, '13': 1802, 'sean': 1803, 'psycho': 1804, 'w': 1805, 'theatric': 1806, 'priest': 1807, 'curiou': 1808, 'advic': 1809, 'religion': 1810, 'reli': 1811, 'addict': 1812, 'flow': 1813, 'asian': 1814, 'jennif': 1815, 'skin': 1816, 'howard': 1817, 'specif': 1818, 'secur': 1819, 'organ': 1820, 'core': 1821, 'comfort': 1822, 'promot': 1823, 'luke': 1824, 'golden': 1825, 'lucki': 1826, 'cash': 1827, 'cheat': 1828, 'lower': 1829, 'dislik': 1830, 'associ': 1831, 'spell': 1832, 'frankli': 1833, 'frequent': 1834, 'regret': 1835, 'contribut': 1836, 'balanc': 1837, 'degre': 1838, 'devic': 1839, 'wing': 1840, 'print': 1841, 'sake': 1842, 'lake': 1843, 'forgiv': 1844, 'mass': 1845, 'thoma': 1846, 'betti': 1847, 'crack': 1848, 'unexpect': 1849, 'gordon': 1850, 'categori': 1851, 'construct': 1852, 'amateur': 1853, 'grown': 1854, 'unfold': 1855, 'depend': 1856, 'invit': 1857, 'condit': 1858, 'walter': 1859, 'intellectu': 1860, 'honor': 1861, 'anna': 1862, 'grew': 1863, 'matur': 1864, 'sudden': 1865, 'spectacular': 1866, 'mirror': 1867, 'veteran': 1868, 'sole': 1869, 'experienc': 1870, 'grip': 1871, 'gift': 1872, 'meanwhil': 1873, 'liner': 1874, 'robin': 1875, 'overli': 1876, 'freedom': 1877, 'demonstr': 1878, 'card': 1879, 'circumst': 1880, 'colour': 1881, 'subtitl': 1882, 'drew': 1883, 'unabl': 1884, 'brilliantli': 1885, 'section': 1886, 'theori': 1887, 'crappi': 1888, 'sheriff': 1889, 'oliv': 1890, 'path': 1891, 'altern': 1892, 'sheer': 1893, 'laughter': 1894, 'cook': 1895, 'parker': 1896, 'pile': 1897, 'matt': 1898, 'accident': 1899, 'sinatra': 1900, 'hall': 1901, 'lawyer': 1902, 'defin': 1903, 'treatment': 1904, 'relief': 1905, 'wander': 1906, 'hank': 1907, 'dragon': 1908, 'captiv': 1909, 'gratuit': 1910, 'moor': 1911, 'halloween': 1912, 'k': 1913, 'barbara': 1914, 'wayn': 1915, 'wound': 1916, 'broadway': 1917, 'cowboy': 1918, 'kung': 1919, 'jacki': 1920, 'unintent': 1921, 'spoof': 1922, 'statement': 1923, 'winter': 1924, 'canadian': 1925, 'surreal': 1926, 'fish': 1927, 'compos': 1928, 'cheer': 1929, 'fare': 1930, 'gonna': 1931, 'treasur': 1932, 'emerg': 1933, 'sensit': 1934, 'woodi': 1935, 'unrealist': 1936, 'victor': 1937, 'sympathet': 1938, 'driven': 1939, 'neighbor': 1940, 'ran': 1941, 'overlook': 1942, 'glass': 1943, 'authent': 1944, 'topic': 1945, 'menac': 1946, 'expos': 1947, 'gross': 1948, 'chief': 1949, 'michel': 1950, 'ancient': 1951, 'handsom': 1952, 'nevertheless': 1953, 'comedian': 1954, 'stranger': 1955, 'cinderella': 1956, 'contemporari': 1957, 'network': 1958, 'feet': 1959, 'built': 1960, 'pleasant': 1961, 'russel': 1962, 'gori': 1963, 'miser': 1964, 'letter': 1965, 'earn': 1966, 'consider': 1967, 'endless': 1968, 'underr': 1969, 'blockbust': 1970, 'solv': 1971, 'switch': 1972, 'brook': 1973, 'joseph': 1974, 'victoria': 1975, 'bullet': 1976, 'virgin': 1977, 'edward': 1978, 'convict': 1979, 'chosen': 1980, 'cynic': 1981, 'alex': 1982, '0': 1983, 'scale': 1984, 'scenario': 1985, 'gut': 1986, 'curs': 1987, 'com': 1988, 'outrag': 1989, 'sword': 1990, 'screenwrit': 1991, 'proper': 1992, 'juli': 1993, 'monkey': 1994, 'uk': 1995, 'substanc': 1996, 'wrap': 1997, 'driver': 1998, 'par': 1999, 'remov': 2000, 'court': 2001, 'indic': 2002, 'bird': 2003, 'naiv': 2004, 'advertis': 2005, 'loser': 2006, 'grave': 2007, 'consequ': 2008, 'rental': 2009, 'nanci': 2010, 'roy': 2011, 'inevit': 2012, 'brave': 2013, 'bridg': 2014, 'germani': 2015, 'slap': 2016, 'invis': 2017, 'fatal': 2018, 'le': 2019, 'provok': 2020, 'loui': 2021, 'ador': 2022, 'anger': 2023, 'footbal': 2024, 'alcohol': 2025, 'anderson': 2026, 'chan': 2027, 'professor': 2028, 'willi': 2029, 'stumbl': 2030, 'ryan': 2031, 'bat': 2032, 'sharp': 2033, 'assassin': 2034, 'patrick': 2035, 'australian': 2036, '1930': 2037, 'liber': 2038, 'amateurish': 2039, 'refresh': 2040, 'deni': 2041, 'eight': 2042, 'trilog': 2043, 'heck': 2044, 'strongli': 2045, 'cell': 2046, 'saturday': 2047, 'lousi': 2048, 'ape': 2049, 'sin': 2050, 'resid': 2051, 'san': 2052, 'justifi': 2053, 'vagu': 2054, 'creator': 2055, 'indi': 2056, 'terrifi': 2057, 'sympathi': 2058, 'mini': 2059, 'reput': 2060, 'defeat': 2061, 'tediou': 2062, 'expert': 2063, 'task': 2064, 'tabl': 2065, 'prevent': 2066, 'endur': 2067, 'offend': 2068, 'trial': 2069, 'rival': 2070, 'imit': 2071, 'basebal': 2072, 'employ': 2073, 'che': 2074, 'weekend': 2075, 'complaint': 2076, 'pitch': 2077, 'europ': 2078, 'beach': 2079, 'fairi': 2080, 'max': 2081, 'dig': 2082, 'format': 2083, 'risk': 2084, 'purchas': 2085, 'murphi': 2086, 'glimps': 2087, 'nois': 2088, 'reminisc': 2089, 'harsh': 2090, 'bite': 2091, 'hype': 2092, 'powel': 2093, 'tini': 2094, 'titan': 2095, 'fals': 2096, 'till': 2097, '14': 2098, 'prime': 2099, 'asleep': 2100, 'north': 2101, 'strip': 2102, 'descript': 2103, 'destruct': 2104, 'revel': 2105, 'texa': 2106, 'africa': 2107, 'semi': 2108, 'excess': 2109, 'uninterest': 2110, 'spin': 2111, 'arrest': 2112, 'surfac': 2113, 'sitcom': 2114, 'inner': 2115, 'hitchcock': 2116, 'maintain': 2117, 'controversi': 2118, 'twin': 2119, 'massiv': 2120, 'makeup': 2121, 'argu': 2122, 'dinosaur': 2123, 'insist': 2124, 'ludicr': 2125, 'stare': 2126, 'melodrama': 2127, 'ideal': 2128, 'reject': 2129, 'kim': 2130, 'expens': 2131, 'ala': 2132, 'host': 2133, 'supernatur': 2134, 'atroci': 2135, 'ga': 2136, 'press': 2137, 'forest': 2138, 'erot': 2139, 'subplot': 2140, 'nail': 2141, 'columbo': 2142, 'presum': 2143, 'notch': 2144, 'identifi': 2145, 'dude': 2146, 'cant': 2147, 'closer': 2148, 'character': 2149, 'crude': 2150, 'forgett': 2151, 'method': 2152, 'guest': 2153, 'plagu': 2154, 'foster': 2155, 'beast': 2156, 'border': 2157, 'ear': 2158, 'princess': 2159, 'landscap': 2160, 'lion': 2161, 'accus': 2162, 'storytel': 2163, 'previous': 2164, 'pacino': 2165, 'damag': 2166, 'bound': 2167, 'jungl': 2168, 'aunt': 2169, 'urban': 2170, 'birth': 2171, 'emma': 2172, 'jess': 2173, 'thirti': 2174, 'guid': 2175, 'propaganda': 2176, 'chose': 2177, 'nude': 2178, 'doll': 2179, 'whoever': 2180, '25': 2181, 'pet': 2182, 'mainstream': 2183, 'mate': 2184, 'warrior': 2185, 'size': 2186, 'latest': 2187, 'deadli': 2188, 'cooper': 2189, 'merit': 2190, 'upset': 2191, 'friday': 2192, 'gritti': 2193, 'exact': 2194, 'poster': 2195, 'contest': 2196, 'warner': 2197, 'buff': 2198, 'wilson': 2199, 'rough': 2200, 'contact': 2201, 'citizen': 2202, 'sun': 2203, 'blend': 2204, 'corps': 2205, '1990': 2206, 'popul': 2207, 'ton': 2208, 'settl': 2209, 'environ': 2210, 'alic': 2211, 'widow': 2212, 'mgm': 2213, 'pitt': 2214, 'select': 2215, 'overcom': 2216, 'bu': 2217, 'metal': 2218, 'rat': 2219, 'guilti': 2220, 'link': 2221, 'ted': 2222, 'particip': 2223, 'lift': 2224, 'revolut': 2225, 'moron': 2226, 'johnson': 2227, 'corner': 2228, 'corpor': 2229, 'matrix': 2230, 'accompani': 2231, '1960': 2232, 'prostitut': 2233, 'afternoon': 2234, 'exagger': 2235, 'friendli': 2236, 'doom': 2237, 'clair': 2238, 'multipl': 2239, 'leagu': 2240, 'sincer': 2241, 'hood': 2242, 'holm': 2243, 'instal': 2244, 'aka': 2245, 'hip': 2246, 'sunday': 2247, 'junk': 2248, 'string': 2249, 'defend': 2250, 'examin': 2251, 'advis': 2252, 'campi': 2253, 'grim': 2254, 'irish': 2255, 'lugosi': 2256, 'blah': 2257, 'varieti': 2258, 'tight': 2259, 'rachel': 2260, 'shake': 2261, 'icon': 2262, 'pro': 2263, 'confid': 2264, 'shut': 2265, 'medic': 2266, 'jaw': 2267, 'denni': 2268, 'attach': 2269, 'mexican': 2270, 'directli': 2271, 'sullivan': 2272, 'goal': 2273, 'duke': 2274, 'prior': 2275, 'terrorist': 2276, 'sarah': 2277, 'legendari': 2278, 'courag': 2279, 'vietnam': 2280, 'truck': 2281, 'breast': 2282, 'bourn': 2283, 'dean': 2284, 'sentenc': 2285, 'behav': 2286, 'entri': 2287, 'proceed': 2288, 'hong': 2289, 'nose': 2290, 'donald': 2291, 'split': 2292, 'un': 2293, 'yell': 2294, 'jerk': 2295, 'unconvinc': 2296, 'gather': 2297, 'stolen': 2298, 'swim': 2299, 'crush': 2300, 'concentr': 2301, 'confess': 2302, 'borrow': 2303, 'lifetim': 2304, 'forth': 2305, 'everywher': 2306, 'buri': 2307, 'lip': 2308, 'julia': 2309, 'california': 2310, 'pan': 2311, 'spite': 2312, 'turkey': 2313, 'deliveri': 2314, 'offici': 2315, 'reward': 2316, 'freeman': 2317, 'china': 2318, 'proud': 2319, 'quest': 2320, 'hoffman': 2321, 'flight': 2322, 'downright': 2323, 'encourag': 2324, 'worthwhil': 2325, 'sir': 2326, 'lazi': 2327, 'inept': 2328, 'fabul': 2329, 'jon': 2330, 'jail': 2331, 'notori': 2332, 'fade': 2333, 'betray': 2334, 'sink': 2335, 'teeth': 2336, 'bell': 2337, 'retard': 2338, 'susan': 2339, 'lisa': 2340, 'imageri': 2341, 'cousin': 2342, 'survivor': 2343, 'storm': 2344, 'bag': 2345, 'relev': 2346, 'branagh': 2347, 'shower': 2348, 'hugh': 2349, 'tremend': 2350, 'toler': 2351, 'finger': 2352, 'quirki': 2353, 'trade': 2354, 'bride': 2355, 'stab': 2356, 'shark': 2357, 'alright': 2358, 'summari': 2359, 'facial': 2360, 'mexico': 2361, 'bitter': 2362, 'blown': 2363, 'von': 2364, 'ha': 2365, 'hyster': 2366, 'pose': 2367, 'bone': 2368, 'larri': 2369, 'christ': 2370, 'cruel': 2371, 'afterward': 2372, 'address': 2373, 'scheme': 2374, 'ron': 2375, 'ned': 2376, 'pursu': 2377, 'traci': 2378, 'thumb': 2379, 'feed': 2380, 'distinct': 2381, 'beg': 2382, 'tour': 2383, 'snake': 2384, 'swear': 2385, 'screw': 2386, 'obscur': 2387, 'occas': 2388, 'photo': 2389, 'chair': 2390, 'mechan': 2391, 'stomach': 2392, 'raw': 2393, 'holiday': 2394, 'resist': 2395, 'heavili': 2396, 'argument': 2397, 'southern': 2398, 'gruesom': 2399, 'sidney': 2400, 'chain': 2401, 'render': 2402, 'hardi': 2403, 'cabin': 2404, 'necessarili': 2405, 'indulg': 2406, 'india': 2407, 'understood': 2408, 'racist': 2409, 'satan': 2410, 'philip': 2411, 'belov': 2412, 'fourth': 2413, 'integr': 2414, 'midnight': 2415, 'outfit': 2416, 'tongu': 2417, 'lay': 2418, 'stalk': 2419, 'obnoxi': 2420, 'pregnant': 2421, 'forgot': 2422, 'restor': 2423, 'slapstick': 2424, 'magazin': 2425, 'garden': 2426, 'ticket': 2427, 'carol': 2428, 'deeper': 2429, 'inhabit': 2430, '17': 2431, 'brad': 2432, 'lincoln': 2433, 'devot': 2434, 'incid': 2435, 'shoe': 2436, 'elizabeth': 2437, 'sandler': 2438, 'anticip': 2439, 'guarante': 2440, 'underground': 2441, 'disbelief': 2442, 'lili': 2443, 'divorc': 2444, 'benefit': 2445, 'maria': 2446, 'amazingli': 2447, 'creation': 2448, 'mildli': 2449, 'greater': 2450, 'bbc': 2451, 'slave': 2452, 'cring': 2453, 'princip': 2454, 'capit': 2455, 'explod': 2456, 'funnier': 2457, 'extraordinari': 2458, 'halfway': 2459, 'introduct': 2460, 'lesli': 2461, 'punish': 2462, 'transfer': 2463, 'advantag': 2464, 'tap': 2465, 'extent': 2466, 'overwhelm': 2467, 'wreck': 2468, 'enhanc': 2469, 'text': 2470, 'dynam': 2471, 'preview': 2472, 'horrif': 2473, 'east': 2474, 'lane': 2475, 'lo': 2476, 'plant': 2477, 'deliber': 2478, 'error': 2479, 'jessica': 2480, 'appli': 2481, '2000': 2482, 'basi': 2483, 'sophist': 2484, 'ensu': 2485, 'vincent': 2486, 'homosexu': 2487, 'miller': 2488, 'miscast': 2489, 'vacat': 2490, 'bollywood': 2491, 'uncomfort': 2492, 'sleazi': 2493, 'mansion': 2494, 'reed': 2495, 'measur': 2496, 'via': 2497, 'elev': 2498, 'steel': 2499, 'spoken': 2500, 'extend': 2501, 'goofi': 2502, 'hippi': 2503, 'breathtak': 2504, 'beer': 2505, 'blair': 2506, 'alter': 2507, 'conceiv': 2508, 'mous': 2509, 'assign': 2510, 'dentist': 2511, 'savag': 2512, 'stanley': 2513, 'cathol': 2514, 'overact': 2515, 'melt': 2516, 'daili': 2517, 'fix': 2518, 'everyday': 2519, 'subsequ': 2520, 'carpent': 2521, 'sacrific': 2522, 'nowaday': 2523, 'burt': 2524, 'succe': 2525, 'oppos': 2526, 'inspector': 2527, 'properli': 2528, 'laura': 2529, 'neck': 2530, 'massacr': 2531, 'circl': 2532, 'block': 2533, 'mob': 2534, 'pool': 2535, 'grey': 2536, 'portrait': 2537, 'fallen': 2538, 'seagal': 2539, 'fay': 2540, 'lesser': 2541, 'concert': 2542, 'access': 2543, 'christi': 2544, 'usa': 2545, 'competit': 2546, 'react': 2547, 'isol': 2548, 'jake': 2549, 'relax': 2550, 'sinist': 2551, 'chees': 2552, 'jewish': 2553, 'immens': 2554, 'nonetheless': 2555, 'suitabl': 2556, '2006': 2557, 'spiritu': 2558, 'appal': 2559, 'creep': 2560, 'lyric': 2561, 'nine': 2562, 'stink': 2563, 'chop': 2564, 'ironi': 2565, 'needless': 2566, 'showcas': 2567, 'retir': 2568, 'reduc': 2569, 'sold': 2570, 'spring': 2571, 'luci': 2572, 'user': 2573, 'adopt': 2574, 'franchis': 2575, 'rage': 2576, 'shirt': 2577, 'nut': 2578, 'navi': 2579, 'bath': 2580, 'jay': 2581, 'zone': 2582, 'digit': 2583, 'stanwyck': 2584, 'bulli': 2585, 'asham': 2586, 'per': 2587, 'nurs': 2588, 'uninspir': 2589, 'amongst': 2590, 'upper': 2591, '1940': 2592, 'laid': 2593, 'illustr': 2594, '2001': 2595, 'broadcast': 2596, 'sutherland': 2597, 'oddli': 2598, 'aspir': 2599, 'baker': 2600, 'disguis': 2601, 'stylish': 2602, 'throat': 2603, 'fulfil': 2604, 'brando': 2605, 'wwii': 2606, 'endear': 2607, 'impli': 2608, 'neighborhood': 2609, 'pride': 2610, 'pound': 2611, 'em': 2612, '18': 2613, 'nobl': 2614, 'thief': 2615, 'wanna': 2616, 'shoulder': 2617, 'diseas': 2618, 'coher': 2619, '16': 2620, 'albeit': 2621, 'distribut': 2622, 'dawn': 2623, 'tens': 2624, 'cinematograph': 2625, 'shift': 2626, 'dinner': 2627, 'prop': 2628, 'bo': 2629, 'bett': 2630, 'rochest': 2631, 'contract': 2632, 'poignant': 2633, 'silenc': 2634, 'matthau': 2635, 'function': 2636, 'wash': 2637, 'knife': 2638, 'rebel': 2639, 'snow': 2640, 'forti': 2641, 'shout': 2642, 'surf': 2643, 'cancel': 2644, 'chuck': 2645, 'internet': 2646, 'horrend': 2647, 'eeri': 2648, 'duti': 2649, 'height': 2650, 'mindless': 2651, 'cannib': 2652, 'widmark': 2653, 'henc': 2654, 'reunion': 2655, 'proof': 2656, 'heat': 2657, 'instinct': 2658, 'derek': 2659, 'silver': 2660, 'elvira': 2661, 'musician': 2662, 'glori': 2663, 'repetit': 2664, 'etern': 2665, 'premier': 2666, 'mill': 2667, 'elvi': 2668, 'alik': 2669, 'greatli': 2670, 'incoher': 2671, 'neat': 2672, 'torn': 2673, 'absorb': 2674, 'innov': 2675, 'spielberg': 2676, 'pie': 2677, 'horrifi': 2678, 'trite': 2679, 'fbi': 2680, 'lovabl': 2681, 'bang': 2682, 'crisi': 2683, 'homag': 2684, 'wealthi': 2685, 'nelson': 2686, 'announc': 2687, 'blank': 2688, 'infam': 2689, 'racism': 2690, 'britain': 2691, 'itali': 2692, 'precis': 2693, 'diamond': 2694, 'redempt': 2695, 'burton': 2696, 'happili': 2697, 'dedic': 2698, 'flop': 2699, 'ensembl': 2700, 'parallel': 2701, 'resolut': 2702, 'chaplin': 2703, 'hammer': 2704, 'streisand': 2705, 'pat': 2706, 'wilder': 2707, 'helen': 2708, 'st': 2709, 'factori': 2710, 'triumph': 2711, 'carter': 2712, 'cube': 2713, 'conclud': 2714, 'broke': 2715, 'mar': 2716, 'plastic': 2717, 'oil': 2718, 'disagre': 2719, 'march': 2720, 'chuckl': 2721, 'own': 2722, 'rocket': 2723, 'fighter': 2724, 'row': 2725, 'vega': 2726, 'climb': 2727, 'bush': 2728, 'weight': 2729, 'wherea': 2730, 'enorm': 2731, 'dane': 2732, 'meaning': 2733, 'unforgett': 2734, 'dump': 2735, 'lust': 2736, 'mst3k': 2737, 'sensibl': 2738, 'kurt': 2739, 'thug': 2740, 'spare': 2741, 'boot': 2742, 'luca': 2743, 'brand': 2744, 'adequ': 2745, 'butt': 2746, 'stress': 2747, 'difficulti': 2748, 'rap': 2749, 'fifti': 2750, 'dear': 2751, 'bobbi': 2752, 'threat': 2753, 'caricatur': 2754, 'engin': 2755, 'arnold': 2756, 'karloff': 2757, 'fest': 2758, 'homeless': 2759, 'journalist': 2760, 'secretari': 2761, 'ralph': 2762, 'ego': 2763, 'hamlet': 2764, 'swing': 2765, 'flynn': 2766, 'arrog': 2767, 'polish': 2768, 'elabor': 2769, 'barri': 2770, 'spike': 2771, 'fanci': 2772, 'arrang': 2773, 'resort': 2774, 'float': 2775, 'induc': 2776, 'puppet': 2777, 'conspiraci': 2778, 'tool': 2779, 'simpson': 2780, 'grate': 2781, 'unbear': 2782, 'guilt': 2783, 'tribut': 2784, 'pig': 2785, 'phillip': 2786, 'boll': 2787, 'exercis': 2788, 'cruis': 2789, 'basement': 2790, 'choreograph': 2791, 'muppet': 2792, 'toilet': 2793, 'korean': 2794, 'file': 2795, 'layer': 2796, 'item': 2797, 'ward': 2798, '24': 2799, 'medium': 2800, 'slip': 2801, 'document': 2802, 'stan': 2803, 'puzzl': 2804, 'ham': 2805, 'fianc': 2806, 'babe': 2807, 'tower': 2808, 'scarecrow': 2809, 'editor': 2810, 'denzel': 2811, 'glover': 2812, 'persona': 2813, 'territori': 2814, 'catherin': 2815, 'orient': 2816, 'librari': 2817, 'inexplic': 2818, 'spark': 2819, 'superfici': 2820, 'transit': 2821, 'assur': 2822, 'larger': 2823, 'minim': 2824, 'portion': 2825, 'slaughter': 2826, 'philosoph': 2827, 'doc': 2828, 'wolf': 2829, 'owe': 2830, 'pg': 2831, 'sneak': 2832, 'ban': 2833, 'jet': 2834, 'dorothi': 2835, 'boredom': 2836, 'financi': 2837, 'jeremi': 2838, 'walken': 2839, 'shi': 2840, 'curti': 2841, 'profound': 2842, 'metaphor': 2843, 'hudson': 2844, 'multi': 2845, 'backdrop': 2846, 'whale': 2847, 'eleph': 2848, 'ambigu': 2849, 'cusack': 2850, 'rave': 2851, 'stiff': 2852, 'ultra': 2853, 'union': 2854, 'elsewher': 2855, 'hack': 2856, 'implaus': 2857, 'viru': 2858, '2005': 2859, 'birthday': 2860, 'notion': 2861, 'gadget': 2862, 'pad': 2863, 'newspap': 2864, 'distanc': 2865, 'deriv': 2866, 'reader': 2867, 'afford': 2868, 'superhero': 2869, 'bibl': 2870, 'hawk': 2871, 'lloyd': 2872, 'squar': 2873, 'canada': 2874, 'urg': 2875, 'slight': 2876, 'eastwood': 2877, 'disc': 2878, '1st': 2879, 'eva': 2880, 'poison': 2881, 'huh': 2882, 'restaur': 2883, 'skit': 2884, 'montag': 2885, 'spread': 2886, 'button': 2887, 'cure': 2888, 'charisma': 2889, 'drown': 2890, 'health': 2891, 'essenc': 2892, 'sadist': 2893, 'heston': 2894, 'lab': 2895, 'muslim': 2896, 'maniac': 2897, 'estat': 2898, 'fetch': 2899, 'gradual': 2900, 'dealt': 2901, 'companion': 2902, 'invest': 2903, 'scoobi': 2904, 'peak': 2905, 'godfath': 2906, 'alli': 2907, 'gothic': 2908, 'servant': 2909, 'cup': 2910, 'tea': 2911, 'ritter': 2912, 'subtleti': 2913, 'countless': 2914, 'miik': 2915, 'kane': 2916, 'heroic': 2917, 'electr': 2918, 'salli': 2919, 'elect': 2920, 'charismat': 2921, 'briefli': 2922, 'iii': 2923, 'bud': 2924, 'tender': 2925, 'admittedli': 2926, 'neil': 2927, 'grandmoth': 2928, 'toss': 2929, 'resourc': 2930, 'cole': 2931, 'nuanc': 2932, 'ingredi': 2933, 'reel': 2934, 'wannab': 2935, 'carrey': 2936, 'gate': 2937, 'punk': 2938, 'shall': 2939, 'pauli': 2940, 'mild': 2941, 'reev': 2942, 'poverti': 2943, 'dawson': 2944, 'mafia': 2945, 'stood': 2946, 'kubrick': 2947, 'stronger': 2948, 'pit': 2949, 'label': 2950, 'updat': 2951, 'burst': 2952, 'tag': 2953, 'terri': 2954, 'cardboard': 2955, 'smash': 2956, 'useless': 2957, 'fond': 2958, 'outcom': 2959, 'smooth': 2960, 'ian': 2961, 'easier': 2962, 'cox': 2963, 'assault': 2964, 'astair': 2965, 'bakshi': 2966, 'divers': 2967, '2002': 2968, 'coincid': 2969, 'vulner': 2970, 'samurai': 2971, 'vari': 2972, 'qualifi': 2973, 'fist': 2974, 'melodramat': 2975, 'sketch': 2976, 'resolv': 2977, 'exchang': 2978, 'increasingli': 2979, 'rex': 2980, 'conveni': 2981, 'luckili': 2982, 'blast': 2983, 'be': 2984, 'scratch': 2985, 'insert': 2986, 'brillianc': 2987, 'tame': 2988, 'reynold': 2989, 'suspend': 2990, 'templ': 2991, 'nuclear': 2992, 'seventi': 2993, 'farm': 2994, 'jami': 2995, 'walker': 2996, 'meat': 2997, 'coach': 2998, 'strictli': 2999, 'matthew': 3000, 'pin': 3001, 'soprano': 3002, 'ambiti': 3003, 'gotta': 3004, 'hamilton': 3005, 'fisher': 3006, 'clock': 3007, 'grasp': 3008, 'instantli': 3009, 'recreat': 3010, 'eccentr': 3011, 'struck': 3012, 'butcher': 3013, 'discoveri': 3014, 'kudo': 3015, 'worthless': 3016, 'empir': 3017, 'cave': 3018, 'monk': 3019, 'convolut': 3020, 'timeless': 3021, 'ninja': 3022, 'spooki': 3023, 'revers': 3024, 'closet': 3025, 'joey': 3026, 'brosnan': 3027, 'evok': 3028, 'wipe': 3029, 'communist': 3030, 'miracl': 3031, 'cliff': 3032, 'selfish': 3033, 'partli': 3034, 'sidekick': 3035, 'mitchel': 3036, 'gray': 3037, 'declar': 3038, 'bleak': 3039, 'seller': 3040, 'eighti': 3041, 'clown': 3042, 'pal': 3043, 'norman': 3044, 'fifteen': 3045, 'sloppi': 3046, 'importantli': 3047, 'inconsist': 3048, 'farc': 3049, 'flawless': 3050, 'psychiatrist': 3051, 'seed': 3052, 'destin': 3053, 'debat': 3054, 'ho': 3055, 'websit': 3056, '45': 3057, 'cheek': 3058, 'chew': 3059, 'enthusiast': 3060, 'superbl': 3061, 'aforement': 3062, 'australia': 3063, 'piano': 3064, 'lifestyl': 3065, 'stoog': 3066, 'emili': 3067, 'soviet': 3068, 'splatter': 3069, 'slice': 3070, 'abc': 3071, 'akshay': 3072, 'pressur': 3073, 'directori': 3074, 'regardless': 3075, 'kitchen': 3076, 'wick': 3077, 'bash': 3078, 'dash': 3079, 'drivel': 3080, 'dire': 3081, 'incompet': 3082, 'wrestl': 3083, 'anni': 3084, 'glow': 3085, 'curios': 3086, 'lou': 3087, 'helicopt': 3088, 'prize': 3089, 'artifici': 3090, 'seduc': 3091, 'duo': 3092, 'dave': 3093, 'beaten': 3094, 'distant': 3095, 'boil': 3096, 'judi': 3097, 'increas': 3098, 'pleasantli': 3099, 'ken': 3100, 'jar': 3101, 'doo': 3102, 'recov': 3103, 'blob': 3104, 'cagney': 3105, 'cia': 3106, 'suppli': 3107, 'chapter': 3108, 'cameron': 3109, 'flower': 3110, 'mann': 3111, 'turner': 3112, 'drunken': 3113, 'splendid': 3114, 'hop': 3115, 'psychot': 3116, 'ellen': 3117, 'glenn': 3118, 'perri': 3119, 'web': 3120, 'eleg': 3121, 'combat': 3122, 'laurel': 3123, 'francisco': 3124, 'craven': 3125, 'goldberg': 3126, 'ranger': 3127, 'panic': 3128, 'craig': 3129, 'favour': 3130, 'hatr': 3131, 'ruth': 3132, 'greek': 3133, 'min': 3134, 'plausibl': 3135, 'graduat': 3136, 'philosophi': 3137, 'rid': 3138, 'fx': 3139, '20th': 3140, 'gentl': 3141, 'gandhi': 3142, 'wizard': 3143, 'slightest': 3144, 'shortli': 3145, 'alexand': 3146, 'flip': 3147, 'falk': 3148, 'modesti': 3149, 'ocean': 3150, 'holi': 3151, 'futurist': 3152, 'we': 3153, 'dracula': 3154, 'preciou': 3155, 'manhattan': 3156, 'unpleas': 3157, 'tall': 3158, 'fund': 3159, 'legal': 3160, 'harm': 3161, 'felix': 3162, 'jealou': 3163, 'knight': 3164, 'lend': 3165, 'digniti': 3166, 'childish': 3167, 'overdon': 3168, 'forbidden': 3169, 'nod': 3170, 'tank': 3171, 'bless': 3172, 'explicit': 3173, 'ami': 3174, 'giallo': 3175, 'reviv': 3176, 'mock': 3177, 'scientif': 3178, 'thread': 3179, 'yesterday': 3180, 'thick': 3181, 'eve': 3182, '99': 3183, 'fever': 3184, 'unwatch': 3185, '2004': 3186, 'repeatedli': 3187, 'awe': 3188, 'mel': 3189, 'pirat': 3190, 'elderli': 3191, 'torment': 3192, 'verhoeven': 3193, 'margaret': 3194, 'awaken': 3195, 'nerv': 3196, 'broad': 3197, 'launch': 3198, 'absenc': 3199, 'roman': 3200, 'timothi': 3201, 'ah': 3202, 'rivet': 3203, 'bin': 3204, 'uniform': 3205, 'politician': 3206, 'publish': 3207, 'kay': 3208, 'ambit': 3209, 'lean': 3210, 'acclaim': 3211, 'custom': 3212, 'eas': 3213, 'stiller': 3214, 'royal': 3215, 'automat': 3216, 'griffith': 3217, 'romero': 3218, 'antic': 3219, 'homicid': 3220, 'warren': 3221, 'crook': 3222, 'transport': 3223, 'foul': 3224, 'phrase': 3225, 'gabriel': 3226, 'pulp': 3227, 'wallac': 3228, 'stinker': 3229, 'darker': 3230, 'bathroom': 3231, 'termin': 3232, 'tomato': 3233, 'purpl': 3234, 'pierc': 3235, 'sunshin': 3236, 'revolutionari': 3237, 'horrid': 3238, 'donna': 3239, 'viciou': 3240, 'evolv': 3241, 'contrari': 3242, 'pray': 3243, 'sixti': 3244, 'brazil': 3245, 'juvenil': 3246, '2003': 3247, 'packag': 3248, 'q': 3249, 'awak': 3250, 'hollow': 3251, 'li': 3252, 'rambo': 3253, 'eyr': 3254, 'marin': 3255, 'album': 3256, 'coloni': 3257, 'ought': 3258, 'karen': 3259, 'prom': 3260, 'choreographi': 3261, 'saint': 3262, 'kenneth': 3263, 'twelv': 3264, 'kapoor': 3265, 'dose': 3266, 'ireland': 3267, 'beatti': 3268, 'blade': 3269, 'overr': 3270, 'option': 3271, 'defi': 3272, 'candid': 3273, 'conserv': 3274, 'boast': 3275, 'ramon': 3276, 'stole': 3277, 'nerd': 3278, 'mildr': 3279, 'mummi': 3280, 'collabor': 3281, 'astonish': 3282, 'funer': 3283, 'jazz': 3284, 'detract': 3285, 'protest': 3286, 'kirk': 3287, 'natali': 3288, 'flame': 3289, 'confirm': 3290, 'global': 3291, 'trio': 3292, 'altman': 3293, 'fulci': 3294, 'audio': 3295, 'enterpris': 3296, 'racial': 3297, 'blake': 3298, 'tommi': 3299, 'leap': 3300, 'bottl': 3301, 'mystic': 3302, 'bull': 3303, 'destini': 3304, 'spit': 3305, 'shade': 3306, 'yellow': 3307, 'delici': 3308, 'whip': 3309, 'nicholson': 3310, 'reunit': 3311, 'threw': 3312, 'altogeth': 3313, 'popcorn': 3314, 'merci': 3315, 'adolesc': 3316, 'harder': 3317, 'swedish': 3318, 'pseudo': 3319, 'todd': 3320, 'vivid': 3321, 'fonda': 3322, 'staff': 3323, 'bedroom': 3324, 'neo': 3325, 'visibl': 3326, 'meaningless': 3327, 'enchant': 3328, 'inherit': 3329, 'leonard': 3330, 'await': 3331, 'lawrenc': 3332, 'moodi': 3333, 'respond': 3334, 'befriend': 3335, 'tip': 3336, 'madonna': 3337, 'exhibit': 3338, 'ruthless': 3339, 'voight': 3340, 'synopsi': 3341, 'reserv': 3342, 'decor': 3343, 'fanat': 3344, 'bust': 3345, 'wire': 3346, 'jew': 3347, 'roommat': 3348, 'lemmon': 3349, 'suspici': 3350, 'kennedi': 3351, 'crocodil': 3352, 'uneven': 3353, 'edi': 3354, 'atlanti': 3355, 'ventur': 3356, 'carl': 3357, 'audit': 3358, 'clumsi': 3359, 'rural': 3360, 'centr': 3361, 'unsettl': 3362, 'voyag': 3363, 'bargain': 3364, 'clint': 3365, 'incident': 3366, '2007': 3367, 'dimens': 3368, 'bold': 3369, 'chao': 3370, 'abysm': 3371, 'holli': 3372, 'garner': 3373, 'bradi': 3374, 'palma': 3375, 'ant': 3376, 'imperson': 3377, 'humili': 3378, 'wealth': 3379, 'characterist': 3380, 'nearbi': 3381, 'immigr': 3382, 'versu': 3383, 'elimin': 3384, 'trail': 3385, 'poetic': 3386, 'daddi': 3387, '2nd': 3388, 'echo': 3389, 'acknowledg': 3390, 'hart': 3391, 'neglect': 3392, 'mall': 3393, 'tiger': 3394, 'cari': 3395, 'cd': 3396, 'lit': 3397, 'troop': 3398, 'cuba': 3399, 'timon': 3400, 'marshal': 3401, 'pun': 3402, 'jeffrey': 3403, 'repuls': 3404, 'homer': 3405, 'collaps': 3406, 'solo': 3407, 'prejudic': 3408, 'paus': 3409, 'domest': 3410, 'saga': 3411, 'celluloid': 3412, 'infect': 3413, 'mistaken': 3414, 'mickey': 3415, 'equip': 3416, 'gear': 3417, 'undoubtedli': 3418, 'promin': 3419, 'harvey': 3420, 'chest': 3421, 'cake': 3422, '1996': 3423, 'apolog': 3424, 'pant': 3425, 'leon': 3426, 'tribe': 3427, 'milk': 3428, 'inan': 3429, 'coat': 3430, 'sore': 3431, 'hbo': 3432, 'inappropri': 3433, 'olivi': 3434, 'interrupt': 3435, 'assembl': 3436, 'coffe': 3437, 'ginger': 3438, 'primari': 3439, 'instant': 3440, 'airplan': 3441, 'retain': 3442, 'vulgar': 3443, 'furthermor': 3444, 'florida': 3445, 'highest': 3446, 'humbl': 3447, 'colleagu': 3448, 'polanski': 3449, 'pen': 3450, 'colonel': 3451, 'exot': 3452, 'embrac': 3453, 'brooklyn': 3454, 'aveng': 3455, 'solut': 3456, 'institut': 3457, 'pot': 3458, 'consum': 3459, 'maggi': 3460, 'devast': 3461, 'trace': 3462, 'jenni': 3463, 'godzilla': 3464, 'cope': 3465, 'disabl': 3466, '1999': 3467, 'strain': 3468, 'sale': 3469, 'ya': 3470, 'poke': 3471, 'rick': 3472, '3rd': 3473, 'descend': 3474, 'dutch': 3475, 'seduct': 3476, 'smaller': 3477, 'wive': 3478, 'linda': 3479, 'outer': 3480, 'dian': 3481, 'illog': 3482, 'gender': 3483, 'principl': 3484, 'bowl': 3485, 'mixtur': 3486, 'primarili': 3487, 'dive': 3488, 'secondli': 3489, 'devoid': 3490, 'inferior': 3491, 'yard': 3492, 'cue': 3493, 'dud': 3494, 'lol': 3495, 'scope': 3496, 'beneath': 3497, 'predecessor': 3498, 'bubbl': 3499, 'glamor': 3500, 'hal': 3501, 'gloriou': 3502, 'vast': 3503, 'blatant': 3504, 'rabbit': 3505, 'gundam': 3506, 'aggress': 3507, 'simplist': 3508, 'streep': 3509, 'hideou': 3510, 'disjoint': 3511, 'invas': 3512, 'museum': 3513, 'myer': 3514, 'countrysid': 3515, 'pearl': 3516, 'alert': 3517, 'shelf': 3518, 'talki': 3519, 'garbo': 3520, 'grinch': 3521, 'et': 3522, 'breed': 3523, 'shirley': 3524, 'arab': 3525, 'domino': 3526, 'senseless': 3527, 'trademark': 3528, 'alfr': 3529, 'april': 3530, 'casual': 3531, 'z': 3532, 'disgrac': 3533, 'sh': 3534, 'maci': 3535, 'robinson': 3536, 'applaud': 3537, 'robberi': 3538, 'stellar': 3539, 'hopeless': 3540, 'khan': 3541, 'acid': 3542, 'uwe': 3543, 'slide': 3544, 'rendit': 3545, 'vanish': 3546, 'defens': 3547, 'oz': 3548, 'loyal': 3549, 'illeg': 3550, 'mayor': 3551, 'unhappi': 3552, 'stack': 3553, 'experiment': 3554, 'stir': 3555, 'obtain': 3556, 'boom': 3557, 'hardcor': 3558, 'mail': 3559, 'spider': 3560, 'scroog': 3561, 'emphasi': 3562, 'span': 3563, 'grandfath': 3564, 'counter': 3565, 'dismiss': 3566, 'rifl': 3567, 'fri': 3568, 'recruit': 3569, 'tenant': 3570, 'berlin': 3571, 'dicken': 3572, 'wont': 3573, 'declin': 3574, 'blew': 3575, 'craze': 3576, 'tempt': 3577, 'topless': 3578, 'soccer': 3579, 'psychic': 3580, 'incomprehens': 3581, 'amanda': 3582, 'diana': 3583, 'hartley': 3584, 'intim': 3585, 'sympath': 3586, 'ethnic': 3587, 'niro': 3588, 'shaw': 3589, 'shed': 3590, 'resurrect': 3591, 'ration': 3592, 'lumet': 3593, 'goer': 3594, 'justin': 3595, 'bitch': 3596, 'woo': 3597, 'trashi': 3598, 'revolt': 3599, 'wet': 3600, 'parad': 3601, 'porno': 3602, 'riot': 3603, 'faster': 3604, 'sibl': 3605, 'unreal': 3606, 'partial': 3607, 'gap': 3608, 'patriot': 3609, 'biographi': 3610, 'eager': 3611, 'wheel': 3612, 'rider': 3613, 'ensur': 3614, 'jonathan': 3615, 'andr': 3616, 'hesit': 3617, 'choru': 3618, 'region': 3619, 'nephew': 3620, '00': 3621, 'feminist': 3622, 'dealer': 3623, 'hopper': 3624, 'enlighten': 3625, 'commend': 3626, 'honesti': 3627, 'mario': 3628, 'weakest': 3629, 'slick': 3630, 'farmer': 3631, 'steam': 3632, 'immort': 3633, 'ballet': 3634, 'worm': 3635, 'lena': 3636, 'wendi': 3637, 'sandra': 3638, 'morri': 3639, 'safeti': 3640, 'sappi': 3641, 'macarthur': 3642, 'victori': 3643, 'prequel': 3644, 'kingdom': 3645, 'mutant': 3646, 'snap': 3647, 'composit': 3648, 'hung': 3649, 'skull': 3650, 'vice': 3651, 'franco': 3652, 'wore': 3653, 'repress': 3654, 'charlott': 3655, 'nostalg': 3656, 'similarli': 3657, 'owen': 3658, 'leo': 3659, 'properti': 3660, 'psychopath': 3661, 'util': 3662, 'blunt': 3663, 'confin': 3664, 'snl': 3665, 'repli': 3666, 'bonu': 3667, '1972': 3668, 'pattern': 3669, 'nervou': 3670, 'hyde': 3671, 'acquir': 3672, 'compass': 3673, 'strand': 3674, 'rocki': 3675, 'speci': 3676, 'heartbreak': 3677, 'valuabl': 3678, 'exit': 3679, 'drum': 3680, 'despair': 3681, 'dust': 3682, 'bergman': 3683, 'rambl': 3684, 'drain': 3685, 'montana': 3686, 'kyle': 3687, 'del': 3688, 'recycl': 3689, 'bow': 3690, 'thru': 3691, 'latin': 3692, 'rope': 3693, 'dalton': 3694, 'cg': 3695, 'whoopi': 3696, 'tail': 3697, 'bumbl': 3698, 'emperor': 3699, 'farrel': 3700, 'compens': 3701, 'deed': 3702, 'tad': 3703, 'campbel': 3704, 'miseri': 3705, 'romp': 3706, 'rotten': 3707, 'bleed': 3708, '35': 3709, 'downhil': 3710, 'mistress': 3711, 'airport': 3712, 'chess': 3713, 'da': 3714, 'tonight': 3715, 'gimmick': 3716, 'rapist': 3717, 'carradin': 3718, 'contempl': 3719, 'oppress': 3720, 'radic': 3721, 'orson': 3722, 'martian': 3723, 'pour': 3724, 'wacki': 3725, 'roth': 3726, 'gal': 3727, 'slug': 3728, 'olli': 3729, 'percept': 3730, 'pervers': 3731, 'mislead': 3732, 'programm': 3733, 'pervert': 3734, 'tooth': 3735, 'melodi': 3736, 'tackl': 3737, 'stilt': 3738, 'edgar': 3739, 'dazzl': 3740, 'heal': 3741, 'belt': 3742, 'preach': 3743, 'champion': 3744, 'pursuit': 3745, '1983': 3746, 'unpredict': 3747, 'slash': 3748, 'taught': 3749, 'attorney': 3750, 'shelley': 3751, 'banal': 3752, 'paltrow': 3753, 'arguabl': 3754, 'arc': 3755, 'sensat': 3756, 'cleverli': 3757, 'maid': 3758, 'plight': 3759, 'tiresom': 3760, 'rubi': 3761, 'uplift': 3762, 'gambl': 3763, 'closest': 3764, 'employe': 3765, 'orang': 3766, 'mesmer': 3767, 'poem': 3768, 'virginia': 3769, 'passeng': 3770, 'conneri': 3771, 'vengeanc': 3772, 'chicken': 3773, 'raymond': 3774, 'graham': 3775, 'franki': 3776, 'duval': 3777, 'vocal': 3778, 'bela': 3779, 'marti': 3780, 'dixon': 3781, 'volum': 3782, 'secretli': 3783, 'profan': 3784, 'quarter': 3785, 'numb': 3786, 'suffic': 3787, 'monologu': 3788, 'bay': 3789, 'convincingli': 3790, 'clone': 3791, 'mute': 3792, 'paranoia': 3793, 'calm': 3794, 'abraham': 3795, 'outing': 3796, 'tube': 3797, '1968': 3798, 'extens': 3799, 'sirk': 3800, 'engross': 3801, 'swallow': 3802, 'gerard': 3803, 'climact': 3804, 'amitabh': 3805, 'crystal': 3806, 'inject': 3807, 'giggl': 3808, 'yawn': 3809, 'scottish': 3810, 'lundgren': 3811, 'habit': 3812, 'iran': 3813, 'whine': 3814, 'pokemon': 3815, 'underst': 3816, 'richardson': 3817, 'frankenstein': 3818, 'chicago': 3819, 'linger': 3820, 'expand': 3821, 'surpass': 3822, 'ethan': 3823, 'septemb': 3824, 'im': 3825, 'grotesqu': 3826, 'meander': 3827, 'franci': 3828, 'spock': 3829, 'trend': 3830, 'backward': 3831, 'poetri': 3832, 'junior': 3833, 'fed': 3834, 'earl': 3835, 'nichola': 3836, 'abort': 3837, 'plod': 3838, 'lowest': 3839, 'profess': 3840, 'bend': 3841, 'taxi': 3842, 'dispos': 3843, 'austen': 3844, 'spoke': 3845, 'nostalgia': 3846, 'rant': 3847, 'compliment': 3848, 'instrument': 3849, 'hum': 3850, 'muddl': 3851, 'household': 3852, 'sue': 3853, 'mundan': 3854, 'lure': 3855, 'simplic': 3856, 'cannon': 3857, 'catchi': 3858, 'stallon': 3859, 'waitress': 3860, 'econom': 3861, 'greedi': 3862, 'myth': 3863, 'der': 3864, 'dysfunct': 3865, 'descent': 3866, 'literatur': 3867, 'tourist': 3868, 'eugen': 3869, 'rubber': 3870, 'map': 3871, 'damon': 3872, 'dictat': 3873, 'deaf': 3874, 'furi': 3875, 'occupi': 3876, 'cent': 3877, 'mankind': 3878, 'recognis': 3879, 'dement': 3880, 'coast': 3881, 'molli': 3882, 'stale': 3883, 'duck': 3884, 'omen': 3885, 'sissi': 3886, 'mortal': 3887, 'crucial': 3888, 'bacal': 3889, 'louis': 3890, 'carel': 3891, 'phoni': 3892, 'recognit': 3893, 'randi': 3894, 'june': 3895, 'phantom': 3896, 'hello': 3897, 'firstli': 3898, 'lang': 3899, 'equival': 3900, 'irrelev': 3901, 'insur': 3902, 'eaten': 3903, 'alongsid': 3904, 'flee': 3905, 'twilight': 3906, 'drake': 3907, 'bump': 3908, 'onlin': 3909, 'ashley': 3910, 'grayson': 3911, 'heel': 3912, 'wisdom': 3913, 'labor': 3914, 'rude': 3915, 'damm': 3916, 'dreari': 3917, 'reign': 3918, 'bike': 3919, '1973': 3920, 'newli': 3921, 'daisi': 3922, 'loyalti': 3923, 'distinguish': 3924, 'freez': 3925, 'blackmail': 3926, 'lengthi': 3927, 'buffalo': 3928, 'biko': 3929, 'antwon': 3930, 'cyborg': 3931, 'rooney': 3932, 'likewis': 3933, 'unorigin': 3934, 'ridden': 3935, 'worn': 3936, 'barrymor': 3937, 'exposur': 3938, 'incorpor': 3939, 'tunnel': 3940, 'vein': 3941, 'basketbal': 3942, 'butler': 3943, 'startl': 3944, 'attribut': 3945, 'sailor': 3946, 'inher': 3947, 'prey': 3948, 'emphas': 3949, 'keith': 3950, 'pink': 3951, 'provoc': 3952, 'interior': 3953, 'boxer': 3954, 'analysi': 3955, 'nineti': 3956, 'baddi': 3957, 'proce': 3958, 'chronicl': 3959, 'approv': 3960, 'substitut': 3961, 'bunni': 3962, 'undeni': 3963, 'indiffer': 3964, 'millionair': 3965, 'condemn': 3966, 'julian': 3967, 'elm': 3968, 'carla': 3969, 'er': 3970, 'mighti': 3971, 'improvis': 3972, 'unrel': 3973, 'nicol': 3974, 'drift': 3975, 'underli': 3976, 'mormon': 3977, 'walsh': 3978, 'belushi': 3979, 'degrad': 3980, 'meyer': 3981, 'meg': 3982, 'robbin': 3983, 'hypnot': 3984, 'fleet': 3985, 'barrel': 3986, 'predat': 3987, 'simmon': 3988, 'stalker': 3989, 'othello': 3990, 'agenda': 3991, 'alarm': 3992, 'nyc': 3993, 'vital': 3994, 'unawar': 3995, 'priceless': 3996, 'enthusiasm': 3997, 'roof': 3998, 'lampoon': 3999, '3d': 4000, 'edgi': 4001, 'hay': 4002, 'exquisit': 4003, 'disord': 4004, 'watson': 4005, 'warmth': 4006, 'alison': 4007, 'errol': 4008, 'mtv': 4009, 'marion': 4010, 'palac': 4011, 'greed': 4012, 'shove': 4013, 'novak': 4014, 'dolph': 4015, 'reid': 4016, 'rukh': 4017, 'firm': 4018, 'spain': 4019, 'testament': 4020, 'glanc': 4021, 'peck': 4022, 'iraq': 4023, 'drip': 4024, 'nun': 4025, '1933': 4026, 'petti': 4027, 'profit': 4028, 'campaign': 4029, 'showdown': 4030, 'sergeant': 4031, 'zizek': 4032, 'ponder': 4033, 'minimum': 4034, 'peril': 4035, 'preserv': 4036, 'crown': 4037, 'what': 4038, 'thompson': 4039, 'orlean': 4040, 'israel': 4041, 'eastern': 4042, 'coup': 4043, 'beatl': 4044, 'angela': 4045, 'randomli': 4046, 'pamela': 4047, 'gestur': 4048, 'championship': 4049, 'distort': 4050, 'simultan': 4051, 'cassidi': 4052, 'unleash': 4053, '13th': 4054, 'session': 4055, 'valentin': 4056, 'valley': 4057, 'wig': 4058, 'jan': 4059, 'reson': 4060, 'realm': 4061, 'mon': 4062, 'kurosawa': 4063, '1984': 4064, 'travesti': 4065, 'buster': 4066, 'crawl': 4067, 'quinn': 4068, 'fido': 4069, 'cooki': 4070, 'stroke': 4071, 'bro': 4072, 'crow': 4073, 'calib': 4074, 'contradict': 4075, 'han': 4076, 'unimagin': 4077, 'gentleman': 4078, 'brenda': 4079, 'scotland': 4080, 'perpetu': 4081, 'restrain': 4082, 'climat': 4083, 'stake': 4084, 'represent': 4085, 'regist': 4086, 'cream': 4087, 'miyazaki': 4088, 'sabrina': 4089, 'din': 4090, 'rout': 4091, 'empathi': 4092, 'shootout': 4093, 'exposit': 4094, 'perceiv': 4095, 'sucker': 4096, 'warrant': 4097, 'meryl': 4098, 'delic': 4099, 'absent': 4100, 'shoddi': 4101, 'distress': 4102, 'pretens': 4103, 'shaki': 4104, 'ross': 4105, 'businessman': 4106, 'wax': 4107, 'compromis': 4108, 'stargat': 4109, 'censor': 4110, 'fuller': 4111, 'spacey': 4112, 'passabl': 4113, 'unseen': 4114, 'darren': 4115, 'dana': 4116, 'greg': 4117, 'abomin': 4118, 'crawford': 4119, 'derang': 4120, '1987': 4121, 'cloud': 4122, 'demis': 4123, 'tacki': 4124, 'baldwin': 4125, 'monoton': 4126, 'sammi': 4127, 'josh': 4128, 'traumat': 4129, 'geek': 4130, 'unsatisfi': 4131, 'pole': 4132, 'painter': 4133, 'mclaglen': 4134, '1997': 4135, 'femm': 4136, 'ustinov': 4137, 'soderbergh': 4138, 'antonioni': 4139, 'unravel': 4140, 'sid': 4141, 'primit': 4142, 'deniro': 4143, 'polici': 4144, 'clash': 4145, 'fenc': 4146, '1993': 4147, 'kumar': 4148, 'jewel': 4149, 'exclus': 4150, 'wholli': 4151, 'dee': 4152, 'reluct': 4153, 'judgment': 4154, 'tarantino': 4155, 'deceas': 4156, 'anchor': 4157, 'expedit': 4158, 'uncov': 4159, 'click': 4160, 'nathan': 4161, 'fog': 4162, 'furiou': 4163, 'tech': 4164, 'valid': 4165, 'verbal': 4166, 'austin': 4167, 'norm': 4168, 'accuraci': 4169, 'seal': 4170, 'correctli': 4171, 'alec': 4172, 'fabric': 4173, 'patienc': 4174, 'temper': 4175, 'conduct': 4176, 'unfair': 4177, 'enforc': 4178, 'sheet': 4179, 'murray': 4180, 'roller': 4181, 'darn': 4182, '1971': 4183, 'sustain': 4184, 'logan': 4185, 'hallucin': 4186, 'tax': 4187, '3000': 4188, 'pocket': 4189, 'clerk': 4190, 'malon': 4191, 'behold': 4192, 'mode': 4193, 'joel': 4194, 'debt': 4195, 'seldom': 4196, 'fought': 4197, 'dreck': 4198, '2008': 4199, 'sand': 4200, 'crippl': 4201, 'fart': 4202, 'vanc': 4203, 'ritual': 4204, 'nicola': 4205, 'wretch': 4206, 'shanghai': 4207, '1995': 4208, 'slam': 4209, 'bake': 4210, 'trait': 4211, 'sunni': 4212, 'wang': 4213, 'outlin': 4214, 'grief': 4215, 'phil': 4216, 'schedul': 4217, 'tactic': 4218, 'fundament': 4219, 'critiqu': 4220, 'bias': 4221, 'stark': 4222, 'guitar': 4223, 'runner': 4224, 'divid': 4225, 'shell': 4226, 'technicolor': 4227, 'clau': 4228, 'canyon': 4229, 'scriptwrit': 4230, 'helpless': 4231, 'preposter': 4232, 'isabel': 4233, 'pete': 4234, 'legaci': 4235, 'robber': 4236, 'conscious': 4237, 'rita': 4238, 'exhaust': 4239, 'despis': 4240, 'sweep': 4241, 'preston': 4242, 'stuart': 4243, 'squad': 4244, 'soup': 4245, 'penni': 4246, 'bridget': 4247, 'vomit': 4248, 'rear': 4249, 'agenc': 4250, 'inabl': 4251, 'boyl': 4252, 'connor': 4253, 'invad': 4254, 'gregori': 4255, 'propos': 4256, 'delv': 4257, 'kansa': 4258, 'rehash': 4259, 'drove': 4260, 'sentinel': 4261, 'implic': 4262, 'lacklust': 4263, 'alicia': 4264, 'cigarett': 4265, 'passag': 4266, 'flair': 4267, 'jodi': 4268, 'jacket': 4269, 'liberti': 4270, 'russia': 4271, 'sniper': 4272, 'culmin': 4273, 'consciou': 4274, 'palanc': 4275, 'newman': 4276, 'bloom': 4277, 'restrict': 4278, 'downey': 4279, 'sugar': 4280, 'unexpectedli': 4281, 'marc': 4282, 'alley': 4283, 'asylum': 4284, 'pale': 4285, 'feat': 4286, 'karl': 4287, 'delet': 4288, 'ladder': 4289, 'behaviour': 4290, 'wrench': 4291, 'vet': 4292, 'bacon': 4293, 'chainsaw': 4294, '22': 4295, 'kolchak': 4296, 'arrow': 4297, 'rampag': 4298, 'tripe': 4299, 'rehears': 4300, 'tendenc': 4301, 'improb': 4302, '1936': 4303, 'horn': 4304, 'lush': 4305, 'foxx': 4306, 'cap': 4307, 'awhil': 4308, 'aesthet': 4309, 'yeti': 4310, 'rod': 4311, 'mccoy': 4312, 'sharon': 4313, 'conscienc': 4314, 'minu': 4315, 'fright': 4316, 'rhythm': 4317, 'tomorrow': 4318, 'coaster': 4319, 'prank': 4320, 'suspicion': 4321, 'aristocrat': 4322, 'hulk': 4323, 'weav': 4324, '1988': 4325, 'loneli': 4326, 'sung': 4327, 'suffici': 4328, 'lurk': 4329, '1920': 4330, '1978': 4331, 'wagner': 4332, '19th': 4333, 'visitor': 4334, 'spice': 4335, 'elit': 4336, 'hackney': 4337, 'amazon': 4338, 'tasteless': 4339, 'financ': 4340, 'hungri': 4341, 'paramount': 4342, 'newcom': 4343, 'rumor': 4344, 'underneath': 4345, 'scoop': 4346, 'globe': 4347, 'stream': 4348, 'basing': 4349, 'paradis': 4350, 'thunderbird': 4351, 'filler': 4352, 'shortcom': 4353, 'wildli': 4354, 'el': 4355, 'tierney': 4356, 'brit': 4357, 'grudg': 4358, 'chamberlain': 4359, 'dirt': 4360, 'hopkin': 4361, 'standout': 4362, 'leigh': 4363, 'entranc': 4364, 'ingeni': 4365, 'choppi': 4366, 'minist': 4367, 'impos': 4368, 'naughti': 4369, 'heist': 4370, 'smell': 4371, 'counterpart': 4372, 'teas': 4373, 'worship': 4374, '1939': 4375, '75': 4376, 'abrupt': 4377, 'rub': 4378, 'lectur': 4379, 'iv': 4380, 'immers': 4381, 'ram': 4382, 'straightforward': 4383, 'penn': 4384, 'cancer': 4385, 'bread': 4386, 'posey': 4387, 'secondari': 4388, 'en': 4389, 'paxton': 4390, 'couch': 4391, 'springer': 4392, 'recogniz': 4393, 'quietli': 4394, 'wwe': 4395, 'literari': 4396, 'inmat': 4397, '1989': 4398, 'beverli': 4399, 'chavez': 4400, 'curli': 4401, 'atroc': 4402, 'misguid': 4403, 'sassi': 4404, 'nolan': 4405, 'laurenc': 4406, 'variat': 4407, 'heartfelt': 4408, 'enthral': 4409, 'transcend': 4410, 'bernard': 4411, 'sublim': 4412, 'skeptic': 4413, 'entitl': 4414, 'lindsay': 4415, 'watcher': 4416, 'yearn': 4417, 'esther': 4418, 'morbid': 4419, 'cattl': 4420, 'missil': 4421, 'convert': 4422, 'attenborough': 4423, '1986': 4424, 'moreov': 4425, 'injuri': 4426, 'policeman': 4427, 'ace': 4428, 'quaid': 4429, 'ratso': 4430, 'duel': 4431, 'geni': 4432, 'clan': 4433, 'nemesi': 4434, 'net': 4435, 'characteris': 4436, 'kidman': 4437, 'enabl': 4438, 'obstacl': 4439, 'mytholog': 4440, '1979': 4441, 'uncut': 4442, 'rosemari': 4443, 'out': 4444, 'puppi': 4445, 'brood': 4446, 'moder': 4447, 'egg': 4448, 'reliabl': 4449, 'artsi': 4450, 'poe': 4451, 'kitti': 4452, 'bean': 4453, 'diari': 4454, 'spiral': 4455, 'bye': 4456, 'unexplain': 4457, 'buzz': 4458, 'graini': 4459, 'grin': 4460, 'hopelessli': 4461, 'hk': 4462, 'vader': 4463, 'setup': 4464, 'youngest': 4465, 'tyler': 4466, 'facil': 4467, 'cruelti': 4468, 'dont': 4469, 'steadi': 4470, 'carlito': 4471, 'preming': 4472, 'disastr': 4473, 'hain': 4474, 'weather': 4475, 'hammi': 4476, 'underworld': 4477, 'bronson': 4478, 'baffl': 4479, 'sweat': 4480, 'niec': 4481, 'clueless': 4482, 'oblig': 4483, 'despic': 4484, 'narrow': 4485, 'christin': 4486, 'bounc': 4487, 'exterior': 4488, 'spontan': 4489, 'patricia': 4490, 'bewar': 4491, 'effici': 4492, '1969': 4493, 'acquaint': 4494, 'fuel': 4495, 'martha': 4496, 'heap': 4497, 'athlet': 4498, 'brendan': 4499, 'kline': 4500, 'gillian': 4501, 'decept': 4502, 'gina': 4503, 'analyz': 4504, 'uh': 4505, 'mayhem': 4506, 'dilemma': 4507, 'preachi': 4508, 'injur': 4509, '19': 4510, 'circu': 4511, 'outlaw': 4512, 'suprem': 4513, 'dandi': 4514, 'loath': 4515, 'taboo': 4516, 'housewif': 4517, 'trigger': 4518, 'sooner': 4519, 'virtu': 4520, 'biker': 4521, 'sleepwalk': 4522, '73': 4523, 'insipid': 4524, 'headach': 4525, 'viewpoint': 4526, 'astound': 4527, 'mermaid': 4528, 'angst': 4529, 'enlist': 4530, 'tick': 4531, 'hepburn': 4532, 'loi': 4533, 'candl': 4534, 'scar': 4535, 'goof': 4536, 'renaiss': 4537, 'fontain': 4538, 'harmless': 4539, 'lester': 4540, 'rome': 4541, 'shatter': 4542, 'camcord': 4543, 'gere': 4544, 'overlong': 4545, 'intric': 4546, 'stimul': 4547, 'bent': 4548, 'sox': 4549, 'steer': 4550, 'whore': 4551, 'boston': 4552, 'claustrophob': 4553, 'macho': 4554, 'amor': 4555, 'redund': 4556, 'immatur': 4557, 'filth': 4558, 'corbett': 4559, 'slimi': 4560, 'guin': 4561, 'hostag': 4562, 'ebert': 4563, 'contempt': 4564, 'stair': 4565, 'dish': 4566, 'hokey': 4567, 'oldest': 4568, 'surgeri': 4569, 'ariel': 4570, 'idol': 4571, 'cassavet': 4572, 'glorifi': 4573, 'phenomenon': 4574, 'scorses': 4575, 'fluff': 4576, 'tripl': 4577, 'spade': 4578, 'foolish': 4579, 'dismal': 4580, 'salt': 4581, 'hooker': 4582, 'zoom': 4583, 'corman': 4584, 'gasp': 4585, 'radiat': 4586, 'naschi': 4587, 'spinal': 4588, 'widescreen': 4589, 'cush': 4590, 'remad': 4591, 'faint': 4592, 'shield': 4593, 'obligatori': 4594, 'transplant': 4595, 'down': 4596, 'trivia': 4597, 'margin': 4598, 'antagonist': 4599, 'astronaut': 4600, 'conquer': 4601, 'cow': 4602, 'dwarf': 4603, 'harold': 4604, '1976': 4605, 'perman': 4606, 'assert': 4607, 'proport': 4608, 'cohen': 4609, 'shred': 4610, 'fascist': 4611, 'muscl': 4612, 'schlock': 4613, 'keen': 4614, 'rhyme': 4615, 'preced': 4616, 'mount': 4617, 'messi': 4618, 'alvin': 4619, 'flirt': 4620, 'zane': 4621, 'nolt': 4622, 'flashi': 4623, 'joker': 4624, 'spree': 4625, 'beard': 4626, 'flag': 4627, 'strongest': 4628, 'mutual': 4629, 'frantic': 4630, 'gabl': 4631, '1981': 4632, '95': 4633, 'hara': 4634, 'www': 4635, '1945': 4636, 'interestingli': 4637, 'instruct': 4638, 'info': 4639, 'inflict': 4640, 'mobil': 4641, 'bitten': 4642, 'archiv': 4643, '28': 4644, 'brush': 4645, 'departur': 4646, 'triangl': 4647, 'repris': 4648, 'bachelor': 4649, 'someday': 4650, 'discern': 4651, 'deer': 4652, 'sensual': 4653, 'off': 4654, 'strive': 4655, 'claud': 4656, 'vaniti': 4657, 'boob': 4658, 'raj': 4659, 'wield': 4660, 'scandal': 4661, 'barn': 4662, 'carey': 4663, 'danish': 4664, 'divin': 4665, 'ritchi': 4666, 'flock': 4667, 'resum': 4668, 'neurot': 4669, 'mol': 4670, 'fishburn': 4671, 'aborigin': 4672, 'persuad': 4673, 'earnest': 4674, 'submit': 4675, 'axe': 4676, 'fragil': 4677, 'proclaim': 4678, 'dylan': 4679, 'ish': 4680, 'senior': 4681, 'dame': 4682, 'timberlak': 4683, 'prophet': 4684, 'harrison': 4685, 'cher': 4686, 'cycl': 4687, 'banter': 4688, 'biblic': 4689, 'hapless': 4690, 'colin': 4691, 'helm': 4692, 'clad': 4693, 'anton': 4694, 'rot': 4695, 'recit': 4696, 'parson': 4697, 'hug': 4698, 'cb': 4699, 'cliffhang': 4700, 'dim': 4701, 'undermin': 4702, 'wendigo': 4703, 'carlo': 4704, 'melissa': 4705, 'loretta': 4706, 'heartwarm': 4707, 'hilar': 4708, 'pacif': 4709, 'jade': 4710, 'traffic': 4711, 'pixar': 4712, 'artwork': 4713, 'mobster': 4714, 'frontier': 4715, 'casino': 4716, 'luka': 4717, 'bate': 4718, 'vibrant': 4719, 'kathryn': 4720, 'miracul': 4721, 'pickford': 4722, 'europa': 4723, 'neill': 4724, 'venom': 4725, 'foil': 4726, 'articl': 4727, 'antholog': 4728, 'vanessa': 4729, 'toronto': 4730, 'flavor': 4731, 'akin': 4732, 'http': 4733, 'jordan': 4734, 'nope': 4735, 'bikini': 4736, 'mason': 4737, 'aris': 4738, 'seedi': 4739, 'vile': 4740, 'static': 4741, 'redneck': 4742, 'northern': 4743, 'misfortun': 4744, 'estrang': 4745, 'breakfast': 4746, 'isra': 4747, 'sicken': 4748, 'token': 4749, 'razor': 4750, 'illus': 4751, 'marlon': 4752, 'shepherd': 4753, 'lui': 4754, 'trier': 4755, 'orphan': 4756, 'wardrob': 4757, 'cerebr': 4758, 'blatantli': 4759, 'electron': 4760, 'uma': 4761, 'feast': 4762, 'alexandr': 4763, 'milo': 4764, 'lucil': 4765, 'bondag': 4766, 'choke': 4767, 'pc': 4768, 'mathieu': 4769, 'holocaust': 4770, 'eli': 4771, 'rooki': 4772, 'jo': 4773, 'legitim': 4774, 'winchest': 4775, 'linear': 4776, 'deem': 4777, 'smack': 4778, 'dudley': 4779, 'wrestler': 4780, 'comprehend': 4781, 'psych': 4782, 'outdat': 4783, 'abund': 4784, 'swept': 4785, 'huston': 4786, 'shorter': 4787, 'disregard': 4788, 'cartoonish': 4789, 'turd': 4790, 'audrey': 4791, 'leather': 4792, 'peer': 4793, 'boyer': 4794, 'highway': 4795, 'styliz': 4796, 'frog': 4797, 'nightclub': 4798, 'gilbert': 4799, 'tack': 4800, 'magician': 4801, 'ideolog': 4802, 'feminin': 4803, 'oppon': 4804, 'howl': 4805, 'charlton': 4806, 'clinic': 4807, 'gunga': 4808, 'knightley': 4809, 'retriev': 4810, 'glare': 4811, 'fifth': 4812, 'ceremoni': 4813, 'affleck': 4814, 'phenomen': 4815, 'energet': 4816, '4th': 4817, 'spawn': 4818, 'sleaz': 4819, 'corn': 4820, 'cemeteri': 4821, 'spine': 4822, 'uniformli': 4823, 'evolut': 4824, 'senat': 4825, 'summar': 4826, '1991': 4827, 'breakdown': 4828, 'moe': 4829, 'potter': 4830, 'monument': 4831, 'chip': 4832, '1994': 4833, 'collector': 4834, 'conrad': 4835, 'whack': 4836, 'greet': 4837, 'bastard': 4838, 'deliver': 4839, 'lighter': 4840, 'mitch': 4841, 'compris': 4842, 'bogu': 4843, 'btw': 4844, 'durat': 4845, 'toe': 4846, 'einstein': 4847, 'lifeless': 4848, 'boo': 4849, 'salman': 4850, 'newer': 4851, 'snatch': 4852, 'client': 4853, 'tara': 4854, 'goldsworthi': 4855, 'lavish': 4856, 'plate': 4857, 'braveheart': 4858, 'cuban': 4859, 'replay': 4860, 'signal': 4861, 'nina': 4862, 'occup': 4863, 'historian': 4864, 'trauma': 4865, 'judd': 4866, 'capot': 4867, 'appl': 4868, 'kazan': 4869, 'gilliam': 4870, 'fluid': 4871, 'armstrong': 4872, 'healthi': 4873, '1974': 4874, 'pronounc': 4875, 'undead': 4876, 'cecil': 4877, 'jam': 4878, 'jule': 4879, 'lex': 4880, 'creek': 4881, 'outright': 4882, 'spectacl': 4883, 'firmli': 4884, 'eleven': 4885, 'inaccuraci': 4886, 'belli': 4887, 'evelyn': 4888, 'jare': 4889, 'randolph': 4890, 'ie': 4891, 'bulk': 4892, 'wtf': 4893, 'luxuri': 4894, 'neatli': 4895, 'embark': 4896, 'sorrow': 4897, 'bori': 4898, 'ol': 4899, 'constitut': 4900, '1977': 4901, 'undertak': 4902, 'liu': 4903, 'mcqueen': 4904, 'kent': 4905, 'jedi': 4906, 'alleg': 4907, 'clara': 4908, 'decapit': 4909, 'poker': 4910, 'sacrif': 4911, 'subtli': 4912, 'comprehens': 4913, 'pioneer': 4914, 'id': 4915, 'truman': 4916, 'relentless': 4917, 'porter': 4918, 'basket': 4919, 'comb': 4920, 'galaxi': 4921, 'palm': 4922, 'lauren': 4923, 'genet': 4924, 'propheci': 4925, 'rosario': 4926, 'knee': 4927, 'bsg': 4928, 'inaccur': 4929, '1985': 4930, 'roar': 4931, 'paula': 4932, 'kiddi': 4933, 'groan': 4934, 'antonio': 4935, 'walt': 4936, 'vignett': 4937, 'tokyo': 4938, 'spray': 4939, 'abound': 4940, 'meal': 4941, 'blur': 4942, 'cape': 4943, 'curtain': 4944, 'vain': 4945, 'forgiven': 4946, 'mum': 4947, 'unsuspect': 4948, 'miami': 4949, 'congratul': 4950, 'unattract': 4951, 'miniseri': 4952, 'inclus': 4953, 'ash': 4954, 'lanc': 4955, 'bait': 4956, 'conan': 4957, 'carmen': 4958, 'goldblum': 4959, 'fruit': 4960, 'pepper': 4961, 'sidewalk': 4962, 'aussi': 4963, 'motorcycl': 4964, 'bach': 4965, 'handicap': 4966, 'weaker': 4967, 'macabr': 4968, 'ghetto': 4969, 'sparkl': 4970, 'victorian': 4971, 'rapidli': 4972, 'evan': 4973, 'incorrect': 4974, 'asset': 4975, 'ingrid': 4976, 'hostil': 4977, 'vastli': 4978, 'weari': 4979, 'sophi': 4980, 'drone': 4981, '21st': 4982, 'omin': 4983, 'verg': 4984, 'cypher': 4985, 'orchestr': 4986, 'frontal': 4987, 'scarfac': 4988, 'reincarn': 4989, 'detach': 4990, 'spill': 4991, 'bravo': 4992, 'modest': 4993, 'substanti': 4994, 'masterson': 4995, 'dubiou': 4996, 'hackman': 4997, 'monti': 4998, 'scariest': 4999}\n"
     ]
    }
   ],
   "source": [
    "word_dict = build_dict(train_X)\n",
    "print(word_dict)"
   ]
  },
  {
   "cell_type": "markdown",
   "metadata": {},
   "source": [
    "**Question:** What are the five most frequently appearing (tokenized) words in the training set? Does it makes sense that these words appear frequently in the training set?"
   ]
  },
  {
   "cell_type": "markdown",
   "metadata": {},
   "source": [
    "**Answer:**movi, film, one, like, time"
   ]
  },
  {
   "cell_type": "code",
   "execution_count": 14,
   "metadata": {},
   "outputs": [],
   "source": [
    "# TODO: Use this space to determine the five most frequently appearing words in the training set.\n",
    "def five_most(data, vocab_size = 5000):\n",
    "    \"\"\"Construct and return a dictionary mapping each of the most frequently appearing words to a unique integer.\"\"\"\n",
    "    \n",
    "    # TODO: Determine how often each word appears in `data`. Note that `data` is a list of sentences and that a\n",
    "    #       sentence is a list of words.\n",
    "    \n",
    "    word_count = {} # A dict storing the words that appear in the reviews along with how often they occur\n",
    "    \n",
    "    for each_review in data:\n",
    "        for each_word in each_review:\n",
    "            if each_word in word_count:\n",
    "                word_count[each_word] += 1\n",
    "            else: \n",
    "                word_count[each_word] = 1\n",
    "    \n",
    "    # TODO: Sort the words found in `data` so that sorted_words[0] is the most frequently appearing word and\n",
    "    #       sorted_words[-1] is the least frequently appearing word.\n",
    "    \n",
    "    sorted_wordlist =sorted(word_count.items(), key=lambda x: x[1], reverse=True)\n",
    "    \n",
    "    sorted_words = [k for k,_ in sorted_wordlist]\n",
    "    \n",
    "    sorted_wordlist = None\n",
    "        \n",
    "    return sorted_words"
   ]
  },
  {
   "cell_type": "markdown",
   "metadata": {},
   "source": [
    "### Save `word_dict`\n",
    "\n",
    "Later on when we construct an endpoint which processes a submitted review we will need to make use of the `word_dict` which we have created. As such, we will save it to a file now for future use."
   ]
  },
  {
   "cell_type": "code",
   "execution_count": 15,
   "metadata": {},
   "outputs": [],
   "source": [
    "data_dir = '../data/pytorch' # The folder we will use for storing data\n",
    "if not os.path.exists(data_dir): # Make sure that the folder exists\n",
    "    os.makedirs(data_dir)"
   ]
  },
  {
   "cell_type": "code",
   "execution_count": 16,
   "metadata": {},
   "outputs": [],
   "source": [
    "with open(os.path.join(data_dir, 'word_dict.pkl'), \"wb\") as f:\n",
    "    pickle.dump(word_dict, f)"
   ]
  },
  {
   "cell_type": "markdown",
   "metadata": {},
   "source": [
    "### Transform the reviews\n",
    "\n",
    "Now that we have our word dictionary which allows us to transform the words appearing in the reviews into integers, it is time to make use of it and convert our reviews to their integer sequence representation, making sure to pad or truncate to a fixed length, which in our case is `500`."
   ]
  },
  {
   "cell_type": "code",
   "execution_count": 17,
   "metadata": {},
   "outputs": [],
   "source": [
    "def convert_and_pad(word_dict, sentence, pad=500):\n",
    "    NOWORD = 0 # We will use 0 to represent the 'no word' category\n",
    "    INFREQ = 1 # and we use 1 to represent the infrequent words, i.e., words not appearing in word_dict\n",
    "    \n",
    "    working_sentence = [NOWORD] * pad\n",
    "    \n",
    "    for word_index, word in enumerate(sentence[:pad]):\n",
    "        if word in word_dict:\n",
    "            working_sentence[word_index] = word_dict[word]\n",
    "        else:\n",
    "            working_sentence[word_index] = INFREQ\n",
    "            \n",
    "    return working_sentence, min(len(sentence), pad)\n",
    "\n",
    "def convert_and_pad_data(word_dict, data, pad=500):\n",
    "    result = []\n",
    "    lengths = []\n",
    "    \n",
    "    for sentence in data:\n",
    "        converted, leng = convert_and_pad(word_dict, sentence, pad)\n",
    "        result.append(converted)\n",
    "        lengths.append(leng)\n",
    "        \n",
    "    return np.array(result), np.array(lengths)"
   ]
  },
  {
   "cell_type": "code",
   "execution_count": 18,
   "metadata": {},
   "outputs": [],
   "source": [
    "train_X, train_X_len = convert_and_pad_data(word_dict, train_X)\n",
    "test_X, test_X_len = convert_and_pad_data(word_dict, test_X)"
   ]
  },
  {
   "cell_type": "markdown",
   "metadata": {},
   "source": [
    "As a quick check to make sure that things are working as intended, check to see what one of the reviews in the training set looks like after having been processeed. Does this look reasonable? What is the length of a review in the training set?"
   ]
  },
  {
   "cell_type": "code",
   "execution_count": 19,
   "metadata": {},
   "outputs": [
    {
     "name": "stdout",
     "output_type": "stream",
     "text": [
      "len of a review 500\n",
      "[ 149 1288    3  286  118    5    4  149   75  323  975 1758 1554  446\n",
      "   23    5  622  280 1930  213 1036  204    1 1290   13  117 1871  328\n",
      "  272 1275   73  125   98   32 1813  223    1 1122  256  851   13   57\n",
      "    3  312  591  579  317  692    0    0    0    0    0    0    0    0\n",
      "    0    0    0    0    0    0    0    0    0    0    0    0    0    0\n",
      "    0    0    0    0    0    0    0    0    0    0    0    0    0    0\n",
      "    0    0    0    0    0    0    0    0    0    0    0    0    0    0\n",
      "    0    0    0    0    0    0    0    0    0    0    0    0    0    0\n",
      "    0    0    0    0    0    0    0    0    0    0    0    0    0    0\n",
      "    0    0    0    0    0    0    0    0    0    0    0    0    0    0\n",
      "    0    0    0    0    0    0    0    0    0    0    0    0    0    0\n",
      "    0    0    0    0    0    0    0    0    0    0    0    0    0    0\n",
      "    0    0    0    0    0    0    0    0    0    0    0    0    0    0\n",
      "    0    0    0    0    0    0    0    0    0    0    0    0    0    0\n",
      "    0    0    0    0    0    0    0    0    0    0    0    0    0    0\n",
      "    0    0    0    0    0    0    0    0    0    0    0    0    0    0\n",
      "    0    0    0    0    0    0    0    0    0    0    0    0    0    0\n",
      "    0    0    0    0    0    0    0    0    0    0    0    0    0    0\n",
      "    0    0    0    0    0    0    0    0    0    0    0    0    0    0\n",
      "    0    0    0    0    0    0    0    0    0    0    0    0    0    0\n",
      "    0    0    0    0    0    0    0    0    0    0    0    0    0    0\n",
      "    0    0    0    0    0    0    0    0    0    0    0    0    0    0\n",
      "    0    0    0    0    0    0    0    0    0    0    0    0    0    0\n",
      "    0    0    0    0    0    0    0    0    0    0    0    0    0    0\n",
      "    0    0    0    0    0    0    0    0    0    0    0    0    0    0\n",
      "    0    0    0    0    0    0    0    0    0    0    0    0    0    0\n",
      "    0    0    0    0    0    0    0    0    0    0    0    0    0    0\n",
      "    0    0    0    0    0    0    0    0    0    0    0    0    0    0\n",
      "    0    0    0    0    0    0    0    0    0    0    0    0    0    0\n",
      "    0    0    0    0    0    0    0    0    0    0    0    0    0    0\n",
      "    0    0    0    0    0    0    0    0    0    0    0    0    0    0\n",
      "    0    0    0    0    0    0    0    0    0    0    0    0    0    0\n",
      "    0    0    0    0    0    0    0    0    0    0    0    0    0    0\n",
      "    0    0    0    0    0    0    0    0    0    0    0    0    0    0\n",
      "    0    0    0    0    0    0    0    0    0    0    0    0    0    0\n",
      "    0    0    0    0    0    0    0    0    0    0]\n"
     ]
    }
   ],
   "source": [
    "# Use this cell to examine one of the processed reviews to make sure everything is working as intended.\n",
    "print(\"len of a review\",len(train_X[333]))\n",
    "print(train_X[333])"
   ]
  },
  {
   "cell_type": "markdown",
   "metadata": {},
   "source": [
    "**Question:** In the cells above we use the `preprocess_data` and `convert_and_pad_data` methods to process both the training and testing set. Why or why not might this be a problem?"
   ]
  },
  {
   "cell_type": "markdown",
   "metadata": {},
   "source": [
    "**Answer:** \n",
    "\n",
    "By using the preporcesing data, convert_and_pad_data there shouldnt be no problem on training and testing data sets. \n",
    "I notice these two functions are used to build dictionary and preprocess the data."
   ]
  },
  {
   "cell_type": "markdown",
   "metadata": {},
   "source": [
    "## Step 3: Upload the data to S3\n",
    "\n",
    "As in the XGBoost notebook, we will need to upload the training dataset to S3 in order for our training code to access it. For now we will save it locally and we will upload to S3 later on.\n",
    "\n",
    "### Save the processed training dataset locally\n",
    "\n",
    "It is important to note the format of the data that we are saving as we will need to know it when we write the training code. In our case, each row of the dataset has the form `label`, `length`, `review[500]` where `review[500]` is a sequence of `500` integers representing the words in the review."
   ]
  },
  {
   "cell_type": "code",
   "execution_count": 20,
   "metadata": {},
   "outputs": [],
   "source": [
    "import pandas as pd\n",
    "    \n",
    "pd.concat([pd.DataFrame(train_y), pd.DataFrame(train_X_len), pd.DataFrame(train_X)], axis=1) \\\n",
    "        .to_csv(os.path.join(data_dir, 'train.csv'), header=False, index=False)"
   ]
  },
  {
   "cell_type": "markdown",
   "metadata": {},
   "source": [
    "### Uploading the training data\n",
    "\n",
    "\n",
    "Next, we need to upload the training data to the SageMaker default S3 bucket so that we can provide access to it while training our model."
   ]
  },
  {
   "cell_type": "code",
   "execution_count": 21,
   "metadata": {},
   "outputs": [],
   "source": [
    "import sagemaker\n",
    "\n",
    "sagemaker_session = sagemaker.Session()\n",
    "\n",
    "bucket = sagemaker_session.default_bucket()\n",
    "prefix = 'sagemaker/sentiment_rnn'\n",
    "\n",
    "role = sagemaker.get_execution_role()"
   ]
  },
  {
   "cell_type": "code",
   "execution_count": 22,
   "metadata": {},
   "outputs": [],
   "source": [
    "input_data = sagemaker_session.upload_data(path=data_dir, bucket=bucket, key_prefix=prefix)"
   ]
  },
  {
   "cell_type": "markdown",
   "metadata": {},
   "source": [
    "**NOTE:** The cell above uploads the entire contents of our data directory. This includes the `word_dict.pkl` file. This is fortunate as we will need this later on when we create an endpoint that accepts an arbitrary review. For now, we will just take note of the fact that it resides in the data directory (and so also in the S3 training bucket) and that we will need to make sure it gets saved in the model directory."
   ]
  },
  {
   "cell_type": "markdown",
   "metadata": {},
   "source": [
    "## Step 4: Build and Train the PyTorch Model\n",
    "\n",
    "In the XGBoost notebook we discussed what a model is in the SageMaker framework. In particular, a model comprises three objects\n",
    "\n",
    " - Model Artifacts,\n",
    " - Training Code, and\n",
    " - Inference Code,\n",
    " \n",
    "each of which interact with one another. In the XGBoost example we used training and inference code that was provided by Amazon. Here we will still be using containers provided by Amazon with the added benefit of being able to include our own custom code.\n",
    "\n",
    "We will start by implementing our own neural network in PyTorch along with a training script. For the purposes of this project we have provided the necessary model object in the `model.py` file, inside of the `train` folder. You can see the provided implementation by running the cell below."
   ]
  },
  {
   "cell_type": "code",
   "execution_count": 23,
   "metadata": {},
   "outputs": [
    {
     "name": "stdout",
     "output_type": "stream",
     "text": [
      "\u001b[34mimport\u001b[39;49;00m \u001b[04m\u001b[36mtorch.nn\u001b[39;49;00m \u001b[34mas\u001b[39;49;00m \u001b[04m\u001b[36mnn\u001b[39;49;00m\r\n",
      "\r\n",
      "\u001b[34mclass\u001b[39;49;00m \u001b[04m\u001b[32mLSTMClassifier\u001b[39;49;00m(nn.Module):\r\n",
      "    \u001b[33m\"\"\"\u001b[39;49;00m\r\n",
      "\u001b[33m    This is the simple RNN model we will be using to perform Sentiment Analysis.\u001b[39;49;00m\r\n",
      "\u001b[33m    \"\"\"\u001b[39;49;00m\r\n",
      "\r\n",
      "    \u001b[34mdef\u001b[39;49;00m \u001b[32m__init__\u001b[39;49;00m(\u001b[36mself\u001b[39;49;00m, embedding_dim, hidden_dim, vocab_size):\r\n",
      "        \u001b[33m\"\"\"\u001b[39;49;00m\r\n",
      "\u001b[33m        Initialize the model by settingg up the various layers.\u001b[39;49;00m\r\n",
      "\u001b[33m        \"\"\"\u001b[39;49;00m\r\n",
      "        \u001b[36msuper\u001b[39;49;00m(LSTMClassifier, \u001b[36mself\u001b[39;49;00m).\u001b[32m__init__\u001b[39;49;00m()\r\n",
      "\r\n",
      "        \u001b[36mself\u001b[39;49;00m.embedding = nn.Embedding(vocab_size, embedding_dim, padding_idx=\u001b[34m0\u001b[39;49;00m)\r\n",
      "        \u001b[36mself\u001b[39;49;00m.lstm = nn.LSTM(embedding_dim, hidden_dim)\r\n",
      "        \u001b[36mself\u001b[39;49;00m.dense = nn.Linear(in_features=hidden_dim, out_features=\u001b[34m1\u001b[39;49;00m)\r\n",
      "        \u001b[36mself\u001b[39;49;00m.sig = nn.Sigmoid()\r\n",
      "        \r\n",
      "        \u001b[36mself\u001b[39;49;00m.word_dict = \u001b[36mNone\u001b[39;49;00m\r\n",
      "\r\n",
      "    \u001b[34mdef\u001b[39;49;00m \u001b[32mforward\u001b[39;49;00m(\u001b[36mself\u001b[39;49;00m, x):\r\n",
      "        \u001b[33m\"\"\"\u001b[39;49;00m\r\n",
      "\u001b[33m        Perform a forward pass of our model on some input.\u001b[39;49;00m\r\n",
      "\u001b[33m        \"\"\"\u001b[39;49;00m\r\n",
      "        x = x.t()\r\n",
      "        lengths = x[\u001b[34m0\u001b[39;49;00m,:]\r\n",
      "        reviews = x[\u001b[34m1\u001b[39;49;00m:,:]\r\n",
      "        embeds = \u001b[36mself\u001b[39;49;00m.embedding(reviews)\r\n",
      "        lstm_out, _ = \u001b[36mself\u001b[39;49;00m.lstm(embeds)\r\n",
      "        out = \u001b[36mself\u001b[39;49;00m.dense(lstm_out)\r\n",
      "        out = out[lengths - \u001b[34m1\u001b[39;49;00m, \u001b[36mrange\u001b[39;49;00m(\u001b[36mlen\u001b[39;49;00m(lengths))]\r\n",
      "        \u001b[34mreturn\u001b[39;49;00m \u001b[36mself\u001b[39;49;00m.sig(out.squeeze())\r\n"
     ]
    }
   ],
   "source": [
    "!pygmentize train/model.py"
   ]
  },
  {
   "cell_type": "markdown",
   "metadata": {},
   "source": [
    "The important takeaway from the implementation provided is that there are three parameters that we may wish to tweak to improve the performance of our model. These are the embedding dimension, the hidden dimension and the size of the vocabulary. We will likely want to make these parameters configurable in the training script so that if we wish to modify them we do not need to modify the script itself. We will see how to do this later on. To start we will write some of the training code in the notebook so that we can more easily diagnose any issues that arise.\n",
    "\n",
    "First we will load a small portion of the training data set to use as a sample. It would be very time consuming to try and train the model completely in the notebook as we do not have access to a gpu and the compute instance that we are using is not particularly powerful. However, we can work on a small bit of the data to get a feel for how our training script is behaving."
   ]
  },
  {
   "cell_type": "code",
   "execution_count": 24,
   "metadata": {},
   "outputs": [],
   "source": [
    "import torch\n",
    "import torch.utils.data\n",
    "\n",
    "# Read in only the first 250 rows\n",
    "train_sample = pd.read_csv(os.path.join(data_dir, 'train.csv'), header=None, names=None, nrows=250)\n",
    "\n",
    "# Turn the input pandas dataframe into tensors\n",
    "train_sample_y = torch.from_numpy(train_sample[[0]].values).float().squeeze()\n",
    "train_sample_X = torch.from_numpy(train_sample.drop([0], axis=1).values).long()\n",
    "\n",
    "# Build the dataset\n",
    "train_sample_ds = torch.utils.data.TensorDataset(train_sample_X, train_sample_y)\n",
    "# Build the dataloader\n",
    "train_sample_dl = torch.utils.data.DataLoader(train_sample_ds, batch_size=50)"
   ]
  },
  {
   "cell_type": "markdown",
   "metadata": {},
   "source": [
    "### (TODO) Writing the training method\n",
    "\n",
    "Next we need to write the training code itself. This should be very similar to training methods that you have written before to train PyTorch models. We will leave any difficult aspects such as model saving / loading and parameter loading until a little later."
   ]
  },
  {
   "cell_type": "code",
   "execution_count": 25,
   "metadata": {},
   "outputs": [],
   "source": [
    "def train(model, train_loader, epochs, optimizer, loss_fn, device):\n",
    "    for epoch in range(1, epochs + 1):\n",
    "        model.train()\n",
    "        total_loss = 0\n",
    "        for batch in train_loader:         \n",
    "            batch_X, batch_y = batch\n",
    "            \n",
    "            batch_X = batch_X.to(device)\n",
    "            batch_y = batch_y.to(device)\n",
    "            \n",
    "            # TODO: Complete this train method to train the model provided.\n",
    "            optimizer.zero_grad()\n",
    "            out = model.forward(batch_X)\n",
    "            loss = loss_fn(out, batch_y)\n",
    "            loss.backward()\n",
    "            optimizer.step()\n",
    "            \n",
    "            total_loss += loss.data.item()\n",
    "        print(\"Epoch: {}, BCELoss: {}\".format(epoch, total_loss / len(train_loader)))"
   ]
  },
  {
   "cell_type": "markdown",
   "metadata": {},
   "source": [
    "Supposing we have the training method above, we will test that it is working by writing a bit of code in the notebook that executes our training method on the small sample training set that we loaded earlier. The reason for doing this in the notebook is so that we have an opportunity to fix any errors that arise early when they are easier to diagnose."
   ]
  },
  {
   "cell_type": "code",
   "execution_count": 26,
   "metadata": {},
   "outputs": [
    {
     "name": "stdout",
     "output_type": "stream",
     "text": [
      "Epoch: 1, BCELoss: 0.6893600225448608\n",
      "Epoch: 2, BCELoss: 0.6806125640869141\n",
      "Epoch: 3, BCELoss: 0.6729332327842712\n",
      "Epoch: 4, BCELoss: 0.6640639185905457\n",
      "Epoch: 5, BCELoss: 0.6528802275657654\n"
     ]
    }
   ],
   "source": [
    "import torch.optim as optim\n",
    "from train.model import LSTMClassifier\n",
    "\n",
    "device = torch.device(\"cuda\" if torch.cuda.is_available() else \"cpu\")\n",
    "model = LSTMClassifier(32, 100, 5000).to(device)\n",
    "optimizer = optim.Adam(model.parameters())\n",
    "loss_fn = torch.nn.BCELoss()\n",
    "\n",
    "train(model, train_sample_dl, 5, optimizer, loss_fn, device)"
   ]
  },
  {
   "cell_type": "markdown",
   "metadata": {},
   "source": [
    "In order to construct a PyTorch model using SageMaker we must provide SageMaker with a training script. We may optionally include a directory which will be copied to the container and from which our training code will be run. When the training container is executed it will check the uploaded directory (if there is one) for a `requirements.txt` file and install any required Python libraries, after which the training script will be run."
   ]
  },
  {
   "cell_type": "markdown",
   "metadata": {},
   "source": [
    "### (TODO) Training the model\n",
    "\n",
    "When a PyTorch model is constructed in SageMaker, an entry point must be specified. This is the Python file which will be executed when the model is trained. Inside of the `train` directory is a file called `train.py` which has been provided and which contains most of the necessary code to train our model. The only thing that is missing is the implementation of the `train()` method which you wrote earlier in this notebook.\n",
    "\n",
    "**TODO**: Copy the `train()` method written above and paste it into the `train/train.py` file where required.\n",
    "\n",
    "The way that SageMaker passes hyperparameters to the training script is by way of arguments. These arguments can then be parsed and used in the training script. To see how this is done take a look at the provided `train/train.py` file."
   ]
  },
  {
   "cell_type": "code",
   "execution_count": 27,
   "metadata": {},
   "outputs": [],
   "source": [
    "from sagemaker.pytorch import PyTorch\n",
    "\n",
    "estimator = PyTorch(entry_point=\"train.py\",\n",
    "                    source_dir=\"train\",\n",
    "                    role=role,\n",
    "                    framework_version='0.4.0',\n",
    "                    train_instance_count=1,\n",
    "                    train_instance_type='ml.p2.xlarge',\n",
    "                    hyperparameters={\n",
    "                        'epochs': 10,\n",
    "                        'hidden_dim': 200,\n",
    "                    })"
   ]
  },
  {
   "cell_type": "code",
   "execution_count": 28,
   "metadata": {},
   "outputs": [
    {
     "name": "stdout",
     "output_type": "stream",
     "text": [
      "2020-04-21 09:51:11 Starting - Starting the training job......\n",
      "2020-04-21 09:51:51 Starting - Launching requested ML instances......\n",
      "2020-04-21 09:52:47 Starting - Preparing the instances for training......\n",
      "2020-04-21 09:53:57 Downloading - Downloading input data...\n",
      "2020-04-21 09:54:30 Training - Downloading the training image...\n",
      "2020-04-21 09:55:09 Training - Training image download completed. Training in progress..\u001b[34mbash: cannot set terminal process group (-1): Inappropriate ioctl for device\u001b[0m\n",
      "\u001b[34mbash: no job control in this shell\u001b[0m\n",
      "\u001b[34m2020-04-21 09:55:10,293 sagemaker-containers INFO     Imported framework sagemaker_pytorch_container.training\u001b[0m\n",
      "\u001b[34m2020-04-21 09:55:10,318 sagemaker_pytorch_container.training INFO     Block until all host DNS lookups succeed.\u001b[0m\n",
      "\u001b[34m2020-04-21 09:55:10,321 sagemaker_pytorch_container.training INFO     Invoking user training script.\u001b[0m\n",
      "\u001b[34m2020-04-21 09:55:10,546 sagemaker-containers INFO     Module train does not provide a setup.py. \u001b[0m\n",
      "\u001b[34mGenerating setup.py\u001b[0m\n",
      "\u001b[34m2020-04-21 09:55:10,547 sagemaker-containers INFO     Generating setup.cfg\u001b[0m\n",
      "\u001b[34m2020-04-21 09:55:10,547 sagemaker-containers INFO     Generating MANIFEST.in\u001b[0m\n",
      "\u001b[34m2020-04-21 09:55:10,547 sagemaker-containers INFO     Installing module with the following command:\u001b[0m\n",
      "\u001b[34m/usr/bin/python -m pip install -U . -r requirements.txt\u001b[0m\n",
      "\u001b[34mProcessing /opt/ml/code\u001b[0m\n",
      "\u001b[34mCollecting pandas (from -r requirements.txt (line 1))\n",
      "  Downloading https://files.pythonhosted.org/packages/74/24/0cdbf8907e1e3bc5a8da03345c23cbed7044330bb8f73bb12e711a640a00/pandas-0.24.2-cp35-cp35m-manylinux1_x86_64.whl (10.0MB)\u001b[0m\n",
      "\u001b[34mCollecting numpy (from -r requirements.txt (line 2))\n",
      "  Downloading https://files.pythonhosted.org/packages/45/25/48e4ea892e93348d48a3a0d23ad94b176d6ab66084efcd881c78771d4abf/numpy-1.18.3-cp35-cp35m-manylinux1_x86_64.whl (20.0MB)\u001b[0m\n",
      "\u001b[34mCollecting nltk (from -r requirements.txt (line 3))\n",
      "  Downloading https://files.pythonhosted.org/packages/92/75/ce35194d8e3022203cca0d2f896dbb88689f9b3fce8e9f9cff942913519d/nltk-3.5.zip (1.4MB)\u001b[0m\n",
      "\u001b[34mCollecting beautifulsoup4 (from -r requirements.txt (line 4))\n",
      "  Downloading https://files.pythonhosted.org/packages/e8/b5/7bb03a696f2c9b7af792a8f51b82974e51c268f15e925fc834876a4efa0b/beautifulsoup4-4.9.0-py3-none-any.whl (109kB)\u001b[0m\n",
      "\u001b[34mCollecting html5lib (from -r requirements.txt (line 5))\n",
      "  Downloading https://files.pythonhosted.org/packages/a5/62/bbd2be0e7943ec8504b517e62bab011b4946e1258842bc159e5dfde15b96/html5lib-1.0.1-py2.py3-none-any.whl (117kB)\u001b[0m\n",
      "\u001b[34mRequirement already satisfied, skipping upgrade: python-dateutil>=2.5.0 in /usr/local/lib/python3.5/dist-packages (from pandas->-r requirements.txt (line 1)) (2.7.5)\u001b[0m\n",
      "\u001b[34mCollecting pytz>=2011k (from pandas->-r requirements.txt (line 1))\u001b[0m\n",
      "\u001b[34m  Downloading https://files.pythonhosted.org/packages/e7/f9/f0b53f88060247251bf481fa6ea62cd0d25bf1b11a87888e53ce5b7c8ad2/pytz-2019.3-py2.py3-none-any.whl (509kB)\u001b[0m\n",
      "\u001b[34mRequirement already satisfied, skipping upgrade: click in /usr/local/lib/python3.5/dist-packages (from nltk->-r requirements.txt (line 3)) (7.0)\u001b[0m\n",
      "\u001b[34mCollecting joblib (from nltk->-r requirements.txt (line 3))\n",
      "  Downloading https://files.pythonhosted.org/packages/28/5c/cf6a2b65a321c4a209efcdf64c2689efae2cb62661f8f6f4bb28547cf1bf/joblib-0.14.1-py2.py3-none-any.whl (294kB)\u001b[0m\n",
      "\u001b[34mCollecting regex (from nltk->-r requirements.txt (line 3))\n",
      "  Downloading https://files.pythonhosted.org/packages/4c/e7/eee73c42c1193fecc0e91361a163cbb8dfbea62c3db7618ad986e5b43a14/regex-2020.4.4.tar.gz (695kB)\u001b[0m\n",
      "\u001b[34mCollecting tqdm (from nltk->-r requirements.txt (line 3))\n",
      "  Downloading https://files.pythonhosted.org/packages/4a/1c/6359be64e8301b84160f6f6f7936bbfaaa5e9a4eab6cbc681db07600b949/tqdm-4.45.0-py2.py3-none-any.whl (60kB)\u001b[0m\n",
      "\u001b[34mCollecting soupsieve>1.2 (from beautifulsoup4->-r requirements.txt (line 4))\n",
      "  Downloading https://files.pythonhosted.org/packages/05/cf/ea245e52f55823f19992447b008bcbb7f78efc5960d77f6c34b5b45b36dd/soupsieve-2.0-py2.py3-none-any.whl\u001b[0m\n",
      "\u001b[34mRequirement already satisfied, skipping upgrade: six>=1.9 in /usr/local/lib/python3.5/dist-packages (from html5lib->-r requirements.txt (line 5)) (1.11.0)\u001b[0m\n",
      "\u001b[34mCollecting webencodings (from html5lib->-r requirements.txt (line 5))\n",
      "  Downloading https://files.pythonhosted.org/packages/f4/24/2a3e3df732393fed8b3ebf2ec078f05546de641fe1b667ee316ec1dcf3b7/webencodings-0.5.1-py2.py3-none-any.whl\u001b[0m\n",
      "\u001b[34mBuilding wheels for collected packages: nltk, train, regex\n",
      "  Running setup.py bdist_wheel for nltk: started\u001b[0m\n",
      "\u001b[34m  Running setup.py bdist_wheel for nltk: finished with status 'done'\n",
      "  Stored in directory: /root/.cache/pip/wheels/ae/8c/3f/b1fe0ba04555b08b57ab52ab7f86023639a526d8bc8d384306\n",
      "  Running setup.py bdist_wheel for train: started\n",
      "  Running setup.py bdist_wheel for train: finished with status 'done'\n",
      "  Stored in directory: /tmp/pip-ephem-wheel-cache-ks7_6keq/wheels/35/24/16/37574d11bf9bde50616c67372a334f94fa8356bc7164af8ca3\n",
      "  Running setup.py bdist_wheel for regex: started\u001b[0m\n",
      "\u001b[34m  Running setup.py bdist_wheel for regex: finished with status 'done'\n",
      "  Stored in directory: /root/.cache/pip/wheels/e6/9b/ae/2972da29cc7759b71dee015813b7c6931917d6a51e64ed5e79\u001b[0m\n",
      "\u001b[34mSuccessfully built nltk train regex\u001b[0m\n",
      "\u001b[34mInstalling collected packages: numpy, pytz, pandas, joblib, regex, tqdm, nltk, soupsieve, beautifulsoup4, webencodings, html5lib, train\n",
      "  Found existing installation: numpy 1.15.4\n",
      "    Uninstalling numpy-1.15.4:\u001b[0m\n",
      "\u001b[34m      Successfully uninstalled numpy-1.15.4\u001b[0m\n",
      "\u001b[34mSuccessfully installed beautifulsoup4-4.9.0 html5lib-1.0.1 joblib-0.14.1 nltk-3.5 numpy-1.18.3 pandas-0.24.2 pytz-2019.3 regex-2020.4.4 soupsieve-2.0 tqdm-4.45.0 train-1.0.0 webencodings-0.5.1\u001b[0m\n",
      "\u001b[34mYou are using pip version 18.1, however version 20.1b1 is available.\u001b[0m\n",
      "\u001b[34mYou should consider upgrading via the 'pip install --upgrade pip' command.\u001b[0m\n",
      "\u001b[34m2020-04-21 09:55:33,660 sagemaker-containers INFO     Invoking user script\n",
      "\u001b[0m\n",
      "\u001b[34mTraining Env:\n",
      "\u001b[0m\n",
      "\u001b[34m{\n",
      "    \"module_name\": \"train\",\n",
      "    \"input_config_dir\": \"/opt/ml/input/config\",\n",
      "    \"num_gpus\": 1,\n",
      "    \"log_level\": 20,\n",
      "    \"input_data_config\": {\n",
      "        \"training\": {\n",
      "            \"RecordWrapperType\": \"None\",\n",
      "            \"S3DistributionType\": \"FullyReplicated\",\n",
      "            \"TrainingInputMode\": \"File\"\n",
      "        }\n",
      "    },\n",
      "    \"num_cpus\": 4,\n",
      "    \"user_entry_point\": \"train.py\",\n",
      "    \"current_host\": \"algo-1\",\n",
      "    \"output_dir\": \"/opt/ml/output\",\n",
      "    \"network_interface_name\": \"eth0\",\n",
      "    \"channel_input_dirs\": {\n",
      "        \"training\": \"/opt/ml/input/data/training\"\n",
      "    },\n",
      "    \"module_dir\": \"s3://sagemaker-us-east-2-430655561345/sagemaker-pytorch-2020-04-21-09-51-11-016/source/sourcedir.tar.gz\",\n",
      "    \"output_data_dir\": \"/opt/ml/output/data\",\n",
      "    \"additional_framework_parameters\": {},\n",
      "    \"hyperparameters\": {\n",
      "        \"epochs\": 10,\n",
      "        \"hidden_dim\": 200\n",
      "    },\n",
      "    \"framework_module\": \"sagemaker_pytorch_container.training:main\",\n",
      "    \"model_dir\": \"/opt/ml/model\",\n",
      "    \"resource_config\": {\n",
      "        \"current_host\": \"algo-1\",\n",
      "        \"network_interface_name\": \"eth0\",\n",
      "        \"hosts\": [\n",
      "            \"algo-1\"\n",
      "        ]\n",
      "    },\n",
      "    \"input_dir\": \"/opt/ml/input\",\n",
      "    \"output_intermediate_dir\": \"/opt/ml/output/intermediate\",\n",
      "    \"job_name\": \"sagemaker-pytorch-2020-04-21-09-51-11-016\",\n",
      "    \"hosts\": [\n",
      "        \"algo-1\"\n",
      "    ]\u001b[0m\n",
      "\u001b[34m}\n",
      "\u001b[0m\n",
      "\u001b[34mEnvironment variables:\n",
      "\u001b[0m\n",
      "\u001b[34mPYTHONPATH=/usr/local/bin:/usr/lib/python35.zip:/usr/lib/python3.5:/usr/lib/python3.5/plat-x86_64-linux-gnu:/usr/lib/python3.5/lib-dynload:/usr/local/lib/python3.5/dist-packages:/usr/lib/python3/dist-packages\u001b[0m\n",
      "\u001b[34mSM_OUTPUT_DATA_DIR=/opt/ml/output/data\u001b[0m\n",
      "\u001b[34mSM_HPS={\"epochs\":10,\"hidden_dim\":200}\u001b[0m\n",
      "\u001b[34mSM_HOSTS=[\"algo-1\"]\u001b[0m\n",
      "\u001b[34mSM_CHANNEL_TRAINING=/opt/ml/input/data/training\u001b[0m\n",
      "\u001b[34mSM_OUTPUT_INTERMEDIATE_DIR=/opt/ml/output/intermediate\u001b[0m\n",
      "\u001b[34mSM_FRAMEWORK_PARAMS={}\u001b[0m\n",
      "\u001b[34mSM_RESOURCE_CONFIG={\"current_host\":\"algo-1\",\"hosts\":[\"algo-1\"],\"network_interface_name\":\"eth0\"}\u001b[0m\n",
      "\u001b[34mSM_FRAMEWORK_MODULE=sagemaker_pytorch_container.training:main\u001b[0m\n",
      "\u001b[34mSM_INPUT_CONFIG_DIR=/opt/ml/input/config\u001b[0m\n",
      "\u001b[34mSM_CHANNELS=[\"training\"]\u001b[0m\n",
      "\u001b[34mSM_USER_ARGS=[\"--epochs\",\"10\",\"--hidden_dim\",\"200\"]\u001b[0m\n",
      "\u001b[34mSM_MODULE_NAME=train\u001b[0m\n",
      "\u001b[34mSM_HP_EPOCHS=10\u001b[0m\n",
      "\u001b[34mSM_LOG_LEVEL=20\u001b[0m\n",
      "\u001b[34mSM_OUTPUT_DIR=/opt/ml/output\u001b[0m\n",
      "\u001b[34mSM_NETWORK_INTERFACE_NAME=eth0\u001b[0m\n",
      "\u001b[34mSM_INPUT_DATA_CONFIG={\"training\":{\"RecordWrapperType\":\"None\",\"S3DistributionType\":\"FullyReplicated\",\"TrainingInputMode\":\"File\"}}\u001b[0m\n",
      "\u001b[34mSM_HP_HIDDEN_DIM=200\u001b[0m\n",
      "\u001b[34mSM_NUM_GPUS=1\u001b[0m\n",
      "\u001b[34mSM_INPUT_DIR=/opt/ml/input\u001b[0m\n",
      "\u001b[34mSM_USER_ENTRY_POINT=train.py\u001b[0m\n",
      "\u001b[34mSM_NUM_CPUS=4\u001b[0m\n",
      "\u001b[34mSM_MODULE_DIR=s3://sagemaker-us-east-2-430655561345/sagemaker-pytorch-2020-04-21-09-51-11-016/source/sourcedir.tar.gz\u001b[0m\n",
      "\u001b[34mSM_TRAINING_ENV={\"additional_framework_parameters\":{},\"channel_input_dirs\":{\"training\":\"/opt/ml/input/data/training\"},\"current_host\":\"algo-1\",\"framework_module\":\"sagemaker_pytorch_container.training:main\",\"hosts\":[\"algo-1\"],\"hyperparameters\":{\"epochs\":10,\"hidden_dim\":200},\"input_config_dir\":\"/opt/ml/input/config\",\"input_data_config\":{\"training\":{\"RecordWrapperType\":\"None\",\"S3DistributionType\":\"FullyReplicated\",\"TrainingInputMode\":\"File\"}},\"input_dir\":\"/opt/ml/input\",\"job_name\":\"sagemaker-pytorch-2020-04-21-09-51-11-016\",\"log_level\":20,\"model_dir\":\"/opt/ml/model\",\"module_dir\":\"s3://sagemaker-us-east-2-430655561345/sagemaker-pytorch-2020-04-21-09-51-11-016/source/sourcedir.tar.gz\",\"module_name\":\"train\",\"network_interface_name\":\"eth0\",\"num_cpus\":4,\"num_gpus\":1,\"output_data_dir\":\"/opt/ml/output/data\",\"output_dir\":\"/opt/ml/output\",\"output_intermediate_dir\":\"/opt/ml/output/intermediate\",\"resource_config\":{\"current_host\":\"algo-1\",\"hosts\":[\"algo-1\"],\"network_interface_name\":\"eth0\"},\"user_entry_point\":\"train.py\"}\u001b[0m\n",
      "\u001b[34mSM_MODEL_DIR=/opt/ml/model\u001b[0m\n",
      "\u001b[34mSM_CURRENT_HOST=algo-1\n",
      "\u001b[0m\n",
      "\u001b[34mInvoking script with the following command:\n",
      "\u001b[0m\n",
      "\u001b[34m/usr/bin/python -m train --epochs 10 --hidden_dim 200\n",
      "\n",
      "\u001b[0m\n",
      "\u001b[34mUsing device cuda.\u001b[0m\n",
      "\u001b[34mGet train data loader.\u001b[0m\n"
     ]
    },
    {
     "name": "stdout",
     "output_type": "stream",
     "text": [
      "\u001b[34mModel loaded with embedding_dim 32, hidden_dim 200, vocab_size 5000.\u001b[0m\n",
      "\u001b[34mEpoch: 1, BCELoss: 0.6699866737638202\u001b[0m\n",
      "\u001b[34mEpoch: 2, BCELoss: 0.5916627341387223\u001b[0m\n",
      "\u001b[34mEpoch: 3, BCELoss: 0.5746542014637772\u001b[0m\n",
      "\u001b[34mEpoch: 4, BCELoss: 0.5564183410333128\u001b[0m\n",
      "\u001b[34mEpoch: 5, BCELoss: 0.4511068092316997\u001b[0m\n",
      "\u001b[34mEpoch: 6, BCELoss: 0.3939308019316926\u001b[0m\n",
      "\u001b[34mEpoch: 7, BCELoss: 0.36204390805594777\u001b[0m\n",
      "\u001b[34mEpoch: 8, BCELoss: 0.33931584139259496\u001b[0m\n",
      "\u001b[34mEpoch: 9, BCELoss: 0.3121661282315546\u001b[0m\n",
      "\n",
      "2020-04-21 09:58:42 Uploading - Uploading generated training model\n",
      "2020-04-21 09:58:42 Completed - Training job completed\n",
      "\u001b[34mEpoch: 10, BCELoss: 0.29467180492926615\u001b[0m\n",
      "\u001b[34m2020-04-21 09:58:32,527 sagemaker-containers INFO     Reporting training SUCCESS\u001b[0m\n",
      "Training seconds: 285\n",
      "Billable seconds: 285\n"
     ]
    }
   ],
   "source": [
    "estimator.fit({'training': input_data})"
   ]
  },
  {
   "cell_type": "markdown",
   "metadata": {},
   "source": [
    "## Step 5: Testing the model\n",
    "\n",
    "As mentioned at the top of this notebook, we will be testing this model by first deploying it and then sending the testing data to the deployed endpoint. We will do this so that we can make sure that the deployed model is working correctly.\n",
    "\n",
    "## Step 6: Deploy the model for testing\n",
    "\n",
    "Now that we have trained our model, we would like to test it to see how it performs. Currently our model takes input of the form `review_length, review[500]` where `review[500]` is a sequence of `500` integers which describe the words present in the review, encoded using `word_dict`. Fortunately for us, SageMaker provides built-in inference code for models with simple inputs such as this.\n",
    "\n",
    "There is one thing that we need to provide, however, and that is a function which loads the saved model. This function must be called `model_fn()` and takes as its only parameter a path to the directory where the model artifacts are stored. This function must also be present in the python file which we specified as the entry point. In our case the model loading function has been provided and so no changes need to be made.\n",
    "\n",
    "**NOTE**: When the built-in inference code is run it must import the `model_fn()` method from the `train.py` file. This is why the training code is wrapped in a main guard ( ie, `if __name__ == '__main__':` )\n",
    "\n",
    "Since we don't need to change anything in the code that was uploaded during training, we can simply deploy the current model as-is.\n",
    "\n",
    "**NOTE:** When deploying a model you are asking SageMaker to launch an compute instance that will wait for data to be sent to it. As a result, this compute instance will continue to run until *you* shut it down. This is important to know since the cost of a deployed endpoint depends on how long it has been running for.\n",
    "\n",
    "In other words **If you are no longer using a deployed endpoint, shut it down!**\n",
    "\n",
    "**TODO:** Deploy the trained model."
   ]
  },
  {
   "cell_type": "code",
   "execution_count": 30,
   "metadata": {},
   "outputs": [
    {
     "name": "stdout",
     "output_type": "stream",
     "text": [
      "---------------!"
     ]
    }
   ],
   "source": [
    "# TODO: Deploy the trained model\n",
    "predictor=estimator.deploy(initial_instance_count=1, instance_type='ml.m4.xlarge')"
   ]
  },
  {
   "cell_type": "markdown",
   "metadata": {},
   "source": [
    "## Step 7 - Use the model for testing\n",
    "\n",
    "Once deployed, we can read in the test data and send it off to our deployed model to get some results. Once we collect all of the results we can determine how accurate our model is."
   ]
  },
  {
   "cell_type": "code",
   "execution_count": 31,
   "metadata": {},
   "outputs": [],
   "source": [
    "test_X = pd.concat([pd.DataFrame(test_X_len), pd.DataFrame(test_X)], axis=1)"
   ]
  },
  {
   "cell_type": "code",
   "execution_count": 32,
   "metadata": {},
   "outputs": [],
   "source": [
    "# We split the data into chunks and send each chunk seperately, accumulating the results.\n",
    "\n",
    "def predict(data, rows=512):\n",
    "    split_array = np.array_split(data, int(data.shape[0] / float(rows) + 1))\n",
    "    predictions = np.array([])\n",
    "    for array in split_array:\n",
    "        predictions = np.append(predictions, predictor.predict(array))\n",
    "    \n",
    "    return predictions"
   ]
  },
  {
   "cell_type": "code",
   "execution_count": 33,
   "metadata": {},
   "outputs": [],
   "source": [
    "predictions = predict(test_X.values)\n",
    "predictions = [round(num) for num in predictions]"
   ]
  },
  {
   "cell_type": "code",
   "execution_count": 34,
   "metadata": {},
   "outputs": [
    {
     "data": {
      "text/plain": [
       "0.85072"
      ]
     },
     "execution_count": 34,
     "metadata": {},
     "output_type": "execute_result"
    }
   ],
   "source": [
    "from sklearn.metrics import accuracy_score\n",
    "accuracy_score(test_y, predictions)"
   ]
  },
  {
   "cell_type": "markdown",
   "metadata": {},
   "source": [
    "**Question:** How does this model compare to the XGBoost model you created earlier? Why might these two models perform differently on this dataset? Which do *you* think is better for sentiment analysis?"
   ]
  },
  {
   "cell_type": "markdown",
   "metadata": {},
   "source": [
    "**Answer:**\n",
    "\n",
    "In this we have used the XGboost mosel and LSTM classifier Model where both model have different performances. In general the LSTM models are more suitable for this type of this project because the LSTM models are capalble of learning and remmbering the long Term Dependencies from the previous Inputsbut as we comparing to the XG Boost Model. it treats the features like count matrix i.e., doesnt treat the words in order."
   ]
  },
  {
   "cell_type": "markdown",
   "metadata": {},
   "source": [
    "### (TODO) More testing\n",
    "\n",
    "We now have a trained model which has been deployed and which we can send processed reviews to and which returns the predicted sentiment. However, ultimately we would like to be able to send our model an unprocessed review. That is, we would like to send the review itself as a string. For example, suppose we wish to send the following review to our model."
   ]
  },
  {
   "cell_type": "code",
   "execution_count": 35,
   "metadata": {},
   "outputs": [],
   "source": [
    "test_review = 'The simplest pleasures in life are the best, and this film is one of them. Combining a rather basic storyline of love and adventure this movie transcends the usual weekend fair with wit and unmitigated charm.'"
   ]
  },
  {
   "cell_type": "markdown",
   "metadata": {},
   "source": [
    "The question we now need to answer is, how do we send this review to our model?\n",
    "\n",
    "Recall in the first section of this notebook we did a bunch of data processing to the IMDb dataset. In particular, we did two specific things to the provided reviews.\n",
    " - Removed any html tags and stemmed the input\n",
    " - Encoded the review as a sequence of integers using `word_dict`\n",
    " \n",
    "In order process the review we will need to repeat these two steps.\n",
    "\n",
    "**TODO**: Using the `review_to_words` and `convert_and_pad` methods from section one, convert `test_review` into a numpy array `test_data` suitable to send to our model. Remember that our model expects input of the form `review_length, review[500]`."
   ]
  },
  {
   "cell_type": "code",
   "execution_count": 38,
   "metadata": {},
   "outputs": [],
   "source": [
    "# TODO: Convert test_review into a form usable by the model and save the results in test_data\n",
    "test_data = review_to_words(test_review)\n",
    "test_data=[np.array(convert_and_pad(word_dict, test_data)[0])]"
   ]
  },
  {
   "cell_type": "markdown",
   "metadata": {},
   "source": [
    "Now that we have processed the review, we can send the resulting array to our model to predict the sentiment of the review."
   ]
  },
  {
   "cell_type": "code",
   "execution_count": 39,
   "metadata": {},
   "outputs": [
    {
     "data": {
      "text/plain": [
       "array(0.73106986, dtype=float32)"
      ]
     },
     "execution_count": 39,
     "metadata": {},
     "output_type": "execute_result"
    }
   ],
   "source": [
    "predictor.predict(test_data)"
   ]
  },
  {
   "cell_type": "markdown",
   "metadata": {},
   "source": [
    "Since the return value of our model is close to `1`, we can be certain that the review we submitted is positive."
   ]
  },
  {
   "cell_type": "markdown",
   "metadata": {},
   "source": [
    "### Delete the endpoint\n",
    "\n",
    "Of course, just like in the XGBoost notebook, once we've deployed an endpoint it continues to run until we tell it to shut down. Since we are done using our endpoint for now, we can delete it."
   ]
  },
  {
   "cell_type": "code",
   "execution_count": 40,
   "metadata": {},
   "outputs": [],
   "source": [
    "estimator.delete_endpoint()"
   ]
  },
  {
   "cell_type": "markdown",
   "metadata": {},
   "source": [
    "## Step 6 (again) - Deploy the model for the web app\n",
    "\n",
    "Now that we know that our model is working, it's time to create some custom inference code so that we can send the model a review which has not been processed and have it determine the sentiment of the review.\n",
    "\n",
    "As we saw above, by default the estimator which we created, when deployed, will use the entry script and directory which we provided when creating the model. However, since we now wish to accept a string as input and our model expects a processed review, we need to write some custom inference code.\n",
    "\n",
    "We will store the code that we write in the `serve` directory. Provided in this directory is the `model.py` file that we used to construct our model, a `utils.py` file which contains the `review_to_words` and `convert_and_pad` pre-processing functions which we used during the initial data processing, and `predict.py`, the file which will contain our custom inference code. Note also that `requirements.txt` is present which will tell SageMaker what Python libraries are required by our custom inference code.\n",
    "\n",
    "When deploying a PyTorch model in SageMaker, you are expected to provide four functions which the SageMaker inference container will use.\n",
    " - `model_fn`: This function is the same function that we used in the training script and it tells SageMaker how to load our model.\n",
    " - `input_fn`: This function receives the raw serialized input that has been sent to the model's endpoint and its job is to de-serialize and make the input available for the inference code.\n",
    " - `output_fn`: This function takes the output of the inference code and its job is to serialize this output and return it to the caller of the model's endpoint.\n",
    " - `predict_fn`: The heart of the inference script, this is where the actual prediction is done and is the function which you will need to complete.\n",
    "\n",
    "For the simple website that we are constructing during this project, the `input_fn` and `output_fn` methods are relatively straightforward. We only require being able to accept a string as input and we expect to return a single value as output. You might imagine though that in a more complex application the input or output may be image data or some other binary data which would require some effort to serialize.\n",
    "\n",
    "### (TODO) Writing inference code\n",
    "\n",
    "Before writing our custom inference code, we will begin by taking a look at the code which has been provided."
   ]
  },
  {
   "cell_type": "code",
   "execution_count": 46,
   "metadata": {},
   "outputs": [
    {
     "name": "stdout",
     "output_type": "stream",
     "text": [
      "\u001b[34mimport\u001b[39;49;00m \u001b[04m\u001b[36margparse\u001b[39;49;00m\r\n",
      "\u001b[34mimport\u001b[39;49;00m \u001b[04m\u001b[36mjson\u001b[39;49;00m\r\n",
      "\u001b[34mimport\u001b[39;49;00m \u001b[04m\u001b[36mos\u001b[39;49;00m\r\n",
      "\u001b[34mimport\u001b[39;49;00m \u001b[04m\u001b[36mpickle\u001b[39;49;00m\r\n",
      "\u001b[34mimport\u001b[39;49;00m \u001b[04m\u001b[36msys\u001b[39;49;00m\r\n",
      "\u001b[34mimport\u001b[39;49;00m \u001b[04m\u001b[36msagemaker_containers\u001b[39;49;00m\r\n",
      "\u001b[34mimport\u001b[39;49;00m \u001b[04m\u001b[36mpandas\u001b[39;49;00m \u001b[34mas\u001b[39;49;00m \u001b[04m\u001b[36mpd\u001b[39;49;00m\r\n",
      "\u001b[34mimport\u001b[39;49;00m \u001b[04m\u001b[36mnumpy\u001b[39;49;00m \u001b[34mas\u001b[39;49;00m \u001b[04m\u001b[36mnp\u001b[39;49;00m\r\n",
      "\u001b[34mimport\u001b[39;49;00m \u001b[04m\u001b[36mtorch\u001b[39;49;00m\r\n",
      "\u001b[34mimport\u001b[39;49;00m \u001b[04m\u001b[36mtorch.nn\u001b[39;49;00m \u001b[34mas\u001b[39;49;00m \u001b[04m\u001b[36mnn\u001b[39;49;00m\r\n",
      "\u001b[34mimport\u001b[39;49;00m \u001b[04m\u001b[36mtorch.optim\u001b[39;49;00m \u001b[34mas\u001b[39;49;00m \u001b[04m\u001b[36moptim\u001b[39;49;00m\r\n",
      "\u001b[34mimport\u001b[39;49;00m \u001b[04m\u001b[36mtorch.utils.data\u001b[39;49;00m\r\n",
      "\r\n",
      "\u001b[34mfrom\u001b[39;49;00m \u001b[04m\u001b[36mmodel\u001b[39;49;00m \u001b[34mimport\u001b[39;49;00m LSTMClassifier\r\n",
      "\r\n",
      "\u001b[34mfrom\u001b[39;49;00m \u001b[04m\u001b[36mutils\u001b[39;49;00m \u001b[34mimport\u001b[39;49;00m review_to_words, convert_and_pad\r\n",
      "\r\n",
      "\u001b[34mdef\u001b[39;49;00m \u001b[32mmodel_fn\u001b[39;49;00m(model_dir):\r\n",
      "    \u001b[33m\"\"\"Load the PyTorch model from the `model_dir` directory.\"\"\"\u001b[39;49;00m\r\n",
      "    \u001b[34mprint\u001b[39;49;00m(\u001b[33m\"\u001b[39;49;00m\u001b[33mLoading model.\u001b[39;49;00m\u001b[33m\"\u001b[39;49;00m)\r\n",
      "\r\n",
      "    \u001b[37m# First, load the parameters used to create the model.\u001b[39;49;00m\r\n",
      "    model_info = {}\r\n",
      "    model_info_path = os.path.join(model_dir, \u001b[33m'\u001b[39;49;00m\u001b[33mmodel_info.pth\u001b[39;49;00m\u001b[33m'\u001b[39;49;00m)\r\n",
      "    \u001b[34mwith\u001b[39;49;00m \u001b[36mopen\u001b[39;49;00m(model_info_path, \u001b[33m'\u001b[39;49;00m\u001b[33mrb\u001b[39;49;00m\u001b[33m'\u001b[39;49;00m) \u001b[34mas\u001b[39;49;00m f:\r\n",
      "        model_info = torch.load(f)\r\n",
      "\r\n",
      "    \u001b[34mprint\u001b[39;49;00m(\u001b[33m\"\u001b[39;49;00m\u001b[33mmodel_info: {}\u001b[39;49;00m\u001b[33m\"\u001b[39;49;00m.format(model_info))\r\n",
      "\r\n",
      "    \u001b[37m# Determine the device and construct the model.\u001b[39;49;00m\r\n",
      "    device = torch.device(\u001b[33m\"\u001b[39;49;00m\u001b[33mcuda\u001b[39;49;00m\u001b[33m\"\u001b[39;49;00m \u001b[34mif\u001b[39;49;00m torch.cuda.is_available() \u001b[34melse\u001b[39;49;00m \u001b[33m\"\u001b[39;49;00m\u001b[33mcpu\u001b[39;49;00m\u001b[33m\"\u001b[39;49;00m)\r\n",
      "    model = LSTMClassifier(model_info[\u001b[33m'\u001b[39;49;00m\u001b[33membedding_dim\u001b[39;49;00m\u001b[33m'\u001b[39;49;00m], model_info[\u001b[33m'\u001b[39;49;00m\u001b[33mhidden_dim\u001b[39;49;00m\u001b[33m'\u001b[39;49;00m], model_info[\u001b[33m'\u001b[39;49;00m\u001b[33mvocab_size\u001b[39;49;00m\u001b[33m'\u001b[39;49;00m])\r\n",
      "\r\n",
      "    \u001b[37m# Load the store model parameters.\u001b[39;49;00m\r\n",
      "    model_path = os.path.join(model_dir, \u001b[33m'\u001b[39;49;00m\u001b[33mmodel.pth\u001b[39;49;00m\u001b[33m'\u001b[39;49;00m)\r\n",
      "    \u001b[34mwith\u001b[39;49;00m \u001b[36mopen\u001b[39;49;00m(model_path, \u001b[33m'\u001b[39;49;00m\u001b[33mrb\u001b[39;49;00m\u001b[33m'\u001b[39;49;00m) \u001b[34mas\u001b[39;49;00m f:\r\n",
      "        model.load_state_dict(torch.load(f))\r\n",
      "\r\n",
      "    \u001b[37m# Load the saved word_dict.\u001b[39;49;00m\r\n",
      "    word_dict_path = os.path.join(model_dir, \u001b[33m'\u001b[39;49;00m\u001b[33mword_dict.pkl\u001b[39;49;00m\u001b[33m'\u001b[39;49;00m)\r\n",
      "    \u001b[34mwith\u001b[39;49;00m \u001b[36mopen\u001b[39;49;00m(word_dict_path, \u001b[33m'\u001b[39;49;00m\u001b[33mrb\u001b[39;49;00m\u001b[33m'\u001b[39;49;00m) \u001b[34mas\u001b[39;49;00m f:\r\n",
      "        model.word_dict = pickle.load(f)\r\n",
      "\r\n",
      "    model.to(device).eval()\r\n",
      "\r\n",
      "    \u001b[34mprint\u001b[39;49;00m(\u001b[33m\"\u001b[39;49;00m\u001b[33mDone loading model.\u001b[39;49;00m\u001b[33m\"\u001b[39;49;00m)\r\n",
      "    \u001b[34mreturn\u001b[39;49;00m model\r\n",
      "\r\n",
      "\u001b[34mdef\u001b[39;49;00m \u001b[32minput_fn\u001b[39;49;00m(serialized_input_data, content_type):\r\n",
      "    \u001b[34mprint\u001b[39;49;00m(\u001b[33m'\u001b[39;49;00m\u001b[33mDeserializing the input data.\u001b[39;49;00m\u001b[33m'\u001b[39;49;00m)\r\n",
      "    \u001b[34mif\u001b[39;49;00m content_type == \u001b[33m'\u001b[39;49;00m\u001b[33mtext/plain\u001b[39;49;00m\u001b[33m'\u001b[39;49;00m:\r\n",
      "        data = serialized_input_data.decode(\u001b[33m'\u001b[39;49;00m\u001b[33mutf-8\u001b[39;49;00m\u001b[33m'\u001b[39;49;00m)\r\n",
      "        \u001b[34mreturn\u001b[39;49;00m data\r\n",
      "    \u001b[34mraise\u001b[39;49;00m \u001b[36mException\u001b[39;49;00m(\u001b[33m'\u001b[39;49;00m\u001b[33mRequested unsupported ContentType in content_type: \u001b[39;49;00m\u001b[33m'\u001b[39;49;00m + content_type)\r\n",
      "\r\n",
      "\u001b[34mdef\u001b[39;49;00m \u001b[32moutput_fn\u001b[39;49;00m(prediction_output, accept):\r\n",
      "    \u001b[34mprint\u001b[39;49;00m(\u001b[33m'\u001b[39;49;00m\u001b[33mSerializing the generated output.\u001b[39;49;00m\u001b[33m'\u001b[39;49;00m)\r\n",
      "    \u001b[34mreturn\u001b[39;49;00m \u001b[36mstr\u001b[39;49;00m(prediction_output)\r\n",
      "\r\n",
      "\u001b[34mdef\u001b[39;49;00m \u001b[32mpredict_fn\u001b[39;49;00m(input_data, model):\r\n",
      "    \u001b[34mprint\u001b[39;49;00m(\u001b[33m'\u001b[39;49;00m\u001b[33mInferring sentiment of input data.\u001b[39;49;00m\u001b[33m'\u001b[39;49;00m)\r\n",
      "\r\n",
      "    device = torch.device(\u001b[33m\"\u001b[39;49;00m\u001b[33mcuda\u001b[39;49;00m\u001b[33m\"\u001b[39;49;00m \u001b[34mif\u001b[39;49;00m torch.cuda.is_available() \u001b[34melse\u001b[39;49;00m \u001b[33m\"\u001b[39;49;00m\u001b[33mcpu\u001b[39;49;00m\u001b[33m\"\u001b[39;49;00m)\r\n",
      "    \r\n",
      "    \u001b[34mif\u001b[39;49;00m model.word_dict \u001b[35mis\u001b[39;49;00m \u001b[36mNone\u001b[39;49;00m:\r\n",
      "        \u001b[34mraise\u001b[39;49;00m \u001b[36mException\u001b[39;49;00m(\u001b[33m'\u001b[39;49;00m\u001b[33mModel has not been loaded properly, no word_dict.\u001b[39;49;00m\u001b[33m'\u001b[39;49;00m)\r\n",
      "    \r\n",
      "    \u001b[37m# TODO: Process input_data so that it is ready to be sent to our model.\u001b[39;49;00m\r\n",
      "    \u001b[37m#       You should produce two variables:\u001b[39;49;00m\r\n",
      "    \u001b[37m#         data_X   - A sequence of length 500 which represents the converted review\u001b[39;49;00m\r\n",
      "    \u001b[37m#         data_len - The length of the review\u001b[39;49;00m\r\n",
      "\r\n",
      "    data_X, data_len = convert_and_pad(model.word_dict, review_to_words(input_data)) \r\n",
      "    \r\n",
      "\r\n",
      "    \u001b[37m# Using data_X and data_len we construct an appropriate input tensor. Remember\u001b[39;49;00m\r\n",
      "    \u001b[37m# that our model expects input data of the form 'len, review[500]'.\u001b[39;49;00m\r\n",
      "    data_pack = np.hstack((data_len, data_X))\r\n",
      "    data_pack = data_pack.reshape(\u001b[34m1\u001b[39;49;00m, -\u001b[34m1\u001b[39;49;00m)\r\n",
      "    \r\n",
      "    data = torch.from_numpy(data_pack)\r\n",
      "    data = data.to(device)\r\n",
      "\r\n",
      "    \u001b[37m# Make sure to put the model into evaluation mode\u001b[39;49;00m\r\n",
      "    model.eval()\r\n",
      "\r\n",
      "    \u001b[37m# TODO: Compute the result of applying the model to the input data. The variable `result` should\u001b[39;49;00m\r\n",
      "    \u001b[37m#       be a numpy array which contains a single integer which is either 1 or 0\u001b[39;49;00m\r\n",
      "    \u001b[34mwith\u001b[39;49;00m torch.no_grad():\r\n",
      "         output=model.forward(data)\r\n",
      "    result=np.round(output.numpy())\r\n",
      "\r\n",
      "    \u001b[34mreturn\u001b[39;49;00m result\r\n"
     ]
    }
   ],
   "source": [
    "!pygmentize serve/predict.py"
   ]
  },
  {
   "cell_type": "markdown",
   "metadata": {},
   "source": [
    "As mentioned earlier, the `model_fn` method is the same as the one provided in the training code and the `input_fn` and `output_fn` methods are very simple and your task will be to complete the `predict_fn` method. Make sure that you save the completed file as `predict.py` in the `serve` directory.\n",
    "\n",
    "**TODO**: Complete the `predict_fn()` method in the `serve/predict.py` file."
   ]
  },
  {
   "cell_type": "markdown",
   "metadata": {},
   "source": [
    "### Deploying the model\n",
    "\n",
    "Now that the custom inference code has been written, we will create and deploy our model. To begin with, we need to construct a new PyTorchModel object which points to the model artifacts created during training and also points to the inference code that we wish to use. Then we can call the deploy method to launch the deployment container.\n",
    "\n",
    "**NOTE**: The default behaviour for a deployed PyTorch model is to assume that any input passed to the predictor is a `numpy` array. In our case we want to send a string so we need to construct a simple wrapper around the `RealTimePredictor` class to accomodate simple strings. In a more complicated situation you may want to provide a serialization object, for example if you wanted to sent image data."
   ]
  },
  {
   "cell_type": "code",
   "execution_count": 47,
   "metadata": {},
   "outputs": [
    {
     "name": "stdout",
     "output_type": "stream",
     "text": [
      "-------------!"
     ]
    }
   ],
   "source": [
    "from sagemaker.predictor import RealTimePredictor\n",
    "from sagemaker.pytorch import PyTorchModel\n",
    "\n",
    "class StringPredictor(RealTimePredictor):\n",
    "    def __init__(self, endpoint_name, sagemaker_session):\n",
    "        super(StringPredictor, self).__init__(endpoint_name, sagemaker_session, content_type='text/plain')\n",
    "\n",
    "model = PyTorchModel(model_data=estimator.model_data,\n",
    "                     role = role,\n",
    "                     framework_version='0.4.0',\n",
    "                     entry_point='predict.py',\n",
    "                     source_dir='serve',\n",
    "                     predictor_cls=StringPredictor)\n",
    "predictor = model.deploy(initial_instance_count=1, instance_type='ml.m4.xlarge')"
   ]
  },
  {
   "cell_type": "markdown",
   "metadata": {},
   "source": [
    "### Testing the model\n",
    "\n",
    "Now that we have deployed our model with the custom inference code, we should test to see if everything is working. Here we test our model by loading the first `250` positive and negative reviews and send them to the endpoint, then collect the results. The reason for only sending some of the data is that the amount of time it takes for our model to process the input and then perform inference is quite long and so testing the entire data set would be prohibitive."
   ]
  },
  {
   "cell_type": "code",
   "execution_count": 50,
   "metadata": {},
   "outputs": [],
   "source": [
    "import glob\n",
    "\n",
    "def test_reviews(data_dir='../data/aclImdb', stop=250):\n",
    "    \n",
    "    results = []\n",
    "    ground = []\n",
    "    \n",
    "    # We make sure to test both positive and negative reviews    \n",
    "    for sentiment in ['pos', 'neg']:\n",
    "        \n",
    "        path = os.path.join(data_dir, 'test', sentiment, '*.txt')\n",
    "        files = glob.glob(path)\n",
    "        \n",
    "        files_read = 0\n",
    "        \n",
    "        print('Starting ', sentiment, ' files')\n",
    "        \n",
    "        # Iterate through the files and send them to the predictor\n",
    "        for f in files:\n",
    "            with open(f) as review:\n",
    "                # First, we store the ground truth (was the review positive or negative)\n",
    "                if sentiment == 'pos':\n",
    "                    ground.append(1)\n",
    "                else:\n",
    "                    ground.append(0)\n",
    "                # Read in the review and convert to 'utf-8' for transmission via HTTP\n",
    "                review_input = review.read().encode('utf-8')\n",
    "                # Send the review to the predictor and store the results\n",
    "                results.append(float(predictor.predict(review_input)))\n",
    "                \n",
    "            # Sending reviews to our endpoint one at a time takes a while so we\n",
    "            # only send a small number of reviews\n",
    "            files_read += 1\n",
    "            if files_read == stop:\n",
    "                break\n",
    "            \n",
    "    return ground, results"
   ]
  },
  {
   "cell_type": "code",
   "execution_count": 51,
   "metadata": {},
   "outputs": [
    {
     "name": "stdout",
     "output_type": "stream",
     "text": [
      "Starting  pos  files\n",
      "Starting  neg  files\n"
     ]
    }
   ],
   "source": [
    "ground, results = test_reviews()"
   ]
  },
  {
   "cell_type": "code",
   "execution_count": 52,
   "metadata": {},
   "outputs": [
    {
     "data": {
      "text/plain": [
       "0.854"
      ]
     },
     "execution_count": 52,
     "metadata": {},
     "output_type": "execute_result"
    }
   ],
   "source": [
    "from sklearn.metrics import accuracy_score\n",
    "accuracy_score(ground, results)"
   ]
  },
  {
   "cell_type": "markdown",
   "metadata": {},
   "source": [
    "As an additional test, we can try sending the `test_review` that we looked at earlier."
   ]
  },
  {
   "cell_type": "code",
   "execution_count": 53,
   "metadata": {},
   "outputs": [
    {
     "data": {
      "text/plain": [
       "b'1.0'"
      ]
     },
     "execution_count": 53,
     "metadata": {},
     "output_type": "execute_result"
    }
   ],
   "source": [
    "predictor.predict(test_review)"
   ]
  },
  {
   "cell_type": "markdown",
   "metadata": {},
   "source": [
    "Now that we know our endpoint is working as expected, we can set up the web page that will interact with it. If you don't have time to finish the project now, make sure to skip down to the end of this notebook and shut down your endpoint. You can deploy it again when you come back."
   ]
  },
  {
   "cell_type": "markdown",
   "metadata": {},
   "source": [
    "## Step 7 (again): Use the model for the web app\n",
    "\n",
    "> **TODO:** This entire section and the next contain tasks for you to complete, mostly using the AWS console.\n",
    "\n",
    "So far we have been accessing our model endpoint by constructing a predictor object which uses the endpoint and then just using the predictor object to perform inference. What if we wanted to create a web app which accessed our model? The way things are set up currently makes that not possible since in order to access a SageMaker endpoint the app would first have to authenticate with AWS using an IAM role which included access to SageMaker endpoints. However, there is an easier way! We just need to use some additional AWS services.\n",
    "\n",
    "<img src=\"Web App Diagram.svg\">\n",
    "\n",
    "The diagram above gives an overview of how the various services will work together. On the far right is the model which we trained above and which is deployed using SageMaker. On the far left is our web app that collects a user's movie review, sends it off and expects a positive or negative sentiment in return.\n",
    "\n",
    "In the middle is where some of the magic happens. We will construct a Lambda function, which you can think of as a straightforward Python function that can be executed whenever a specified event occurs. We will give this function permission to send and recieve data from a SageMaker endpoint.\n",
    "\n",
    "Lastly, the method we will use to execute the Lambda function is a new endpoint that we will create using API Gateway. This endpoint will be a url that listens for data to be sent to it. Once it gets some data it will pass that data on to the Lambda function and then return whatever the Lambda function returns. Essentially it will act as an interface that lets our web app communicate with the Lambda function.\n",
    "\n",
    "### Setting up a Lambda function\n",
    "\n",
    "The first thing we are going to do is set up a Lambda function. This Lambda function will be executed whenever our public API has data sent to it. When it is executed it will receive the data, perform any sort of processing that is required, send the data (the review) to the SageMaker endpoint we've created and then return the result.\n",
    "\n",
    "#### Part A: Create an IAM Role for the Lambda function\n",
    "\n",
    "Since we want the Lambda function to call a SageMaker endpoint, we need to make sure that it has permission to do so. To do this, we will construct a role that we can later give the Lambda function.\n",
    "\n",
    "Using the AWS Console, navigate to the **IAM** page and click on **Roles**. Then, click on **Create role**. Make sure that the **AWS service** is the type of trusted entity selected and choose **Lambda** as the service that will use this role, then click **Next: Permissions**.\n",
    "\n",
    "In the search box type `sagemaker` and select the check box next to the **AmazonSageMakerFullAccess** policy. Then, click on **Next: Review**.\n",
    "\n",
    "Lastly, give this role a name. Make sure you use a name that you will remember later on, for example `LambdaSageMakerRole`. Then, click on **Create role**.\n",
    "\n",
    "#### Part B: Create a Lambda function\n",
    "\n",
    "Now it is time to actually create the Lambda function.\n",
    "\n",
    "Using the AWS Console, navigate to the AWS Lambda page and click on **Create a function**. When you get to the next page, make sure that **Author from scratch** is selected. Now, name your Lambda function, using a name that you will remember later on, for example `sentiment_analysis_func`. Make sure that the **Python 3.6** runtime is selected and then choose the role that you created in the previous part. Then, click on **Create Function**.\n",
    "\n",
    "On the next page you will see some information about the Lambda function you've just created. If you scroll down you should see an editor in which you can write the code that will be executed when your Lambda function is triggered. In our example, we will use the code below. \n",
    "\n",
    "```python\n",
    "# We need to use the low-level library to interact with SageMaker since the SageMaker API\n",
    "# is not available natively through Lambda.\n",
    "import boto3\n",
    "\n",
    "def lambda_handler(event, context):\n",
    "\n",
    "    # The SageMaker runtime is what allows us to invoke the endpoint that we've created.\n",
    "    runtime = boto3.Session().client('sagemaker-runtime')\n",
    "\n",
    "    # Now we use the SageMaker runtime to invoke our endpoint, sending the review we were given\n",
    "    response = runtime.invoke_endpoint(EndpointName = '**ENDPOINT NAME HERE**',    # The name of the endpoint we created\n",
    "                                       ContentType = 'text/plain',                 # The data format that is expected\n",
    "                                       Body = event['body'])                       # The actual review\n",
    "\n",
    "    # The response is an HTTP response whose body contains the result of our inference\n",
    "    result = response['Body'].read().decode('utf-8')\n",
    "\n",
    "    return {\n",
    "        'statusCode' : 200,\n",
    "        'headers' : { 'Content-Type' : 'text/plain', 'Access-Control-Allow-Origin' : '*' },\n",
    "        'body' : result\n",
    "    }\n",
    "```\n",
    "\n",
    "Once you have copy and pasted the code above into the Lambda code editor, replace the `**ENDPOINT NAME HERE**` portion with the name of the endpoint that we deployed earlier. You can determine the name of the endpoint using the code cell below."
   ]
  },
  {
   "cell_type": "code",
   "execution_count": 54,
   "metadata": {},
   "outputs": [
    {
     "data": {
      "text/plain": [
       "'sagemaker-pytorch-2020-04-21-11-01-03-304'"
      ]
     },
     "execution_count": 54,
     "metadata": {},
     "output_type": "execute_result"
    }
   ],
   "source": [
    "predictor.endpoint"
   ]
  },
  {
   "cell_type": "markdown",
   "metadata": {},
   "source": [
    "Once you have added the endpoint name to the Lambda function, click on **Save**. Your Lambda function is now up and running. Next we need to create a way for our web app to execute the Lambda function.\n",
    "\n",
    "### Setting up API Gateway\n",
    "\n",
    "Now that our Lambda function is set up, it is time to create a new API using API Gateway that will trigger the Lambda function we have just created.\n",
    "\n",
    "Using AWS Console, navigate to **Amazon API Gateway** and then click on **Get started**.\n",
    "\n",
    "On the next page, make sure that **New API** is selected and give the new api a name, for example, `sentiment_analysis_api`. Then, click on **Create API**.\n",
    "\n",
    "Now we have created an API, however it doesn't currently do anything. What we want it to do is to trigger the Lambda function that we created earlier.\n",
    "\n",
    "Select the **Actions** dropdown menu and click **Create Method**. A new blank method will be created, select its dropdown menu and select **POST**, then click on the check mark beside it.\n",
    "\n",
    "For the integration point, make sure that **Lambda Function** is selected and click on the **Use Lambda Proxy integration**. This option makes sure that the data that is sent to the API is then sent directly to the Lambda function with no processing. It also means that the return value must be a proper response object as it will also not be processed by API Gateway.\n",
    "\n",
    "Type the name of the Lambda function you created earlier into the **Lambda Function** text entry box and then click on **Save**. Click on **OK** in the pop-up box that then appears, giving permission to API Gateway to invoke the Lambda function you created.\n",
    "\n",
    "The last step in creating the API Gateway is to select the **Actions** dropdown and click on **Deploy API**. You will need to create a new Deployment stage and name it anything you like, for example `prod`.\n",
    "\n",
    "You have now successfully set up a public API to access your SageMaker model. Make sure to copy or write down the URL provided to invoke your newly created public API as this will be needed in the next step. This URL can be found at the top of the page, highlighted in blue next to the text **Invoke URL**."
   ]
  },
  {
   "cell_type": "markdown",
   "metadata": {},
   "source": [
    "## Step 4: Deploying our web app\n",
    "\n",
    "Now that we have a publicly available API, we can start using it in a web app. For our purposes, we have provided a simple static html file which can make use of the public api you created earlier.\n",
    "\n",
    "In the `website` folder there should be a file called `index.html`. Download the file to your computer and open that file up in a text editor of your choice. There should be a line which contains **\\*\\*REPLACE WITH PUBLIC API URL\\*\\***. Replace this string with the url that you wrote down in the last step and then save the file.\n",
    "\n",
    "Now, if you open `index.html` on your local computer, your browser will behave as a local web server and you can use the provided site to interact with your SageMaker model.\n",
    "\n",
    "If you'd like to go further, you can host this html file anywhere you'd like, for example using github or hosting a static site on Amazon's S3. Once you have done this you can share the link with anyone you'd like and have them play with it too!\n",
    "\n",
    "> **Important Note** In order for the web app to communicate with the SageMaker endpoint, the endpoint has to actually be deployed and running. This means that you are paying for it. Make sure that the endpoint is running when you want to use the web app but that you shut it down when you don't need it, otherwise you will end up with a surprisingly large AWS bill.\n",
    "\n",
    "**TODO:** Make sure that you include the edited `index.html` file in your project submission."
   ]
  },
  {
   "cell_type": "markdown",
   "metadata": {},
   "source": [
    "Now that your web app is working, trying playing around with it and see how well it works.\n",
    "\n",
    "**Question**: Give an example of a review that you entered into your web app. What was the predicted sentiment of your example review?"
   ]
  },
  {
   "cell_type": "markdown",
   "metadata": {},
   "source": [
    "**Answer:**i entered the review of :\n",
    "the Movie is too good to watch\n",
    "review: your review was positive.\n"
   ]
  },
  {
   "cell_type": "markdown",
   "metadata": {},
   "source": [
    "### Delete the endpoint\n",
    "\n",
    "Remember to always shut down your endpoint if you are no longer using it. You are charged for the length of time that the endpoint is running so if you forget and leave it on you could end up with an unexpectedly large bill."
   ]
  },
  {
   "cell_type": "code",
   "execution_count": 55,
   "metadata": {},
   "outputs": [],
   "source": [
    "predictor.delete_endpoint()"
   ]
  },
  {
   "cell_type": "code",
   "execution_count": null,
   "metadata": {},
   "outputs": [],
   "source": []
  }
 ],
 "metadata": {
  "kernelspec": {
   "display_name": "conda_pytorch_p36",
   "language": "python",
   "name": "conda_pytorch_p36"
  },
  "language_info": {
   "codemirror_mode": {
    "name": "ipython",
    "version": 3
   },
   "file_extension": ".py",
   "mimetype": "text/x-python",
   "name": "python",
   "nbconvert_exporter": "python",
   "pygments_lexer": "ipython3",
   "version": "3.6.5"
  }
 },
 "nbformat": 4,
 "nbformat_minor": 2
}
